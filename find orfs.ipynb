{
 "cells": [
  {
   "cell_type": "code",
   "execution_count": 211,
   "metadata": {},
   "outputs": [],
   "source": [
    "import itertools\n",
    "import sys, os\n",
    "\n",
    "import numpy as np\n",
    "import pandas as pd\n",
    "from scipy.special import comb\n",
    "from scipy import stats\n",
    "import scipy.cluster.hierarchy as hac\n",
    "import matplotlib.pyplot as plt\n",
    "plt.style.use('classic')\n",
    "%matplotlib inline\n",
    "import numpy as np\n",
    "import pandas as pd\n",
    "import seaborn as sns\n",
    "\n",
    "from collections import Counter\n",
    "from sklearn.decomposition import PCA\n",
    "from sklearn.preprocessing import StandardScaler\n",
    "\n",
    "sns.set(rc={'figure.figsize':(15,8)})\n",
    "sns.set_context('poster')"
   ]
  },
  {
   "cell_type": "code",
   "execution_count": 212,
   "metadata": {},
   "outputs": [
    {
     "name": "stdout",
     "output_type": "stream",
     "text": [
      "The autoreload extension is already loaded. To reload it, use:\n",
      "  %reload_ext autoreload\n"
     ]
    }
   ],
   "source": [
    "%load_ext autoreload\n",
    "%autoreload 2\n",
    "#import CCPA_lib as cp\n",
    "import sorf_lib as sf"
   ]
  },
  {
   "cell_type": "code",
   "execution_count": 213,
   "metadata": {},
   "outputs": [],
   "source": [
    "sns.set_context('poster')"
   ]
  },
  {
   "cell_type": "markdown",
   "metadata": {},
   "source": [
    "\n",
    "![](http://oregonstate.edu/instruct/bb450/fall14/stryer7/2/table_02_02.jpg)"
   ]
  },
  {
   "cell_type": "markdown",
   "metadata": {},
   "source": [
    "https://www.uniprot.org/uniprot/Q7V735\n",
    "\n",
    "http://tigrfams.jcvi.org/cgi-bin/HmmReportPage.cgi?acc=TIGR03798\n",
    "\n",
    "https://www.ebi.ac.uk/training/online/course/interpro-functional-and-structural-analysis-protei/sequence-searching/searching-interpro-batc\n",
    "\n",
    "http://www.ebi.ac.uk/interpro/sequencesearch/iprscan5-S20190707-131508-0462-76111813-p1m\n",
    "\n",
    "https://www.ebi.ac.uk/Tools/services/rest/iprscan5/result/iprscan5-S20190707-131508-0462-76111813-p1m/json"
   ]
  },
  {
   "cell_type": "raw",
   "metadata": {},
   "source": [
    "6 frame translation\n",
    "classify ORFs into:\n",
    "* known gene\n",
    "* inside gene (part of gene/antisense)\n",
    "* extending gene\n",
    "* outside of gene (independent/operon?)\n"
   ]
  },
  {
   "cell_type": "code",
   "execution_count": 214,
   "metadata": {
    "scrolled": false
   },
   "outputs": [
    {
     "data": {
      "text/html": [
       "<div>\n",
       "<style scoped>\n",
       "    .dataframe tbody tr th:only-of-type {\n",
       "        vertical-align: middle;\n",
       "    }\n",
       "\n",
       "    .dataframe tbody tr th {\n",
       "        vertical-align: top;\n",
       "    }\n",
       "\n",
       "    .dataframe thead th {\n",
       "        text-align: right;\n",
       "    }\n",
       "</style>\n",
       "<table border=\"1\" class=\"dataframe\">\n",
       "  <thead>\n",
       "    <tr style=\"text-align: right;\">\n",
       "      <th></th>\n",
       "      <th>orfid</th>\n",
       "      <th>contig</th>\n",
       "      <th>left</th>\n",
       "      <th>right</th>\n",
       "      <th>start</th>\n",
       "      <th>stop</th>\n",
       "      <th>strand</th>\n",
       "      <th>aaseq</th>\n",
       "      <th>len_nn</th>\n",
       "      <th>len_aa</th>\n",
       "      <th>len_aa3</th>\n",
       "      <th>rast_left</th>\n",
       "      <th>rast_right</th>\n",
       "    </tr>\n",
       "  </thead>\n",
       "  <tbody>\n",
       "    <tr>\n",
       "      <th>0</th>\n",
       "      <td>ORF1_BX548174.1:2043:4382</td>\n",
       "      <td>BX548174.1</td>\n",
       "      <td>2043</td>\n",
       "      <td>4382</td>\n",
       "      <td>2043</td>\n",
       "      <td>4382</td>\n",
       "      <td>+</td>\n",
       "      <td>MIDSSSNNTYDVNESLKVENLTRDDYEEICKRLGRKPNRTELGMFG...</td>\n",
       "      <td>2340</td>\n",
       "      <td>779</td>\n",
       "      <td>2340</td>\n",
       "      <td>2044</td>\n",
       "      <td>4383</td>\n",
       "    </tr>\n",
       "    <tr>\n",
       "      <th>1</th>\n",
       "      <td>ORF2_BX548174.1:13470:14525</td>\n",
       "      <td>BX548174.1</td>\n",
       "      <td>13470</td>\n",
       "      <td>14525</td>\n",
       "      <td>13470</td>\n",
       "      <td>14525</td>\n",
       "      <td>+</td>\n",
       "      <td>MDDEIKSYFNNFDFSKNFKLKDDISFEKVLNNQFKEYVIKSYKVLS...</td>\n",
       "      <td>1056</td>\n",
       "      <td>351</td>\n",
       "      <td>1056</td>\n",
       "      <td>13471</td>\n",
       "      <td>14526</td>\n",
       "    </tr>\n",
       "    <tr>\n",
       "      <th>2</th>\n",
       "      <td>ORF3_BX548174.1:44304:46964</td>\n",
       "      <td>BX548174.1</td>\n",
       "      <td>44304</td>\n",
       "      <td>46964</td>\n",
       "      <td>44304</td>\n",
       "      <td>46964</td>\n",
       "      <td>+</td>\n",
       "      <td>MKSQTKNTPITGDEIRKEFLNFYHEKLHKIIPSASLIPDDPTVMLT...</td>\n",
       "      <td>2661</td>\n",
       "      <td>886</td>\n",
       "      <td>2661</td>\n",
       "      <td>44305</td>\n",
       "      <td>46965</td>\n",
       "    </tr>\n",
       "    <tr>\n",
       "      <th>3</th>\n",
       "      <td>ORF4_BX548174.1:72447:74375</td>\n",
       "      <td>BX548174.1</td>\n",
       "      <td>72447</td>\n",
       "      <td>74375</td>\n",
       "      <td>72447</td>\n",
       "      <td>74375</td>\n",
       "      <td>+</td>\n",
       "      <td>MNNAKNLKIKQIDKKNISFKELSLIKNIIFWVDIIPGDQTQKNAIF...</td>\n",
       "      <td>1929</td>\n",
       "      <td>642</td>\n",
       "      <td>1929</td>\n",
       "      <td>72448</td>\n",
       "      <td>74376</td>\n",
       "    </tr>\n",
       "    <tr>\n",
       "      <th>4</th>\n",
       "      <td>ORF5_BX548174.1:86775:87959</td>\n",
       "      <td>BX548174.1</td>\n",
       "      <td>86775</td>\n",
       "      <td>87959</td>\n",
       "      <td>86775</td>\n",
       "      <td>87959</td>\n",
       "      <td>+</td>\n",
       "      <td>MKSIKKPIVIVGAGFGGMTVASNLKELNPSLPILVVDSEAKFIFKP...</td>\n",
       "      <td>1185</td>\n",
       "      <td>394</td>\n",
       "      <td>1185</td>\n",
       "      <td>86776</td>\n",
       "      <td>87960</td>\n",
       "    </tr>\n",
       "  </tbody>\n",
       "</table>\n",
       "</div>"
      ],
      "text/plain": [
       "                         orfid      contig   left  right  start   stop strand  \\\n",
       "0    ORF1_BX548174.1:2043:4382  BX548174.1   2043   4382   2043   4382      +   \n",
       "1  ORF2_BX548174.1:13470:14525  BX548174.1  13470  14525  13470  14525      +   \n",
       "2  ORF3_BX548174.1:44304:46964  BX548174.1  44304  46964  44304  46964      +   \n",
       "3  ORF4_BX548174.1:72447:74375  BX548174.1  72447  74375  72447  74375      +   \n",
       "4  ORF5_BX548174.1:86775:87959  BX548174.1  86775  87959  86775  87959      +   \n",
       "\n",
       "                                               aaseq  len_nn  len_aa  len_aa3  \\\n",
       "0  MIDSSSNNTYDVNESLKVENLTRDDYEEICKRLGRKPNRTELGMFG...    2340     779     2340   \n",
       "1  MDDEIKSYFNNFDFSKNFKLKDDISFEKVLNNQFKEYVIKSYKVLS...    1056     351     1056   \n",
       "2  MKSQTKNTPITGDEIRKEFLNFYHEKLHKIIPSASLIPDDPTVMLT...    2661     886     2661   \n",
       "3  MNNAKNLKIKQIDKKNISFKELSLIKNIIFWVDIIPGDQTQKNAIF...    1929     642     1929   \n",
       "4  MKSIKKPIVIVGAGFGGMTVASNLKELNPSLPILVVDSEAKFIFKP...    1185     394     1185   \n",
       "\n",
       "   rast_left  rast_right  \n",
       "0       2044        4383  \n",
       "1      13471       14526  \n",
       "2      44305       46965  \n",
       "3      72448       74376  \n",
       "4      86776       87960  "
      ]
     },
     "execution_count": 214,
     "metadata": {},
     "output_type": "execute_result"
    }
   ],
   "source": [
    "df = sf.parse_orffinder_fasta(os.path.join('orffinder_tmp', 'BX548174.orffinder.fa'))\n",
    "df.head()"
   ]
  },
  {
   "cell_type": "code",
   "execution_count": 215,
   "metadata": {},
   "outputs": [
    {
     "data": {
      "text/html": [
       "<div>\n",
       "<style scoped>\n",
       "    .dataframe tbody tr th:only-of-type {\n",
       "        vertical-align: middle;\n",
       "    }\n",
       "\n",
       "    .dataframe tbody tr th {\n",
       "        vertical-align: top;\n",
       "    }\n",
       "\n",
       "    .dataframe thead th {\n",
       "        text-align: right;\n",
       "    }\n",
       "</style>\n",
       "<table border=\"1\" class=\"dataframe\">\n",
       "  <thead>\n",
       "    <tr style=\"text-align: right;\">\n",
       "      <th></th>\n",
       "      <th>orfid</th>\n",
       "      <th>contig</th>\n",
       "      <th>left</th>\n",
       "      <th>right</th>\n",
       "      <th>start</th>\n",
       "      <th>stop</th>\n",
       "      <th>strand</th>\n",
       "      <th>aaseq</th>\n",
       "      <th>len_nn</th>\n",
       "      <th>len_aa</th>\n",
       "      <th>len_aa3</th>\n",
       "      <th>rast_left</th>\n",
       "      <th>rast_right</th>\n",
       "    </tr>\n",
       "  </thead>\n",
       "  <tbody>\n",
       "  </tbody>\n",
       "</table>\n",
       "</div>"
      ],
      "text/plain": [
       "Empty DataFrame\n",
       "Columns: [orfid, contig, left, right, start, stop, strand, aaseq, len_nn, len_aa, len_aa3, rast_left, rast_right]\n",
       "Index: []"
      ]
     },
     "execution_count": 215,
     "metadata": {},
     "output_type": "execute_result"
    }
   ],
   "source": [
    "df.loc[df.len_aa3 != df.len_nn]"
   ]
  },
  {
   "cell_type": "code",
   "execution_count": 216,
   "metadata": {},
   "outputs": [],
   "source": [
    "gdf = sf.load_genome('MED4')"
   ]
  },
  {
   "cell_type": "code",
   "execution_count": 217,
   "metadata": {},
   "outputs": [
    {
     "data": {
      "text/html": [
       "<div>\n",
       "<style scoped>\n",
       "    .dataframe tbody tr th:only-of-type {\n",
       "        vertical-align: middle;\n",
       "    }\n",
       "\n",
       "    .dataframe tbody tr th {\n",
       "        vertical-align: top;\n",
       "    }\n",
       "\n",
       "    .dataframe thead th {\n",
       "        text-align: right;\n",
       "    }\n",
       "</style>\n",
       "<table border=\"1\" class=\"dataframe\">\n",
       "  <thead>\n",
       "    <tr style=\"text-align: right;\">\n",
       "      <th></th>\n",
       "      <th>contig_id</th>\n",
       "      <th>gene_id</th>\n",
       "      <th>feature_id</th>\n",
       "      <th>type</th>\n",
       "      <th>location</th>\n",
       "      <th>start</th>\n",
       "      <th>stop</th>\n",
       "      <th>strand</th>\n",
       "      <th>function</th>\n",
       "      <th>aliases</th>\n",
       "      <th>figfam</th>\n",
       "      <th>evidence_codes</th>\n",
       "      <th>nucleotide_sequence</th>\n",
       "      <th>aa_sequence</th>\n",
       "      <th>genome</th>\n",
       "      <th>left</th>\n",
       "      <th>right</th>\n",
       "    </tr>\n",
       "  </thead>\n",
       "  <tbody>\n",
       "    <tr>\n",
       "      <th>0</th>\n",
       "      <td>MED4</td>\n",
       "      <td>PMED4_0001</td>\n",
       "      <td>fig|1218.84.peg.1</td>\n",
       "      <td>peg</td>\n",
       "      <td>MED4_174_1331</td>\n",
       "      <td>174</td>\n",
       "      <td>1331</td>\n",
       "      <td>+</td>\n",
       "      <td>DNA polymerase III beta subunit (EC 2.7.7.7)</td>\n",
       "      <td>NaN</td>\n",
       "      <td>FIG00066425</td>\n",
       "      <td>isu;DNA-replication isu;DNA_replication_cluster_1</td>\n",
       "      <td>atggagattgtttgtaatcaaaatgaatttaattatgctattcaat...</td>\n",
       "      <td>MEIVCNQNEFNYAIQLVSKAVASRPTHPILANLLLTADQGTNKISL...</td>\n",
       "      <td>MED4</td>\n",
       "      <td>174</td>\n",
       "      <td>1331</td>\n",
       "    </tr>\n",
       "    <tr>\n",
       "      <th>1</th>\n",
       "      <td>MED4</td>\n",
       "      <td>PMED4_0002</td>\n",
       "      <td>fig|1218.84.peg.2</td>\n",
       "      <td>peg</td>\n",
       "      <td>MED4_1333_2040</td>\n",
       "      <td>1333</td>\n",
       "      <td>2040</td>\n",
       "      <td>+</td>\n",
       "      <td>hypothetical protein</td>\n",
       "      <td>NaN</td>\n",
       "      <td>NaN</td>\n",
       "      <td>NaN</td>\n",
       "      <td>ttgaaattaccaaaagaatttttattaagtgaattattaagacata...</td>\n",
       "      <td>MKLPKEFLLSELLRHNVKGNATLNYGKGENVWMHPPVHRILGWYSR...</td>\n",
       "      <td>MED4</td>\n",
       "      <td>1333</td>\n",
       "      <td>2040</td>\n",
       "    </tr>\n",
       "    <tr>\n",
       "      <th>2</th>\n",
       "      <td>MED4</td>\n",
       "      <td>PMED4_0003</td>\n",
       "      <td>fig|1218.84.peg.3</td>\n",
       "      <td>peg</td>\n",
       "      <td>MED4_2044_4383</td>\n",
       "      <td>2044</td>\n",
       "      <td>4383</td>\n",
       "      <td>+</td>\n",
       "      <td>Phosphoribosylformylglycinamidine synthase, sy...</td>\n",
       "      <td>NaN</td>\n",
       "      <td>FIG01303876</td>\n",
       "      <td>icw(1);De_Novo_Purine_Biosynthesis</td>\n",
       "      <td>atgatagattcttcaagtaacaatacttatgatgttaatgaatcac...</td>\n",
       "      <td>MIDSSSNNTYDVNESLKVENLTRDDYEEICKRLGRKPNRTELGMFG...</td>\n",
       "      <td>MED4</td>\n",
       "      <td>2044</td>\n",
       "      <td>4383</td>\n",
       "    </tr>\n",
       "    <tr>\n",
       "      <th>3</th>\n",
       "      <td>MED4</td>\n",
       "      <td>PMED4_0004</td>\n",
       "      <td>fig|1218.84.peg.4</td>\n",
       "      <td>peg</td>\n",
       "      <td>MED4_4430_5890</td>\n",
       "      <td>4430</td>\n",
       "      <td>5890</td>\n",
       "      <td>+</td>\n",
       "      <td>Amidophosphoribosyltransferase (EC 2.4.2.14)</td>\n",
       "      <td>NaN</td>\n",
       "      <td>FIG00000179</td>\n",
       "      <td>isu;YgfZ isu;De_Novo_Purine_Biosynthesis</td>\n",
       "      <td>atgtgtggaattgttggaattgtttcttgtgatgatgtaaatcaac...</td>\n",
       "      <td>MCGIVGIVSCDDVNQQIYDSLLLLQHRGQDSTGIATMENTVFHIHK...</td>\n",
       "      <td>MED4</td>\n",
       "      <td>4430</td>\n",
       "      <td>5890</td>\n",
       "    </tr>\n",
       "    <tr>\n",
       "      <th>4</th>\n",
       "      <td>MED4</td>\n",
       "      <td>PMED4_0005</td>\n",
       "      <td>fig|1218.84.peg.5</td>\n",
       "      <td>peg</td>\n",
       "      <td>MED4_8259_5887</td>\n",
       "      <td>8259</td>\n",
       "      <td>5887</td>\n",
       "      <td>-</td>\n",
       "      <td>DNA gyrase subunit A (EC 5.99.1.3)</td>\n",
       "      <td>NaN</td>\n",
       "      <td>FIG00000080</td>\n",
       "      <td>idu(1);DNA_gyrase_subunits idu(1);DNA_topoisom...</td>\n",
       "      <td>atgagtgtgataataggacgtgctttacctgatgcaagagatggac...</td>\n",
       "      <td>MSVIIGRALPDARDGLKPVQRRILFAMHELGLTPDRPFRKCARVVG...</td>\n",
       "      <td>MED4</td>\n",
       "      <td>5887</td>\n",
       "      <td>8259</td>\n",
       "    </tr>\n",
       "  </tbody>\n",
       "</table>\n",
       "</div>"
      ],
      "text/plain": [
       "  contig_id     gene_id         feature_id type        location  start  stop  \\\n",
       "0      MED4  PMED4_0001  fig|1218.84.peg.1  peg   MED4_174_1331    174  1331   \n",
       "1      MED4  PMED4_0002  fig|1218.84.peg.2  peg  MED4_1333_2040   1333  2040   \n",
       "2      MED4  PMED4_0003  fig|1218.84.peg.3  peg  MED4_2044_4383   2044  4383   \n",
       "3      MED4  PMED4_0004  fig|1218.84.peg.4  peg  MED4_4430_5890   4430  5890   \n",
       "4      MED4  PMED4_0005  fig|1218.84.peg.5  peg  MED4_8259_5887   8259  5887   \n",
       "\n",
       "  strand                                           function  aliases  \\\n",
       "0      +       DNA polymerase III beta subunit (EC 2.7.7.7)      NaN   \n",
       "1      +                               hypothetical protein      NaN   \n",
       "2      +  Phosphoribosylformylglycinamidine synthase, sy...      NaN   \n",
       "3      +       Amidophosphoribosyltransferase (EC 2.4.2.14)      NaN   \n",
       "4      -                 DNA gyrase subunit A (EC 5.99.1.3)      NaN   \n",
       "\n",
       "        figfam                                     evidence_codes  \\\n",
       "0  FIG00066425  isu;DNA-replication isu;DNA_replication_cluster_1   \n",
       "1          NaN                                                NaN   \n",
       "2  FIG01303876                 icw(1);De_Novo_Purine_Biosynthesis   \n",
       "3  FIG00000179           isu;YgfZ isu;De_Novo_Purine_Biosynthesis   \n",
       "4  FIG00000080  idu(1);DNA_gyrase_subunits idu(1);DNA_topoisom...   \n",
       "\n",
       "                                 nucleotide_sequence  \\\n",
       "0  atggagattgtttgtaatcaaaatgaatttaattatgctattcaat...   \n",
       "1  ttgaaattaccaaaagaatttttattaagtgaattattaagacata...   \n",
       "2  atgatagattcttcaagtaacaatacttatgatgttaatgaatcac...   \n",
       "3  atgtgtggaattgttggaattgtttcttgtgatgatgtaaatcaac...   \n",
       "4  atgagtgtgataataggacgtgctttacctgatgcaagagatggac...   \n",
       "\n",
       "                                         aa_sequence genome  left  right  \n",
       "0  MEIVCNQNEFNYAIQLVSKAVASRPTHPILANLLLTADQGTNKISL...   MED4   174   1331  \n",
       "1  MKLPKEFLLSELLRHNVKGNATLNYGKGENVWMHPPVHRILGWYSR...   MED4  1333   2040  \n",
       "2  MIDSSSNNTYDVNESLKVENLTRDDYEEICKRLGRKPNRTELGMFG...   MED4  2044   4383  \n",
       "3  MCGIVGIVSCDDVNQQIYDSLLLLQHRGQDSTGIATMENTVFHIHK...   MED4  4430   5890  \n",
       "4  MSVIIGRALPDARDGLKPVQRRILFAMHELGLTPDRPFRKCARVVG...   MED4  5887   8259  "
      ]
     },
     "execution_count": 217,
     "metadata": {},
     "output_type": "execute_result"
    }
   ],
   "source": [
    "gdf.head()"
   ]
  },
  {
   "cell_type": "code",
   "execution_count": 218,
   "metadata": {},
   "outputs": [],
   "source": [
    "df = sf.add_gene_annotation_to_sorf_df(df, gdf)"
   ]
  },
  {
   "cell_type": "code",
   "execution_count": 219,
   "metadata": {},
   "outputs": [],
   "source": [
    "df = sf.add_overlapping_genes(df, gdf)"
   ]
  },
  {
   "cell_type": "code",
   "execution_count": 220,
   "metadata": {},
   "outputs": [],
   "source": [
    "df = sf.add_overlap_type(df)"
   ]
  },
  {
   "cell_type": "code",
   "execution_count": 221,
   "metadata": {},
   "outputs": [
    {
     "data": {
      "text/plain": [
       "Index(['orfid', 'contig', 'left', 'right', 'start', 'stop', 'strand', 'aaseq',\n",
       "       'len_nn', 'len_aa', 'len_aa3', 'rast_left', 'rast_right', 'contig_id',\n",
       "       'gene_id', 'type', 'start_rast', 'stop_rast', 'function', 'figfam',\n",
       "       'nucleotide_sequence', 'aa_sequence', 'genome', 'left_rast',\n",
       "       'right_rast', 'overlapping_gene_id', 'overlap_type'],\n",
       "      dtype='object')"
      ]
     },
     "execution_count": 221,
     "metadata": {},
     "output_type": "execute_result"
    }
   ],
   "source": [
    "df.columns"
   ]
  },
  {
   "cell_type": "code",
   "execution_count": 222,
   "metadata": {},
   "outputs": [
    {
     "data": {
      "text/plain": [
       "<seaborn.axisgrid.FacetGrid at 0x18a056ea208>"
      ]
     },
     "execution_count": 222,
     "metadata": {},
     "output_type": "execute_result"
    },
    {
     "data": {
      "image/png": "[encoded data removed]",
      "text/plain": [
       "<Figure size 504x360 with 1 Axes>"
      ]
     },
     "metadata": {},
     "output_type": "display_data"
    }
   ],
   "source": [
    "sns.catplot(data=df, x='overlap_type', kind='count', aspect=1.4)"
   ]
  },
  {
   "cell_type": "code",
   "execution_count": 223,
   "metadata": {},
   "outputs": [
    {
     "data": {
      "text/plain": [
       "<seaborn.axisgrid.FacetGrid at 0x18a081b9550>"
      ]
     },
     "execution_count": 223,
     "metadata": {},
     "output_type": "execute_result"
    },
    {
     "data": {
      "image/png": "[encoded data removed]",
      "text/plain": [
       "<Figure size 504x360 with 1 Axes>"
      ]
     },
     "metadata": {},
     "output_type": "display_data"
    }
   ],
   "source": [
    "sns.catplot(data=df, x='overlap_type', y='len_aa', aspect=1.4)"
   ]
  },
  {
   "cell_type": "code",
   "execution_count": 224,
   "metadata": {},
   "outputs": [
    {
     "data": {
      "text/plain": [
       "<matplotlib.legend.Legend at 0x18a05ce8198>"
      ]
     },
     "execution_count": 224,
     "metadata": {},
     "output_type": "execute_result"
    },
    {
     "data": {
      "image/png": "[encoded data removed]",
      "text/plain": [
       "<Figure size 1080x576 with 1 Axes>"
      ]
     },
     "metadata": {},
     "output_type": "display_data"
    }
   ],
   "source": [
    "for i in df.overlap_type.unique():\n",
    "    sns.distplot(df.loc[df.overlap_type == i].len_aa, label=i, kde=False)\n",
    "plt.legend()"
   ]
  },
  {
   "cell_type": "code",
   "execution_count": 225,
   "metadata": {},
   "outputs": [
    {
     "data": {
      "text/plain": [
       "'CP007753'"
      ]
     },
     "execution_count": 225,
     "metadata": {},
     "output_type": "execute_result"
    }
   ],
   "source": [
    "sf.get_accession('MIT0604')"
   ]
  },
  {
   "cell_type": "code",
   "execution_count": 226,
   "metadata": {},
   "outputs": [],
   "source": [
    "metadf1 = pd.read_excel(os.path.join('data', 'metadata_pro_biller.xlsx'), sheet_name='Sheet1')\n",
    "metadf2 = pd.read_excel(os.path.join('data', 'metadata_pro_biller.xlsx'), sheet_name='Sheet2')\n"
   ]
  },
  {
   "cell_type": "code",
   "execution_count": 227,
   "metadata": {},
   "outputs": [
    {
     "data": {
      "text/plain": [
       "Index(['Strain', 'Clade', 'Assembly size (bp)', '%GC', 'No. contigs',\n",
       "       'N50 (bp)', 'No. coding sequences', 'NCBI accession'],\n",
       "      dtype='object')"
      ]
     },
     "execution_count": 227,
     "metadata": {},
     "output_type": "execute_result"
    }
   ],
   "source": [
    "metadf2.columns"
   ]
  },
  {
   "cell_type": "code",
   "execution_count": 228,
   "metadata": {},
   "outputs": [],
   "source": [
    "genome = 'GP2'"
   ]
  },
  {
   "cell_type": "code",
   "execution_count": 229,
   "metadata": {},
   "outputs": [
    {
     "data": {
      "text/plain": [
       "(array([], dtype=object), array(['JNAH00000000'], dtype=object))"
      ]
     },
     "execution_count": 229,
     "metadata": {},
     "output_type": "execute_result"
    }
   ],
   "source": [
    "metadf1.loc[metadf1.Name == genome, 'NCBI accession'].unique(), metadf2.loc[metadf2.Strain == genome, 'NCBI accession'].unique()"
   ]
  },
  {
   "cell_type": "code",
   "execution_count": 230,
   "metadata": {},
   "outputs": [
    {
     "data": {
      "text/html": [
       "<div>\n",
       "<style scoped>\n",
       "    .dataframe tbody tr th:only-of-type {\n",
       "        vertical-align: middle;\n",
       "    }\n",
       "\n",
       "    .dataframe tbody tr th {\n",
       "        vertical-align: top;\n",
       "    }\n",
       "\n",
       "    .dataframe thead th {\n",
       "        text-align: right;\n",
       "    }\n",
       "</style>\n",
       "<table border=\"1\" class=\"dataframe\">\n",
       "  <thead>\n",
       "    <tr style=\"text-align: right;\">\n",
       "      <th></th>\n",
       "      <th>Strain</th>\n",
       "      <th>Clade</th>\n",
       "      <th>Assembly size (bp)</th>\n",
       "      <th>%GC</th>\n",
       "      <th>No. contigs</th>\n",
       "      <th>N50 (bp)</th>\n",
       "      <th>No. coding sequences</th>\n",
       "      <th>NCBI accession</th>\n",
       "    </tr>\n",
       "  </thead>\n",
       "  <tbody>\n",
       "    <tr>\n",
       "      <th>0</th>\n",
       "      <td>EQPAC1</td>\n",
       "      <td>HLI</td>\n",
       "      <td>1654739</td>\n",
       "      <td>30.8</td>\n",
       "      <td>8</td>\n",
       "      <td>328627</td>\n",
       "      <td>1954</td>\n",
       "      <td>JNAG00000000</td>\n",
       "    </tr>\n",
       "    <tr>\n",
       "      <th>1</th>\n",
       "      <td>GP2</td>\n",
       "      <td>HLII</td>\n",
       "      <td>1624310</td>\n",
       "      <td>31.2</td>\n",
       "      <td>11</td>\n",
       "      <td>416038</td>\n",
       "      <td>1884</td>\n",
       "      <td>JNAH00000000</td>\n",
       "    </tr>\n",
       "    <tr>\n",
       "      <th>2</th>\n",
       "      <td>MIT0604</td>\n",
       "      <td>HLII</td>\n",
       "      <td>1780061</td>\n",
       "      <td>31.2</td>\n",
       "      <td>1</td>\n",
       "      <td>1780061</td>\n",
       "      <td>2085</td>\n",
       "      <td>CP007753</td>\n",
       "    </tr>\n",
       "    <tr>\n",
       "      <th>3</th>\n",
       "      <td>MIT9107</td>\n",
       "      <td>HLII</td>\n",
       "      <td>1699937</td>\n",
       "      <td>31.0</td>\n",
       "      <td>13</td>\n",
       "      <td>170362</td>\n",
       "      <td>1991</td>\n",
       "      <td>JNAI00000000</td>\n",
       "    </tr>\n",
       "    <tr>\n",
       "      <th>4</th>\n",
       "      <td>MIT9116</td>\n",
       "      <td>HLII</td>\n",
       "      <td>1685398</td>\n",
       "      <td>31.0</td>\n",
       "      <td>22</td>\n",
       "      <td>117620</td>\n",
       "      <td>1972</td>\n",
       "      <td>JNAJ00000000</td>\n",
       "    </tr>\n",
       "  </tbody>\n",
       "</table>\n",
       "</div>"
      ],
      "text/plain": [
       "    Strain Clade  Assembly size (bp)   %GC  No. contigs  N50 (bp)  \\\n",
       "0   EQPAC1   HLI             1654739  30.8            8    328627   \n",
       "1      GP2  HLII             1624310  31.2           11    416038   \n",
       "2  MIT0604  HLII             1780061  31.2            1   1780061   \n",
       "3  MIT9107  HLII             1699937  31.0           13    170362   \n",
       "4  MIT9116  HLII             1685398  31.0           22    117620   \n",
       "\n",
       "   No. coding sequences NCBI accession  \n",
       "0                  1954   JNAG00000000  \n",
       "1                  1884   JNAH00000000  \n",
       "2                  2085       CP007753  \n",
       "3                  1991   JNAI00000000  \n",
       "4                  1972   JNAJ00000000  "
      ]
     },
     "execution_count": 230,
     "metadata": {},
     "output_type": "execute_result"
    }
   ],
   "source": [
    "metadf2.head()"
   ]
  },
  {
   "cell_type": "code",
   "execution_count": null,
   "metadata": {},
   "outputs": [],
   "source": []
  },
  {
   "cell_type": "code",
   "execution_count": null,
   "metadata": {},
   "outputs": [],
   "source": []
  }
 ],
 "metadata": {
  "kernelspec": {
   "display_name": "Python 3",
   "language": "python",
   "name": "python3"
  },
  "language_info": {
   "codemirror_mode": {
    "name": "ipython",
    "version": 3
   },
   "file_extension": ".py",
   "mimetype": "text/x-python",
   "name": "python",
   "nbconvert_exporter": "python",
   "pygments_lexer": "ipython3",
   "version": "3.7.3"
  }
 },
 "nbformat": 4,
 "nbformat_minor": 2
}
