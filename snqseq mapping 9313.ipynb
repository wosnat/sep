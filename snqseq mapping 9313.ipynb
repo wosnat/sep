{
 "cells": [
  {
   "cell_type": "raw",
   "metadata": {},
   "source": [
    "1    The read is one of a pair\n",
    "2    The alignment is one end of a proper paired-end alignment\n",
    "4    The read has no reported alignments\n",
    "8    The read is one of a pair and has no reported alignments\n",
    "16   The alignment is to the reverse reference strand\n",
    "32   The other mate in the paired-end alignment is aligned to the reverse reference strand\n",
    "64   The read is mate 1 in a pair\n",
    "128  The read is mate 2 in a pair"
   ]
  },
  {
   "cell_type": "code",
   "execution_count": 1,
   "metadata": {},
   "outputs": [],
   "source": [
    "import itertools\n",
    "import sys, os\n",
    "\n",
    "from scipy.special import comb\n",
    "from scipy import stats\n",
    "import scipy.cluster.hierarchy as hac\n",
    "import matplotlib.pyplot as plt\n",
    "import numpy as np\n",
    "import pandas as pd\n",
    "import seaborn as sns\n",
    "from sklearn.decomposition import PCA\n",
    "from sklearn.manifold import TSNE\n",
    "\n",
    "from sklearn.preprocessing import StandardScaler\n",
    "from matplotlib.colors import ListedColormap\n",
    "from mpl_toolkits.mplot3d import Axes3D\n",
    "from sklearn.linear_model import LinearRegression\n",
    "from sklearn import metrics\n",
    "from sklearn.ensemble import RandomForestClassifier\n",
    "from matplotlib.lines import Line2D\n",
    "import matplotlib.patches as mpatches\n",
    "from sklearn.metrics import classification_report, accuracy_score\n",
    "#import sklearn.metrics as metrics\n",
    "from sklearn.feature_selection import RFECV\n",
    "from sklearn.model_selection import StratifiedKFold\n",
    "from sklearn.model_selection import StratifiedShuffleSplit\n",
    "from sklearn.metrics import auc\n",
    "\n",
    "from scipy.optimize import least_squares\n",
    "from scipy.optimize import curve_fit\n",
    "from scipy import stats"
   ]
  },
  {
   "cell_type": "code",
   "execution_count": 17,
   "metadata": {},
   "outputs": [],
   "source": [
    "import sep_lib"
   ]
  },
  {
   "cell_type": "code",
   "execution_count": 2,
   "metadata": {},
   "outputs": [],
   "source": [
    "ann_df = pd.read_csv('MIT9313.txt', sep='\\t')"
   ]
  },
  {
   "cell_type": "code",
   "execution_count": 3,
   "metadata": {},
   "outputs": [
    {
     "data": {
      "text/html": [
       "<div>\n",
       "<style scoped>\n",
       "    .dataframe tbody tr th:only-of-type {\n",
       "        vertical-align: middle;\n",
       "    }\n",
       "\n",
       "    .dataframe tbody tr th {\n",
       "        vertical-align: top;\n",
       "    }\n",
       "\n",
       "    .dataframe thead th {\n",
       "        text-align: right;\n",
       "    }\n",
       "</style>\n",
       "<table border=\"1\" class=\"dataframe\">\n",
       "  <thead>\n",
       "    <tr style=\"text-align: right;\">\n",
       "      <th></th>\n",
       "      <th>contig_id</th>\n",
       "      <th>gene_id</th>\n",
       "      <th>feature_id</th>\n",
       "      <th>type</th>\n",
       "      <th>location</th>\n",
       "      <th>start</th>\n",
       "      <th>stop</th>\n",
       "      <th>strand</th>\n",
       "      <th>function</th>\n",
       "      <th>aliases</th>\n",
       "      <th>figfam</th>\n",
       "      <th>evidence_codes</th>\n",
       "      <th>nucleotide_sequence</th>\n",
       "      <th>aa_sequence</th>\n",
       "    </tr>\n",
       "  </thead>\n",
       "  <tbody>\n",
       "    <tr>\n",
       "      <th>0</th>\n",
       "      <td>MIT9313</td>\n",
       "      <td>PMIT9313_0001</td>\n",
       "      <td>fig|1218.91.peg.1</td>\n",
       "      <td>peg</td>\n",
       "      <td>MIT9313_174_1340</td>\n",
       "      <td>174</td>\n",
       "      <td>1340</td>\n",
       "      <td>+</td>\n",
       "      <td>DNA polymerase III beta subunit (EC 2.7.7.7)</td>\n",
       "      <td>NaN</td>\n",
       "      <td>FIG00066425</td>\n",
       "      <td>isu;DNA-replication isu;DNA_replication_cluster_1</td>\n",
       "      <td>atgaaactggtttgttcacaggctgaactcaatacagcactacagc...</td>\n",
       "      <td>MKLVCSQAELNTALQLVSRAVASRPTHPVLANVLLTADAGTDRLSL...</td>\n",
       "    </tr>\n",
       "    <tr>\n",
       "      <th>1</th>\n",
       "      <td>MIT9313</td>\n",
       "      <td>PMIT9313_0002</td>\n",
       "      <td>fig|1218.91.peg.2</td>\n",
       "      <td>peg</td>\n",
       "      <td>MIT9313_1368_2120</td>\n",
       "      <td>1368</td>\n",
       "      <td>2120</td>\n",
       "      <td>+</td>\n",
       "      <td>RNA metabolism-related protein</td>\n",
       "      <td>NaN</td>\n",
       "      <td>NaN</td>\n",
       "      <td>NaN</td>\n",
       "      <td>ttgagtgatttgttgcatcatcgtgtacgttgtgatcaggggttag...</td>\n",
       "      <td>MSDLLHHRVRCDQGLDHGPGVLPWMHPPVHRLLGWVSRPSALRVSR...</td>\n",
       "    </tr>\n",
       "    <tr>\n",
       "      <th>2</th>\n",
       "      <td>MIT9313</td>\n",
       "      <td>PMIT9313_0003</td>\n",
       "      <td>fig|1218.91.peg.3</td>\n",
       "      <td>peg</td>\n",
       "      <td>MIT9313_2160_4562</td>\n",
       "      <td>2160</td>\n",
       "      <td>4562</td>\n",
       "      <td>+</td>\n",
       "      <td>Phosphoribosylformylglycinamidine synthase, sy...</td>\n",
       "      <td>NaN</td>\n",
       "      <td>FIG01303876</td>\n",
       "      <td>icw(1);De_Novo_Purine_Biosynthesis</td>\n",
       "      <td>gtgtgtcagggccccgatttgagagttgactatgacgtggctgcgg...</td>\n",
       "      <td>MCQGPDLRVDYDVAAALRHEGLKPHDYDEICRRLQRAPNRVELGMF...</td>\n",
       "    </tr>\n",
       "    <tr>\n",
       "      <th>3</th>\n",
       "      <td>MIT9313</td>\n",
       "      <td>PMIT9313_0004</td>\n",
       "      <td>fig|1218.91.peg.4</td>\n",
       "      <td>peg</td>\n",
       "      <td>MIT9313_4622_6079</td>\n",
       "      <td>4622</td>\n",
       "      <td>6079</td>\n",
       "      <td>+</td>\n",
       "      <td>Amidophosphoribosyltransferase (EC 2.4.2.14)</td>\n",
       "      <td>NaN</td>\n",
       "      <td>FIG00000179</td>\n",
       "      <td>isu;De_Novo_Purine_Biosynthesis</td>\n",
       "      <td>atgtgtggcattgttggcattgtttctactgcgctggtcaatcagc...</td>\n",
       "      <td>MCGIVGIVSTALVNQQIYDSLLLLQHRGQDSTGIATMDGSVFHLHK...</td>\n",
       "    </tr>\n",
       "    <tr>\n",
       "      <th>4</th>\n",
       "      <td>MIT9313</td>\n",
       "      <td>PMIT9313_0005</td>\n",
       "      <td>fig|1218.91.peg.5</td>\n",
       "      <td>peg</td>\n",
       "      <td>MIT9313_8604_6115</td>\n",
       "      <td>8604</td>\n",
       "      <td>6115</td>\n",
       "      <td>-</td>\n",
       "      <td>DNA gyrase subunit A (EC 5.99.1.3)</td>\n",
       "      <td>NaN</td>\n",
       "      <td>FIG00000080</td>\n",
       "      <td>idu(1);DNA_gyrase_subunits idu(1);DNA_topoisom...</td>\n",
       "      <td>atggccgaggagcgccttcaaccaatcgcattgcatcaagagatgc...</td>\n",
       "      <td>MAEERLQPIALHQEMQRSYLEYAMSVIVGRALPDARDGLKPVQRRI...</td>\n",
       "    </tr>\n",
       "  </tbody>\n",
       "</table>\n",
       "</div>"
      ],
      "text/plain": [
       "  contig_id        gene_id         feature_id type           location  start  \\\n",
       "0   MIT9313  PMIT9313_0001  fig|1218.91.peg.1  peg   MIT9313_174_1340    174   \n",
       "1   MIT9313  PMIT9313_0002  fig|1218.91.peg.2  peg  MIT9313_1368_2120   1368   \n",
       "2   MIT9313  PMIT9313_0003  fig|1218.91.peg.3  peg  MIT9313_2160_4562   2160   \n",
       "3   MIT9313  PMIT9313_0004  fig|1218.91.peg.4  peg  MIT9313_4622_6079   4622   \n",
       "4   MIT9313  PMIT9313_0005  fig|1218.91.peg.5  peg  MIT9313_8604_6115   8604   \n",
       "\n",
       "   stop strand                                           function  aliases  \\\n",
       "0  1340      +       DNA polymerase III beta subunit (EC 2.7.7.7)      NaN   \n",
       "1  2120      +                     RNA metabolism-related protein      NaN   \n",
       "2  4562      +  Phosphoribosylformylglycinamidine synthase, sy...      NaN   \n",
       "3  6079      +       Amidophosphoribosyltransferase (EC 2.4.2.14)      NaN   \n",
       "4  6115      -                 DNA gyrase subunit A (EC 5.99.1.3)      NaN   \n",
       "\n",
       "        figfam                                     evidence_codes  \\\n",
       "0  FIG00066425  isu;DNA-replication isu;DNA_replication_cluster_1   \n",
       "1          NaN                                                NaN   \n",
       "2  FIG01303876                 icw(1);De_Novo_Purine_Biosynthesis   \n",
       "3  FIG00000179                    isu;De_Novo_Purine_Biosynthesis   \n",
       "4  FIG00000080  idu(1);DNA_gyrase_subunits idu(1);DNA_topoisom...   \n",
       "\n",
       "                                 nucleotide_sequence  \\\n",
       "0  atgaaactggtttgttcacaggctgaactcaatacagcactacagc...   \n",
       "1  ttgagtgatttgttgcatcatcgtgtacgttgtgatcaggggttag...   \n",
       "2  gtgtgtcagggccccgatttgagagttgactatgacgtggctgcgg...   \n",
       "3  atgtgtggcattgttggcattgtttctactgcgctggtcaatcagc...   \n",
       "4  atggccgaggagcgccttcaaccaatcgcattgcatcaagagatgc...   \n",
       "\n",
       "                                         aa_sequence  \n",
       "0  MKLVCSQAELNTALQLVSRAVASRPTHPVLANVLLTADAGTDRLSL...  \n",
       "1  MSDLLHHRVRCDQGLDHGPGVLPWMHPPVHRLLGWVSRPSALRVSR...  \n",
       "2  MCQGPDLRVDYDVAAALRHEGLKPHDYDEICRRLQRAPNRVELGMF...  \n",
       "3  MCGIVGIVSTALVNQQIYDSLLLLQHRGQDSTGIATMDGSVFHLHK...  \n",
       "4  MAEERLQPIALHQEMQRSYLEYAMSVIVGRALPDARDGLKPVQRRI...  "
      ]
     },
     "execution_count": 3,
     "metadata": {},
     "output_type": "execute_result"
    }
   ],
   "source": [
    "ann_df.head()\n"
   ]
  },
  {
   "cell_type": "code",
   "execution_count": 4,
   "metadata": {},
   "outputs": [
    {
     "data": {
      "text/plain": [
       "contig_id               object\n",
       "gene_id                 object\n",
       "feature_id              object\n",
       "type                    object\n",
       "location                object\n",
       "start                    int64\n",
       "stop                     int64\n",
       "strand                  object\n",
       "function                object\n",
       "aliases                float64\n",
       "figfam                  object\n",
       "evidence_codes          object\n",
       "nucleotide_sequence     object\n",
       "aa_sequence             object\n",
       "dtype: object"
      ]
     },
     "execution_count": 4,
     "metadata": {},
     "output_type": "execute_result"
    }
   ],
   "source": [
    "ann_df.dtypes"
   ]
  },
  {
   "cell_type": "code",
   "execution_count": 5,
   "metadata": {},
   "outputs": [],
   "source": [
    "ann_df['min_idx'] = ann_df[['start', 'stop']].min(axis=1)\n",
    "ann_df['max_idx'] = ann_df[['start', 'stop']].max(axis=1)\n",
    "ann_df['inter_stop_idx'] = ann_df.min_idx.shift(-1)\n",
    "ann_df['inter_length'] = ann_df.inter_stop_idx - ann_df.max_idx\n",
    "ann_df['gene_length'] = ann_df.max_idx - ann_df.min_idx\n"
   ]
  },
  {
   "cell_type": "code",
   "execution_count": 6,
   "metadata": {},
   "outputs": [],
   "source": [
    "ann_df['gene_is_reversed'] = (ann_df['strand'] == '-')"
   ]
  },
  {
   "cell_type": "code",
   "execution_count": 7,
   "metadata": {},
   "outputs": [],
   "source": [
    "ann_df['inter_length'] = ann_df.inter_length.fillna(0)"
   ]
  },
  {
   "cell_type": "code",
   "execution_count": 8,
   "metadata": {},
   "outputs": [
    {
     "data": {
      "text/html": [
       "<div>\n",
       "<style scoped>\n",
       "    .dataframe tbody tr th:only-of-type {\n",
       "        vertical-align: middle;\n",
       "    }\n",
       "\n",
       "    .dataframe tbody tr th {\n",
       "        vertical-align: top;\n",
       "    }\n",
       "\n",
       "    .dataframe thead th {\n",
       "        text-align: right;\n",
       "    }\n",
       "</style>\n",
       "<table border=\"1\" class=\"dataframe\">\n",
       "  <thead>\n",
       "    <tr style=\"text-align: right;\">\n",
       "      <th></th>\n",
       "      <th>contig_id</th>\n",
       "      <th>gene_id</th>\n",
       "      <th>feature_id</th>\n",
       "      <th>type</th>\n",
       "      <th>location</th>\n",
       "      <th>start</th>\n",
       "      <th>stop</th>\n",
       "      <th>strand</th>\n",
       "      <th>function</th>\n",
       "      <th>aliases</th>\n",
       "      <th>figfam</th>\n",
       "      <th>evidence_codes</th>\n",
       "      <th>nucleotide_sequence</th>\n",
       "      <th>aa_sequence</th>\n",
       "      <th>min_idx</th>\n",
       "      <th>max_idx</th>\n",
       "      <th>inter_stop_idx</th>\n",
       "      <th>inter_length</th>\n",
       "      <th>gene_length</th>\n",
       "      <th>gene_is_reversed</th>\n",
       "    </tr>\n",
       "  </thead>\n",
       "  <tbody>\n",
       "    <tr>\n",
       "      <th>0</th>\n",
       "      <td>MIT9313</td>\n",
       "      <td>PMIT9313_0001</td>\n",
       "      <td>fig|1218.91.peg.1</td>\n",
       "      <td>peg</td>\n",
       "      <td>MIT9313_174_1340</td>\n",
       "      <td>174</td>\n",
       "      <td>1340</td>\n",
       "      <td>+</td>\n",
       "      <td>DNA polymerase III beta subunit (EC 2.7.7.7)</td>\n",
       "      <td>NaN</td>\n",
       "      <td>FIG00066425</td>\n",
       "      <td>isu;DNA-replication isu;DNA_replication_cluster_1</td>\n",
       "      <td>atgaaactggtttgttcacaggctgaactcaatacagcactacagc...</td>\n",
       "      <td>MKLVCSQAELNTALQLVSRAVASRPTHPVLANVLLTADAGTDRLSL...</td>\n",
       "      <td>174</td>\n",
       "      <td>1340</td>\n",
       "      <td>1368.0</td>\n",
       "      <td>28.0</td>\n",
       "      <td>1166</td>\n",
       "      <td>False</td>\n",
       "    </tr>\n",
       "    <tr>\n",
       "      <th>1</th>\n",
       "      <td>MIT9313</td>\n",
       "      <td>PMIT9313_0002</td>\n",
       "      <td>fig|1218.91.peg.2</td>\n",
       "      <td>peg</td>\n",
       "      <td>MIT9313_1368_2120</td>\n",
       "      <td>1368</td>\n",
       "      <td>2120</td>\n",
       "      <td>+</td>\n",
       "      <td>RNA metabolism-related protein</td>\n",
       "      <td>NaN</td>\n",
       "      <td>NaN</td>\n",
       "      <td>NaN</td>\n",
       "      <td>ttgagtgatttgttgcatcatcgtgtacgttgtgatcaggggttag...</td>\n",
       "      <td>MSDLLHHRVRCDQGLDHGPGVLPWMHPPVHRLLGWVSRPSALRVSR...</td>\n",
       "      <td>1368</td>\n",
       "      <td>2120</td>\n",
       "      <td>2160.0</td>\n",
       "      <td>40.0</td>\n",
       "      <td>752</td>\n",
       "      <td>False</td>\n",
       "    </tr>\n",
       "    <tr>\n",
       "      <th>2</th>\n",
       "      <td>MIT9313</td>\n",
       "      <td>PMIT9313_0003</td>\n",
       "      <td>fig|1218.91.peg.3</td>\n",
       "      <td>peg</td>\n",
       "      <td>MIT9313_2160_4562</td>\n",
       "      <td>2160</td>\n",
       "      <td>4562</td>\n",
       "      <td>+</td>\n",
       "      <td>Phosphoribosylformylglycinamidine synthase, sy...</td>\n",
       "      <td>NaN</td>\n",
       "      <td>FIG01303876</td>\n",
       "      <td>icw(1);De_Novo_Purine_Biosynthesis</td>\n",
       "      <td>gtgtgtcagggccccgatttgagagttgactatgacgtggctgcgg...</td>\n",
       "      <td>MCQGPDLRVDYDVAAALRHEGLKPHDYDEICRRLQRAPNRVELGMF...</td>\n",
       "      <td>2160</td>\n",
       "      <td>4562</td>\n",
       "      <td>4622.0</td>\n",
       "      <td>60.0</td>\n",
       "      <td>2402</td>\n",
       "      <td>False</td>\n",
       "    </tr>\n",
       "    <tr>\n",
       "      <th>3</th>\n",
       "      <td>MIT9313</td>\n",
       "      <td>PMIT9313_0004</td>\n",
       "      <td>fig|1218.91.peg.4</td>\n",
       "      <td>peg</td>\n",
       "      <td>MIT9313_4622_6079</td>\n",
       "      <td>4622</td>\n",
       "      <td>6079</td>\n",
       "      <td>+</td>\n",
       "      <td>Amidophosphoribosyltransferase (EC 2.4.2.14)</td>\n",
       "      <td>NaN</td>\n",
       "      <td>FIG00000179</td>\n",
       "      <td>isu;De_Novo_Purine_Biosynthesis</td>\n",
       "      <td>atgtgtggcattgttggcattgtttctactgcgctggtcaatcagc...</td>\n",
       "      <td>MCGIVGIVSTALVNQQIYDSLLLLQHRGQDSTGIATMDGSVFHLHK...</td>\n",
       "      <td>4622</td>\n",
       "      <td>6079</td>\n",
       "      <td>6115.0</td>\n",
       "      <td>36.0</td>\n",
       "      <td>1457</td>\n",
       "      <td>False</td>\n",
       "    </tr>\n",
       "    <tr>\n",
       "      <th>4</th>\n",
       "      <td>MIT9313</td>\n",
       "      <td>PMIT9313_0005</td>\n",
       "      <td>fig|1218.91.peg.5</td>\n",
       "      <td>peg</td>\n",
       "      <td>MIT9313_8604_6115</td>\n",
       "      <td>8604</td>\n",
       "      <td>6115</td>\n",
       "      <td>-</td>\n",
       "      <td>DNA gyrase subunit A (EC 5.99.1.3)</td>\n",
       "      <td>NaN</td>\n",
       "      <td>FIG00000080</td>\n",
       "      <td>idu(1);DNA_gyrase_subunits idu(1);DNA_topoisom...</td>\n",
       "      <td>atggccgaggagcgccttcaaccaatcgcattgcatcaagagatgc...</td>\n",
       "      <td>MAEERLQPIALHQEMQRSYLEYAMSVIVGRALPDARDGLKPVQRRI...</td>\n",
       "      <td>6115</td>\n",
       "      <td>8604</td>\n",
       "      <td>8682.0</td>\n",
       "      <td>78.0</td>\n",
       "      <td>2489</td>\n",
       "      <td>True</td>\n",
       "    </tr>\n",
       "  </tbody>\n",
       "</table>\n",
       "</div>"
      ],
      "text/plain": [
       "  contig_id        gene_id         feature_id type           location  start  \\\n",
       "0   MIT9313  PMIT9313_0001  fig|1218.91.peg.1  peg   MIT9313_174_1340    174   \n",
       "1   MIT9313  PMIT9313_0002  fig|1218.91.peg.2  peg  MIT9313_1368_2120   1368   \n",
       "2   MIT9313  PMIT9313_0003  fig|1218.91.peg.3  peg  MIT9313_2160_4562   2160   \n",
       "3   MIT9313  PMIT9313_0004  fig|1218.91.peg.4  peg  MIT9313_4622_6079   4622   \n",
       "4   MIT9313  PMIT9313_0005  fig|1218.91.peg.5  peg  MIT9313_8604_6115   8604   \n",
       "\n",
       "   stop strand                                           function  aliases  \\\n",
       "0  1340      +       DNA polymerase III beta subunit (EC 2.7.7.7)      NaN   \n",
       "1  2120      +                     RNA metabolism-related protein      NaN   \n",
       "2  4562      +  Phosphoribosylformylglycinamidine synthase, sy...      NaN   \n",
       "3  6079      +       Amidophosphoribosyltransferase (EC 2.4.2.14)      NaN   \n",
       "4  6115      -                 DNA gyrase subunit A (EC 5.99.1.3)      NaN   \n",
       "\n",
       "        figfam                                     evidence_codes  \\\n",
       "0  FIG00066425  isu;DNA-replication isu;DNA_replication_cluster_1   \n",
       "1          NaN                                                NaN   \n",
       "2  FIG01303876                 icw(1);De_Novo_Purine_Biosynthesis   \n",
       "3  FIG00000179                    isu;De_Novo_Purine_Biosynthesis   \n",
       "4  FIG00000080  idu(1);DNA_gyrase_subunits idu(1);DNA_topoisom...   \n",
       "\n",
       "                                 nucleotide_sequence  \\\n",
       "0  atgaaactggtttgttcacaggctgaactcaatacagcactacagc...   \n",
       "1  ttgagtgatttgttgcatcatcgtgtacgttgtgatcaggggttag...   \n",
       "2  gtgtgtcagggccccgatttgagagttgactatgacgtggctgcgg...   \n",
       "3  atgtgtggcattgttggcattgtttctactgcgctggtcaatcagc...   \n",
       "4  atggccgaggagcgccttcaaccaatcgcattgcatcaagagatgc...   \n",
       "\n",
       "                                         aa_sequence  min_idx  max_idx  \\\n",
       "0  MKLVCSQAELNTALQLVSRAVASRPTHPVLANVLLTADAGTDRLSL...      174     1340   \n",
       "1  MSDLLHHRVRCDQGLDHGPGVLPWMHPPVHRLLGWVSRPSALRVSR...     1368     2120   \n",
       "2  MCQGPDLRVDYDVAAALRHEGLKPHDYDEICRRLQRAPNRVELGMF...     2160     4562   \n",
       "3  MCGIVGIVSTALVNQQIYDSLLLLQHRGQDSTGIATMDGSVFHLHK...     4622     6079   \n",
       "4  MAEERLQPIALHQEMQRSYLEYAMSVIVGRALPDARDGLKPVQRRI...     6115     8604   \n",
       "\n",
       "   inter_stop_idx  inter_length  gene_length  gene_is_reversed  \n",
       "0          1368.0          28.0         1166             False  \n",
       "1          2160.0          40.0          752             False  \n",
       "2          4622.0          60.0         2402             False  \n",
       "3          6115.0          36.0         1457             False  \n",
       "4          8682.0          78.0         2489              True  "
      ]
     },
     "execution_count": 8,
     "metadata": {},
     "output_type": "execute_result"
    }
   ],
   "source": [
    "ann_df.head()"
   ]
  },
  {
   "cell_type": "code",
   "execution_count": 9,
   "metadata": {},
   "outputs": [
    {
     "data": {
      "text/plain": [
       "Index(['contig_id', 'gene_id', 'feature_id', 'type', 'location', 'start',\n",
       "       'stop', 'strand', 'function', 'aliases', 'figfam', 'evidence_codes',\n",
       "       'nucleotide_sequence', 'aa_sequence', 'min_idx', 'max_idx',\n",
       "       'inter_stop_idx', 'inter_length', 'gene_length', 'gene_is_reversed'],\n",
       "      dtype='object')"
      ]
     },
     "execution_count": 9,
     "metadata": {},
     "output_type": "execute_result"
    }
   ],
   "source": [
    "ann_df.columns"
   ]
  },
  {
   "cell_type": "code",
   "execution_count": 10,
   "metadata": {
    "scrolled": true
   },
   "outputs": [
    {
     "data": {
      "text/plain": [
       "<matplotlib.axes._subplots.AxesSubplot at 0x7fc00a010940>"
      ]
     },
     "execution_count": 10,
     "metadata": {},
     "output_type": "execute_result"
    },
    {
     "data": {
      "image/png": "[encoded data removed]",
      "text/plain": [
       "<Figure size 432x288 with 1 Axes>"
      ]
     },
     "metadata": {
      "needs_background": "light"
     },
     "output_type": "display_data"
    }
   ],
   "source": [
    "sns.distplot(ann_df.gene_length, label='genes')\n",
    "sns.distplot(ann_df.inter_length, label='intergene')"
   ]
  },
  {
   "cell_type": "code",
   "execution_count": 11,
   "metadata": {},
   "outputs": [],
   "source": [
    "import pysam"
   ]
  },
  {
   "cell_type": "code",
   "execution_count": 12,
   "metadata": {
    "collapsed": true
   },
   "outputs": [
    {
     "ename": "FileNotFoundError",
     "evalue": "[Errno 2] could not open alignment file `mit9313_SRR3334787.sorted.bam`: No such file or directory",
     "output_type": "error",
     "traceback": [
      "\u001b[0;31m---------------------------------------------------------------------------\u001b[0m",
      "\u001b[0;31mFileNotFoundError\u001b[0m                         Traceback (most recent call last)",
      "\u001b[0;32m<ipython-input-12-298b603acb18>\u001b[0m in \u001b[0;36m<module>\u001b[0;34m\u001b[0m\n\u001b[0;32m----> 1\u001b[0;31m \u001b[0msamfile\u001b[0m \u001b[0;34m=\u001b[0m \u001b[0mpysam\u001b[0m\u001b[0;34m.\u001b[0m\u001b[0mAlignmentFile\u001b[0m\u001b[0;34m(\u001b[0m\u001b[0;34m\"mit9313_SRR3334787.sorted.bam\"\u001b[0m\u001b[0;34m,\u001b[0m \u001b[0;34m\"rb\"\u001b[0m\u001b[0;34m)\u001b[0m\u001b[0;34m\u001b[0m\u001b[0;34m\u001b[0m\u001b[0m\n\u001b[0m",
      "\u001b[0;32mpysam/libcalignmentfile.pyx\u001b[0m in \u001b[0;36mpysam.libcalignmentfile.AlignmentFile.__cinit__\u001b[0;34m()\u001b[0m\n",
      "\u001b[0;32mpysam/libcalignmentfile.pyx\u001b[0m in \u001b[0;36mpysam.libcalignmentfile.AlignmentFile._open\u001b[0;34m()\u001b[0m\n",
      "\u001b[0;31mFileNotFoundError\u001b[0m: [Errno 2] could not open alignment file `mit9313_SRR3334787.sorted.bam`: No such file or directory"
     ]
    }
   ],
   "source": [
    "samfile = pysam.AlignmentFile(\"mit9313_SRR3334787.sorted.bam\", \"rb\")"
   ]
  },
  {
   "cell_type": "code",
   "execution_count": 13,
   "metadata": {},
   "outputs": [],
   "source": [
    "samfile = pysam.AlignmentFile(\"SRR3334788.sorted.bam\", \"rb\")"
   ]
  },
  {
   "cell_type": "code",
   "execution_count": 14,
   "metadata": {},
   "outputs": [
    {
     "data": {
      "text/plain": [
       "('BX548175.1',)"
      ]
     },
     "execution_count": 14,
     "metadata": {},
     "output_type": "execute_result"
    }
   ],
   "source": [
    "samfile.references"
   ]
  },
  {
   "cell_type": "code",
   "execution_count": 16,
   "metadata": {},
   "outputs": [],
   "source": [
    "contig = 'BX548175.1'"
   ]
  },
  {
   "cell_type": "code",
   "execution_count": null,
   "metadata": {},
   "outputs": [],
   "source": []
  },
  {
   "cell_type": "code",
   "execution_count": null,
   "metadata": {},
   "outputs": [],
   "source": []
  },
  {
   "cell_type": "code",
   "execution_count": 14,
   "metadata": {},
   "outputs": [],
   "source": [
    "def _read_calculate_overlap(read, \n",
    "                      gene_start, gene_end, \n",
    "                       gene_is_reversed):\n",
    "    start = max(0, gene_start - 1)\n",
    "    stop = gene_end \n",
    "    # utr_start / utr_stop\n",
    "    utr_start = start\n",
    "    utr_stop = stop\n",
    "    if gene_is_reversed:\n",
    "        utr_stop = utr_stop + 100\n",
    "    else:\n",
    "        utr_start = max(0, utr_start - 100)\n",
    "    overlap = read.get_overlap(start, stop)\n",
    "    read_overflow = (read.reference_end - read.reference_start) - overlap\n",
    "    utr_overlap = read.get_overlap(utr_start, utr_stop)\n",
    "    read_utr_overflow = (read.reference_end - read.reference_start) - utr_overlap\n",
    "    \n",
    "    return read_overflow, read_utr_overflow\n",
    "\n",
    "    \n",
    "def _read_add_to_dict(read_dict, read, \n",
    "                      gene_start, gene_end, \n",
    "                       gene_is_reversed):\n",
    "    read_start = read.reference_start + 1\n",
    "    read_end = read.reference_end \n",
    "    read_is_reverse = read.is_reverse\n",
    "    read_mapping_quality  = read.mapping_quality\n",
    "    read_overflow, read_utr_overflow = _read_calculate_overlap(read, gene_start, gene_end, gene_is_reversed)\n",
    "    \n",
    "    key = (read_start, read_end, read_is_reverse)\n",
    "    read_dict.setdefault(key, [0, 0, 0, 0])\n",
    "    read_dict[key][0] += read_mapping_quality\n",
    "    read_dict[key][1] += 1\n",
    "    read_dict[key][2] += read_overflow\n",
    "    read_dict[key][3] += read_utr_overflow\n",
    "    \n",
    "def _read_decode_key_value(key, value):\n",
    "    (read_start, read_end, read_is_reverse) = key\n",
    "    (read_mapping_quality_sum, read_count, \n",
    "     read_overflow_sum, read_utr_overflow_sum) = value\n",
    "\n",
    "    read_mapping_quality = read_mapping_quality_sum / read_count\n",
    "    read_overflow = read_overflow_sum / read_count\n",
    "    read_utr_overflow = read_utr_overflow_sum / read_count\n",
    "    return (read_start, read_end, read_is_reverse, read_count, \n",
    "            read_mapping_quality, read_overflow, read_utr_overflow)\n",
    "\n",
    "def _read_dict_item_to_record(key, value):\n",
    "    (read_start, read_end, read_is_reverse, read_count, \n",
    "     read_mapping_quality, read_overflow, read_utr_overflow\n",
    "    ) = _read_decode_key_value(key, value)\n",
    "\n",
    "    return {\n",
    "        'read_start' : read_start,\n",
    "        'read_end' : read_end,\n",
    "        'read_is_reverse' : read_is_reverse,\n",
    "        'read_mapping_quality' : read_mapping_quality,\n",
    "        'read_count' : read_count,\n",
    "        'read_overflow' : read_overflow , \n",
    "        'read_utr_overflow' : read_utr_overflow,\n",
    "    }\n",
    "\n",
    "def _read_dict_item_to_count(key, value, gene_is_reversed, count_overflow):\n",
    "    \"\"\" return tuple:\n",
    "    number_of_reads, number_of_antisense_reads\n",
    "    \n",
    "    \"\"\"\n",
    "    (read_start, read_end, read_is_reverse, read_count, \n",
    "     read_mapping_quality, read_overflow, read_utr_overflow\n",
    "    ) = _read_decode_key_value(key, value)\n",
    "\n",
    "    if not count_overflow and read_overflow:\n",
    "        return 0, 0\n",
    "    if read_is_reverse == gene_is_reversed:\n",
    "        return read_count, 0\n",
    "    else:\n",
    "        return 0, read_count\n",
    "\n",
    "\n",
    "\n",
    "# TODO: UTR - 100 bases before gene start\n",
    "# TODO: overlap for partial overlap genes\n",
    "\n",
    "def _reads_to_dict(samfile, contig, \n",
    "                   gene_start, gene_end, \n",
    "                   gene_is_reversed):\n",
    "    # pysam indexing is 0 based, annotation is 1 based\n",
    "    start = max(0, gene_start - 1)\n",
    "    stop = gene_end \n",
    "    \n",
    "    if (stop is None) or (np.isnan(stop)):\n",
    "        #last gene in the list\n",
    "        return dict()\n",
    "        \n",
    "    if stop <= start:\n",
    "        return dict()\n",
    "    read_dict = dict()\n",
    "    for read in samfile.fetch(contig=contig,start=start, stop=stop):\n",
    "        # group reads by the start index\n",
    "        _read_add_to_dict(read_dict, read, gene_start, gene_end, gene_is_reversed)\n",
    "    return read_dict\n",
    "\n",
    "        \n",
    "def reads_per_gene(samfile, contig, \n",
    "                   gene_start, gene_end, \n",
    "                   gene_is_reversed):\n",
    "    read_dict = _reads_to_dict(samfile, contig, \n",
    "                   gene_start, gene_end, \n",
    "                   gene_is_reversed)\n",
    "    \n",
    "    reads_list = [_read_dict_item_to_record(k,v) for k,v in read_dict.items()]\n",
    "        \n",
    "    return reads_list\n",
    "\n",
    "\n",
    "def count_reads(samfile, contig, \n",
    "                   gene_start, gene_end, \n",
    "                   gene_is_reversed, count_overflow):\n",
    "    read_dict = _reads_to_dict(samfile, contig, \n",
    "                   gene_start, gene_end, \n",
    "                   gene_is_reversed)\n",
    "\n",
    "    count_list = [_read_dict_item_to_count(k,v, gene_is_reversed, count_overflow)\n",
    "                  for k,v in read_dict.items()]\n",
    "    if count_list == []:\n",
    "        counts = [0,0]\n",
    "    else:\n",
    "        counts = list(map(sum, zip(*count_list)))\n",
    "    return pd.Series({'reads': counts[0], 'as_reads': counts[1]})"
   ]
  },
  {
   "cell_type": "code",
   "execution_count": null,
   "metadata": {},
   "outputs": [],
   "source": [
    "\n",
    "    "
   ]
  },
  {
   "cell_type": "code",
   "execution_count": 139,
   "metadata": {},
   "outputs": [
    {
     "data": {
      "text/plain": [
       "Index(['contig_id', 'gene_id', 'feature_id', 'type', 'location', 'start',\n",
       "       'stop', 'strand', 'function', 'aliases', 'figfam', 'evidence_codes',\n",
       "       'nucleotide_sequence', 'aa_sequence', 'min_idx', 'max_idx',\n",
       "       'inter_stop_idx', 'inter_length', 'gene_length', 'gene_is_reversed'],\n",
       "      dtype='object')"
      ]
     },
     "execution_count": 139,
     "metadata": {},
     "output_type": "execute_result"
    }
   ],
   "source": [
    "ann_df.columns"
   ]
  },
  {
   "cell_type": "code",
   "execution_count": 15,
   "metadata": {},
   "outputs": [],
   "source": [
    "def _read_dict_item_to_cover(cover_df, \n",
    "                             gene_start, gene_end, gene_is_reversed, \n",
    "                             key, value):\n",
    "    \n",
    "    (read_start, read_end, read_is_reverse, read_count, \n",
    "     read_mapping_quality, read_overflow, read_utr_overflow\n",
    "    ) = _read_decode_key_value(key, value)\n",
    "    if (gene_is_reversed  == read_is_reverse):\n",
    "        column = 'reads'\n",
    "    else:\n",
    "        column = 'reads_as'\n",
    "\n",
    "    start = max(read_start, gene_start)\n",
    "    end = min(read_end, gene_end)\n",
    "    cover_df.loc[range(start, end), column] = cover_df.loc[range(start, end), column] + read_count\n",
    "        \n",
    "        \n",
    "        \n",
    "def _select_gene_column(gene_type, gene_is_reversed, is_intergenic):\n",
    "    \n",
    "    if not gene_is_reversed: \n",
    "        gene_column = f'{gene_type}_sense'\n",
    "    else:\n",
    "        gene_column = f'{gene_type}_as'\n",
    "    if is_intergenic:\n",
    "        gene_column = 'gene_inter'\n",
    "    return gene_column\n",
    "\n",
    "def cover_reads(samfile, contig, \n",
    "                   gene_start, gene_end, \n",
    "                   gene_is_reversed, gene_type, is_intergenic):\n",
    "    read_dict = _reads_to_dict(samfile, contig, \n",
    "                   gene_start, gene_end, \n",
    "                   gene_is_reversed)\n",
    "\n",
    "    cover_df_columns = [\n",
    "        'gene_inter', \n",
    "        'peg_sense', 'peg_as', \n",
    "        'rna_sense', 'rna_as', \n",
    "        'reads', 'reads_as'\n",
    "    ]\n",
    "    cover_df = pd.DataFrame(index=range(gene_start, gene_end), \n",
    "                            columns=cover_df_columns)\n",
    "    \n",
    "    cover_df.loc[:,'reads'] = 0\n",
    "    cover_df.loc[:,'reads_as'] = 0\n",
    "    # mark the gene location\n",
    "    gene_column = _select_gene_column(gene_type, gene_is_reversed, is_intergenic)\n",
    "    cover_df.loc[:,gene_column] = 1\n",
    "    \n",
    "    for k,v in read_dict.items():\n",
    "        _read_dict_item_to_cover(cover_df, \n",
    "                             gene_start, gene_end, gene_is_reversed, \n",
    "                             k, v)\n",
    "    \n",
    "    return cover_df"
   ]
  },
  {
   "cell_type": "code",
   "execution_count": 25,
   "metadata": {},
   "outputs": [
    {
     "data": {
      "text/plain": [
       "2410873"
      ]
     },
     "execution_count": 25,
     "metadata": {},
     "output_type": "execute_result"
    }
   ],
   "source": [
    "samfile.get_reference_length(contig)"
   ]
  },
  {
   "cell_type": "code",
   "execution_count": null,
   "metadata": {},
   "outputs": [],
   "source": []
  },
  {
   "cell_type": "code",
   "execution_count": 146,
   "metadata": {},
   "outputs": [],
   "source": [
    "cover_df = cover_reads(samfile, 'BX548175.1', 174, 1340, False, 'peg', False)"
   ]
  },
  {
   "cell_type": "code",
   "execution_count": 147,
   "metadata": {},
   "outputs": [
    {
     "data": {
      "text/plain": [
       "Index(['gene_inter', 'peg_sense', 'peg_as', 'rna_sense', 'rna_as', 'reads',\n",
       "       'reads_as'],\n",
       "      dtype='object')"
      ]
     },
     "execution_count": 147,
     "metadata": {},
     "output_type": "execute_result"
    }
   ],
   "source": [
    "cover_df.columns"
   ]
  },
  {
   "cell_type": "code",
   "execution_count": 149,
   "metadata": {},
   "outputs": [
    {
     "data": {
      "image/png": "[encoded data removed]",
      "text/plain": [
       "<Figure size 432x288 with 1 Axes>"
      ]
     },
     "metadata": {
      "needs_background": "light"
     },
     "output_type": "display_data"
    }
   ],
   "source": [
    "\n",
    "for c in cover_df.columns:\n",
    "    sns.lineplot(x=cover_df.index, y=cover_df[c], label=c)"
   ]
  },
  {
   "cell_type": "code",
   "execution_count": 150,
   "metadata": {},
   "outputs": [
    {
     "data": {
      "text/plain": [
       "Index(['contig_id', 'gene_id', 'feature_id', 'type', 'location', 'start',\n",
       "       'stop', 'strand', 'function', 'aliases', 'figfam', 'evidence_codes',\n",
       "       'nucleotide_sequence', 'aa_sequence', 'min_idx', 'max_idx',\n",
       "       'inter_stop_idx', 'inter_length', 'gene_length', 'gene_is_reversed'],\n",
       "      dtype='object')"
      ]
     },
     "execution_count": 150,
     "metadata": {},
     "output_type": "execute_result"
    }
   ],
   "source": [
    "ann_df.columns"
   ]
  },
  {
   "cell_type": "code",
   "execution_count": null,
   "metadata": {},
   "outputs": [],
   "source": []
  },
  {
   "cell_type": "code",
   "execution_count": 16,
   "metadata": {
    "scrolled": true
   },
   "outputs": [],
   "source": [
    "cover_func = lambda x: cover_reads(samfile, contig, \n",
    "                   x.iloc[0]['min_idx'], x.iloc[0]['max_idx'], \n",
    "                   x.iloc[0]['gene_is_reversed'],\n",
    "                   x.iloc[0]['type'], is_intergenic=False)\n",
    "\n",
    "\n",
    "group_cols = ['contig_id', 'gene_id', 'type']\n",
    "\n",
    "cover_df = ann_df.groupby(group_cols).apply(cover_func)"
   ]
  },
  {
   "cell_type": "code",
   "execution_count": 17,
   "metadata": {},
   "outputs": [],
   "source": [
    "cover_df.reset_index(inplace=True)"
   ]
  },
  {
   "cell_type": "code",
   "execution_count": 18,
   "metadata": {},
   "outputs": [],
   "source": [
    "cover_df.rename(columns={'level_3': 'location'}, inplace=True)"
   ]
  },
  {
   "cell_type": "code",
   "execution_count": 23,
   "metadata": {},
   "outputs": [],
   "source": [
    "for c in ['gene_inter', 'peg_sense', 'peg_as', 'rna_sense', 'rna_as', 'reads',\n",
    "       'reads_as']:\n",
    "    cover_df.loc[:,c] = pd.to_numeric(cover_df[c])"
   ]
  },
  {
   "cell_type": "code",
   "execution_count": 24,
   "metadata": {},
   "outputs": [
    {
     "data": {
      "text/plain": [
       "(2038600, 11)"
      ]
     },
     "execution_count": 24,
     "metadata": {},
     "output_type": "execute_result"
    }
   ],
   "source": [
    "cover_df.shape"
   ]
  },
  {
   "cell_type": "code",
   "execution_count": 25,
   "metadata": {},
   "outputs": [
    {
     "data": {
      "text/plain": [
       "Index(['contig_id', 'gene_id', 'type', 'location', 'gene_inter', 'peg_sense',\n",
       "       'peg_as', 'rna_sense', 'rna_as', 'reads', 'reads_as'],\n",
       "      dtype='object')"
      ]
     },
     "execution_count": 25,
     "metadata": {},
     "output_type": "execute_result"
    }
   ],
   "source": [
    "cover_df.columns"
   ]
  },
  {
   "cell_type": "code",
   "execution_count": 26,
   "metadata": {},
   "outputs": [
    {
     "data": {
      "text/html": [
       "<div>\n",
       "<style scoped>\n",
       "    .dataframe tbody tr th:only-of-type {\n",
       "        vertical-align: middle;\n",
       "    }\n",
       "\n",
       "    .dataframe tbody tr th {\n",
       "        vertical-align: top;\n",
       "    }\n",
       "\n",
       "    .dataframe thead th {\n",
       "        text-align: right;\n",
       "    }\n",
       "</style>\n",
       "<table border=\"1\" class=\"dataframe\">\n",
       "  <thead>\n",
       "    <tr style=\"text-align: right;\">\n",
       "      <th></th>\n",
       "      <th>contig_id</th>\n",
       "      <th>gene_id</th>\n",
       "      <th>type</th>\n",
       "      <th>location</th>\n",
       "      <th>gene_inter</th>\n",
       "      <th>peg_sense</th>\n",
       "      <th>peg_as</th>\n",
       "      <th>rna_sense</th>\n",
       "      <th>rna_as</th>\n",
       "      <th>reads</th>\n",
       "      <th>reads_as</th>\n",
       "    </tr>\n",
       "  </thead>\n",
       "  <tbody>\n",
       "    <tr>\n",
       "      <th>0</th>\n",
       "      <td>MIT9313</td>\n",
       "      <td>PMIT9313_0001</td>\n",
       "      <td>peg</td>\n",
       "      <td>174</td>\n",
       "      <td>NaN</td>\n",
       "      <td>1.0</td>\n",
       "      <td>NaN</td>\n",
       "      <td>NaN</td>\n",
       "      <td>NaN</td>\n",
       "      <td>14</td>\n",
       "      <td>10</td>\n",
       "    </tr>\n",
       "    <tr>\n",
       "      <th>1</th>\n",
       "      <td>MIT9313</td>\n",
       "      <td>PMIT9313_0001</td>\n",
       "      <td>peg</td>\n",
       "      <td>175</td>\n",
       "      <td>NaN</td>\n",
       "      <td>1.0</td>\n",
       "      <td>NaN</td>\n",
       "      <td>NaN</td>\n",
       "      <td>NaN</td>\n",
       "      <td>14</td>\n",
       "      <td>10</td>\n",
       "    </tr>\n",
       "    <tr>\n",
       "      <th>2</th>\n",
       "      <td>MIT9313</td>\n",
       "      <td>PMIT9313_0001</td>\n",
       "      <td>peg</td>\n",
       "      <td>176</td>\n",
       "      <td>NaN</td>\n",
       "      <td>1.0</td>\n",
       "      <td>NaN</td>\n",
       "      <td>NaN</td>\n",
       "      <td>NaN</td>\n",
       "      <td>14</td>\n",
       "      <td>10</td>\n",
       "    </tr>\n",
       "    <tr>\n",
       "      <th>3</th>\n",
       "      <td>MIT9313</td>\n",
       "      <td>PMIT9313_0001</td>\n",
       "      <td>peg</td>\n",
       "      <td>177</td>\n",
       "      <td>NaN</td>\n",
       "      <td>1.0</td>\n",
       "      <td>NaN</td>\n",
       "      <td>NaN</td>\n",
       "      <td>NaN</td>\n",
       "      <td>14</td>\n",
       "      <td>10</td>\n",
       "    </tr>\n",
       "    <tr>\n",
       "      <th>4</th>\n",
       "      <td>MIT9313</td>\n",
       "      <td>PMIT9313_0001</td>\n",
       "      <td>peg</td>\n",
       "      <td>178</td>\n",
       "      <td>NaN</td>\n",
       "      <td>1.0</td>\n",
       "      <td>NaN</td>\n",
       "      <td>NaN</td>\n",
       "      <td>NaN</td>\n",
       "      <td>14</td>\n",
       "      <td>10</td>\n",
       "    </tr>\n",
       "  </tbody>\n",
       "</table>\n",
       "</div>"
      ],
      "text/plain": [
       "  contig_id        gene_id type  location  gene_inter  peg_sense  peg_as  \\\n",
       "0   MIT9313  PMIT9313_0001  peg       174         NaN        1.0     NaN   \n",
       "1   MIT9313  PMIT9313_0001  peg       175         NaN        1.0     NaN   \n",
       "2   MIT9313  PMIT9313_0001  peg       176         NaN        1.0     NaN   \n",
       "3   MIT9313  PMIT9313_0001  peg       177         NaN        1.0     NaN   \n",
       "4   MIT9313  PMIT9313_0001  peg       178         NaN        1.0     NaN   \n",
       "\n",
       "   rna_sense  rna_as  reads  reads_as  \n",
       "0        NaN     NaN     14        10  \n",
       "1        NaN     NaN     14        10  \n",
       "2        NaN     NaN     14        10  \n",
       "3        NaN     NaN     14        10  \n",
       "4        NaN     NaN     14        10  "
      ]
     },
     "execution_count": 26,
     "metadata": {},
     "output_type": "execute_result"
    }
   ],
   "source": [
    "cover_df.head()"
   ]
  },
  {
   "cell_type": "code",
   "execution_count": 27,
   "metadata": {},
   "outputs": [
    {
     "data": {
      "text/plain": [
       "contig_id      object\n",
       "gene_id        object\n",
       "type           object\n",
       "location        int64\n",
       "gene_inter    float64\n",
       "peg_sense     float64\n",
       "peg_as        float64\n",
       "rna_sense     float64\n",
       "rna_as        float64\n",
       "reads           int64\n",
       "reads_as        int64\n",
       "dtype: object"
      ]
     },
     "execution_count": 27,
     "metadata": {},
     "output_type": "execute_result"
    }
   ],
   "source": [
    "cover_df.dtypes"
   ]
  },
  {
   "cell_type": "code",
   "execution_count": null,
   "metadata": {},
   "outputs": [],
   "source": []
  },
  {
   "cell_type": "code",
   "execution_count": null,
   "metadata": {},
   "outputs": [],
   "source": []
  },
  {
   "cell_type": "code",
   "execution_count": 36,
   "metadata": {},
   "outputs": [
    {
     "data": {
      "image/png": "[encoded data removed]",
      "text/plain": [
       "<Figure size 432x288 with 1 Axes>"
      ]
     },
     "metadata": {
      "needs_background": "light"
     },
     "output_type": "display_data"
    }
   ],
   "source": [
    "df = cover_df.head(20000)\n",
    "for c in ['reads',\n",
    "       'reads_as', 'gene_inter', 'peg_sense',\n",
    "          'peg_as', 'rna_sense', 'rna_as', ]:\n",
    "    sns.lineplot(x=df['location'], y=df[c], label=c)\n",
    "plt.yscale('log')"
   ]
  },
  {
   "cell_type": "code",
   "execution_count": null,
   "metadata": {},
   "outputs": [],
   "source": []
  },
  {
   "cell_type": "code",
   "execution_count": null,
   "metadata": {},
   "outputs": [],
   "source": []
  },
  {
   "cell_type": "code",
   "execution_count": null,
   "metadata": {},
   "outputs": [],
   "source": []
  },
  {
   "cell_type": "code",
   "execution_count": 153,
   "metadata": {},
   "outputs": [
    {
     "data": {
      "text/plain": [
       "(3044,)"
      ]
     },
     "execution_count": 153,
     "metadata": {},
     "output_type": "execute_result"
    }
   ],
   "source": [
    "cover_df.shape"
   ]
  },
  {
   "cell_type": "code",
   "execution_count": null,
   "metadata": {},
   "outputs": [],
   "source": []
  },
  {
   "cell_type": "code",
   "execution_count": null,
   "metadata": {},
   "outputs": [],
   "source": []
  },
  {
   "cell_type": "code",
   "execution_count": null,
   "metadata": {},
   "outputs": [],
   "source": []
  },
  {
   "cell_type": "code",
   "execution_count": null,
   "metadata": {},
   "outputs": [],
   "source": []
  },
  {
   "cell_type": "code",
   "execution_count": null,
   "metadata": {},
   "outputs": [],
   "source": []
  },
  {
   "cell_type": "code",
   "execution_count": null,
   "metadata": {},
   "outputs": [],
   "source": []
  },
  {
   "cell_type": "code",
   "execution_count": null,
   "metadata": {},
   "outputs": [],
   "source": []
  },
  {
   "cell_type": "code",
   "execution_count": null,
   "metadata": {},
   "outputs": [],
   "source": []
  },
  {
   "cell_type": "code",
   "execution_count": null,
   "metadata": {},
   "outputs": [],
   "source": []
  },
  {
   "cell_type": "code",
   "execution_count": 63,
   "metadata": {
    "scrolled": true
   },
   "outputs": [],
   "source": [
    "\n",
    "count_func = lambda x: count_reads(samfile, contig, \n",
    "        x['min_idx'], x['max_idx'], x['gene_is_reversed'], count_overflow=True)\n",
    "\n",
    "\n",
    "\n",
    "count_df = ann_df.apply(count_func, axis=1)"
   ]
  },
  {
   "cell_type": "code",
   "execution_count": 124,
   "metadata": {
    "scrolled": true
   },
   "outputs": [],
   "source": [
    "\n",
    "inter_count_func = lambda x: count_reads(samfile, contig, \n",
    "         x['max_idx'], x['inter_stop_idx'], \n",
    "         gene_is_reversed=False, count_overflow=False)\n",
    "\n",
    "\n",
    "\n",
    "inter_count_df = ann_df.apply(inter_count_func, axis=1)"
   ]
  },
  {
   "cell_type": "code",
   "execution_count": 51,
   "metadata": {},
   "outputs": [
    {
     "data": {
      "text/plain": [
       "Index(['contig_id', 'gene_id', 'feature_id', 'type', 'location', 'start',\n",
       "       'stop', 'strand', 'function', 'aliases', 'figfam', 'evidence_codes',\n",
       "       'nucleotide_sequence', 'aa_sequence', 'min_idx', 'max_idx',\n",
       "       'inter_stop_idx', 'inter_length', 'gene_length', 'gene_is_reversed'],\n",
       "      dtype='object')"
      ]
     },
     "execution_count": 51,
     "metadata": {},
     "output_type": "execute_result"
    }
   ],
   "source": [
    "ann_df.columns"
   ]
  },
  {
   "cell_type": "code",
   "execution_count": 112,
   "metadata": {},
   "outputs": [
    {
     "data": {
      "text/plain": [
       "contig_id                                                        MIT9313\n",
       "gene_id                                                    PMIT9313_2997\n",
       "feature_id                                          fig|1218.91.peg.2997\n",
       "type                                                                 peg\n",
       "location                                         MIT9313_2409531_2410637\n",
       "start                                                            2409531\n",
       "stop                                                             2410637\n",
       "strand                                                                 +\n",
       "function                                 Threonine synthase (EC 4.2.3.1)\n",
       "aliases                                                              NaN\n",
       "figfam                                                       FIG00000134\n",
       "evidence_codes                 isu;Threonine_and_Homoserine_Biosynthesis\n",
       "nucleotide_sequence    gtgtccctcagccaaaacctccctcaagctatctccacaacgcctg...\n",
       "aa_sequence            MSLSQNLPQAISTTPVMQDWPGLIEAYRSWLPVSETTPVVTLKEGA...\n",
       "min_idx                                                          2409531\n",
       "max_idx                                                          2410637\n",
       "inter_stop_idx                                                       NaN\n",
       "inter_length                                                           0\n",
       "gene_length                                                         1106\n",
       "gene_is_reversed                                                   False\n",
       "Name: 3043, dtype: object"
      ]
     },
     "execution_count": 112,
     "metadata": {},
     "output_type": "execute_result"
    }
   ],
   "source": [
    "ann_df.iloc[3043]"
   ]
  },
  {
   "cell_type": "code",
   "execution_count": null,
   "metadata": {},
   "outputs": [],
   "source": []
  },
  {
   "cell_type": "code",
   "execution_count": 113,
   "metadata": {},
   "outputs": [
    {
     "data": {
      "text/plain": [
       "reads       0\n",
       "as_reads    0\n",
       "dtype: int64"
      ]
     },
     "execution_count": 113,
     "metadata": {},
     "output_type": "execute_result"
    }
   ],
   "source": [
    "count_reads(samfile, 'BX548175.1', 2410637, np.NaN, False, False)"
   ]
  },
  {
   "cell_type": "code",
   "execution_count": 105,
   "metadata": {},
   "outputs": [
    {
     "data": {
      "text/html": [
       "<div>\n",
       "<style scoped>\n",
       "    .dataframe tbody tr th:only-of-type {\n",
       "        vertical-align: middle;\n",
       "    }\n",
       "\n",
       "    .dataframe tbody tr th {\n",
       "        vertical-align: top;\n",
       "    }\n",
       "\n",
       "    .dataframe thead th {\n",
       "        text-align: right;\n",
       "    }\n",
       "</style>\n",
       "<table border=\"1\" class=\"dataframe\">\n",
       "  <thead>\n",
       "    <tr style=\"text-align: right;\">\n",
       "      <th></th>\n",
       "      <th>contig_id</th>\n",
       "      <th>gene_id</th>\n",
       "      <th>feature_id</th>\n",
       "      <th>type</th>\n",
       "      <th>location</th>\n",
       "      <th>start</th>\n",
       "      <th>stop</th>\n",
       "      <th>strand</th>\n",
       "      <th>function</th>\n",
       "      <th>aliases</th>\n",
       "      <th>figfam</th>\n",
       "      <th>evidence_codes</th>\n",
       "      <th>nucleotide_sequence</th>\n",
       "      <th>aa_sequence</th>\n",
       "      <th>min_idx</th>\n",
       "      <th>max_idx</th>\n",
       "      <th>inter_stop_idx</th>\n",
       "      <th>inter_length</th>\n",
       "      <th>gene_length</th>\n",
       "      <th>gene_is_reversed</th>\n",
       "    </tr>\n",
       "  </thead>\n",
       "  <tbody>\n",
       "    <tr>\n",
       "      <th>14</th>\n",
       "      <td>MIT9313</td>\n",
       "      <td>PMIT9313_0015</td>\n",
       "      <td>fig|1218.91.peg.15</td>\n",
       "      <td>peg</td>\n",
       "      <td>MIT9313_18861_17842</td>\n",
       "      <td>18861</td>\n",
       "      <td>17842</td>\n",
       "      <td>-</td>\n",
       "      <td>tRNA dihydrouridine synthase A</td>\n",
       "      <td>NaN</td>\n",
       "      <td>FIG00940761</td>\n",
       "      <td>ff</td>\n",
       "      <td>atgcagcatgaatcaatgattgctcctttcacgccacaggttgatg...</td>\n",
       "      <td>MQHESMIAPFTPQVDGAYRFSVAPMLDCTDRHFRVLMRQISRRALL...</td>\n",
       "      <td>17842</td>\n",
       "      <td>18861</td>\n",
       "      <td>18843.0</td>\n",
       "      <td>-18.0</td>\n",
       "      <td>1019</td>\n",
       "      <td>True</td>\n",
       "    </tr>\n",
       "    <tr>\n",
       "      <th>15</th>\n",
       "      <td>MIT9313</td>\n",
       "      <td>PMIT9313_0016</td>\n",
       "      <td>fig|1218.91.peg.16</td>\n",
       "      <td>peg</td>\n",
       "      <td>MIT9313_18965_18843</td>\n",
       "      <td>18965</td>\n",
       "      <td>18843</td>\n",
       "      <td>-</td>\n",
       "      <td>hypothetical protein</td>\n",
       "      <td>NaN</td>\n",
       "      <td>NaN</td>\n",
       "      <td>NaN</td>\n",
       "      <td>gtggctatcagcagagaacgacgactcaatagcaaagcagtaatgg...</td>\n",
       "      <td>MAISRERRLNSKAVMGISAAKINDLLSRKAQNNYECSMNQ</td>\n",
       "      <td>18843</td>\n",
       "      <td>18965</td>\n",
       "      <td>18916.0</td>\n",
       "      <td>-49.0</td>\n",
       "      <td>122</td>\n",
       "      <td>True</td>\n",
       "    </tr>\n",
       "  </tbody>\n",
       "</table>\n",
       "</div>"
      ],
      "text/plain": [
       "   contig_id        gene_id          feature_id type             location  \\\n",
       "14   MIT9313  PMIT9313_0015  fig|1218.91.peg.15  peg  MIT9313_18861_17842   \n",
       "15   MIT9313  PMIT9313_0016  fig|1218.91.peg.16  peg  MIT9313_18965_18843   \n",
       "\n",
       "    start   stop strand                        function  aliases       figfam  \\\n",
       "14  18861  17842      -  tRNA dihydrouridine synthase A      NaN  FIG00940761   \n",
       "15  18965  18843      -            hypothetical protein      NaN          NaN   \n",
       "\n",
       "   evidence_codes                                nucleotide_sequence  \\\n",
       "14             ff  atgcagcatgaatcaatgattgctcctttcacgccacaggttgatg...   \n",
       "15            NaN  gtggctatcagcagagaacgacgactcaatagcaaagcagtaatgg...   \n",
       "\n",
       "                                          aa_sequence  min_idx  max_idx  \\\n",
       "14  MQHESMIAPFTPQVDGAYRFSVAPMLDCTDRHFRVLMRQISRRALL...    17842    18861   \n",
       "15           MAISRERRLNSKAVMGISAAKINDLLSRKAQNNYECSMNQ    18843    18965   \n",
       "\n",
       "    inter_stop_idx  inter_length  gene_length  gene_is_reversed  \n",
       "14         18843.0         -18.0         1019              True  \n",
       "15         18916.0         -49.0          122              True  "
      ]
     },
     "execution_count": 105,
     "metadata": {},
     "output_type": "execute_result"
    }
   ],
   "source": [
    "ann_df.iloc[14:16]"
   ]
  },
  {
   "cell_type": "code",
   "execution_count": null,
   "metadata": {},
   "outputs": [],
   "source": []
  },
  {
   "cell_type": "code",
   "execution_count": null,
   "metadata": {},
   "outputs": [],
   "source": []
  },
  {
   "cell_type": "code",
   "execution_count": null,
   "metadata": {},
   "outputs": [],
   "source": []
  },
  {
   "cell_type": "code",
   "execution_count": null,
   "metadata": {},
   "outputs": [],
   "source": []
  },
  {
   "cell_type": "code",
   "execution_count": 52,
   "metadata": {},
   "outputs": [
    {
     "data": {
      "text/plain": [
       "10789221"
      ]
     },
     "execution_count": 52,
     "metadata": {},
     "output_type": "execute_result"
    }
   ],
   "source": [
    "samfile.mapped"
   ]
  },
  {
   "cell_type": "code",
   "execution_count": 125,
   "metadata": {},
   "outputs": [
    {
     "data": {
      "text/html": [
       "<div>\n",
       "<style scoped>\n",
       "    .dataframe tbody tr th:only-of-type {\n",
       "        vertical-align: middle;\n",
       "    }\n",
       "\n",
       "    .dataframe tbody tr th {\n",
       "        vertical-align: top;\n",
       "    }\n",
       "\n",
       "    .dataframe thead th {\n",
       "        text-align: right;\n",
       "    }\n",
       "</style>\n",
       "<table border=\"1\" class=\"dataframe\">\n",
       "  <thead>\n",
       "    <tr style=\"text-align: right;\">\n",
       "      <th></th>\n",
       "      <th>reads</th>\n",
       "      <th>as_reads</th>\n",
       "    </tr>\n",
       "  </thead>\n",
       "  <tbody>\n",
       "    <tr>\n",
       "      <th>count</th>\n",
       "      <td>3044.000000</td>\n",
       "      <td>3044.000000</td>\n",
       "    </tr>\n",
       "    <tr>\n",
       "      <th>mean</th>\n",
       "      <td>195.972733</td>\n",
       "      <td>124.082786</td>\n",
       "    </tr>\n",
       "    <tr>\n",
       "      <th>std</th>\n",
       "      <td>5145.448819</td>\n",
       "      <td>1587.858099</td>\n",
       "    </tr>\n",
       "    <tr>\n",
       "      <th>min</th>\n",
       "      <td>0.000000</td>\n",
       "      <td>0.000000</td>\n",
       "    </tr>\n",
       "    <tr>\n",
       "      <th>25%</th>\n",
       "      <td>0.000000</td>\n",
       "      <td>0.000000</td>\n",
       "    </tr>\n",
       "    <tr>\n",
       "      <th>50%</th>\n",
       "      <td>0.000000</td>\n",
       "      <td>0.000000</td>\n",
       "    </tr>\n",
       "    <tr>\n",
       "      <th>75%</th>\n",
       "      <td>10.000000</td>\n",
       "      <td>18.000000</td>\n",
       "    </tr>\n",
       "    <tr>\n",
       "      <th>max</th>\n",
       "      <td>274602.000000</td>\n",
       "      <td>67929.000000</td>\n",
       "    </tr>\n",
       "  </tbody>\n",
       "</table>\n",
       "</div>"
      ],
      "text/plain": [
       "               reads      as_reads\n",
       "count    3044.000000   3044.000000\n",
       "mean      195.972733    124.082786\n",
       "std      5145.448819   1587.858099\n",
       "min         0.000000      0.000000\n",
       "25%         0.000000      0.000000\n",
       "50%         0.000000      0.000000\n",
       "75%        10.000000     18.000000\n",
       "max    274602.000000  67929.000000"
      ]
     },
     "execution_count": 125,
     "metadata": {},
     "output_type": "execute_result"
    }
   ],
   "source": [
    "inter_count_df.describe()"
   ]
  },
  {
   "cell_type": "code",
   "execution_count": 126,
   "metadata": {},
   "outputs": [
    {
     "data": {
      "text/html": [
       "<div>\n",
       "<style scoped>\n",
       "    .dataframe tbody tr th:only-of-type {\n",
       "        vertical-align: middle;\n",
       "    }\n",
       "\n",
       "    .dataframe tbody tr th {\n",
       "        vertical-align: top;\n",
       "    }\n",
       "\n",
       "    .dataframe thead th {\n",
       "        text-align: right;\n",
       "    }\n",
       "</style>\n",
       "<table border=\"1\" class=\"dataframe\">\n",
       "  <thead>\n",
       "    <tr style=\"text-align: right;\">\n",
       "      <th></th>\n",
       "      <th>reads</th>\n",
       "      <th>as_reads</th>\n",
       "    </tr>\n",
       "  </thead>\n",
       "  <tbody>\n",
       "    <tr>\n",
       "      <th>count</th>\n",
       "      <td>3044.000000</td>\n",
       "      <td>3044.000000</td>\n",
       "    </tr>\n",
       "    <tr>\n",
       "      <th>mean</th>\n",
       "      <td>291.438568</td>\n",
       "      <td>3028.392904</td>\n",
       "    </tr>\n",
       "    <tr>\n",
       "      <th>std</th>\n",
       "      <td>1914.107676</td>\n",
       "      <td>26061.696375</td>\n",
       "    </tr>\n",
       "    <tr>\n",
       "      <th>min</th>\n",
       "      <td>0.000000</td>\n",
       "      <td>0.000000</td>\n",
       "    </tr>\n",
       "    <tr>\n",
       "      <th>25%</th>\n",
       "      <td>24.000000</td>\n",
       "      <td>62.000000</td>\n",
       "    </tr>\n",
       "    <tr>\n",
       "      <th>50%</th>\n",
       "      <td>79.000000</td>\n",
       "      <td>403.000000</td>\n",
       "    </tr>\n",
       "    <tr>\n",
       "      <th>75%</th>\n",
       "      <td>226.000000</td>\n",
       "      <td>1262.250000</td>\n",
       "    </tr>\n",
       "    <tr>\n",
       "      <th>max</th>\n",
       "      <td>93064.000000</td>\n",
       "      <td>669673.000000</td>\n",
       "    </tr>\n",
       "  </tbody>\n",
       "</table>\n",
       "</div>"
      ],
      "text/plain": [
       "              reads       as_reads\n",
       "count   3044.000000    3044.000000\n",
       "mean     291.438568    3028.392904\n",
       "std     1914.107676   26061.696375\n",
       "min        0.000000       0.000000\n",
       "25%       24.000000      62.000000\n",
       "50%       79.000000     403.000000\n",
       "75%      226.000000    1262.250000\n",
       "max    93064.000000  669673.000000"
      ]
     },
     "execution_count": 126,
     "metadata": {},
     "output_type": "execute_result"
    }
   ],
   "source": [
    "count_df.describe()"
   ]
  },
  {
   "cell_type": "code",
   "execution_count": 127,
   "metadata": {},
   "outputs": [],
   "source": [
    "df = ann_df.join(count_df)"
   ]
  },
  {
   "cell_type": "code",
   "execution_count": 128,
   "metadata": {},
   "outputs": [],
   "source": [
    "df = df.join(inter_count_df, rsuffix='_inter')"
   ]
  },
  {
   "cell_type": "code",
   "execution_count": 129,
   "metadata": {},
   "outputs": [
    {
     "data": {
      "text/plain": [
       "Index(['contig_id', 'gene_id', 'feature_id', 'type', 'location', 'start',\n",
       "       'stop', 'strand', 'function', 'aliases', 'figfam', 'evidence_codes',\n",
       "       'nucleotide_sequence', 'aa_sequence', 'min_idx', 'max_idx',\n",
       "       'inter_stop_idx', 'inter_length', 'gene_length', 'gene_is_reversed',\n",
       "       'reads', 'as_reads', 'reads_inter', 'as_reads_inter'],\n",
       "      dtype='object')"
      ]
     },
     "execution_count": 129,
     "metadata": {},
     "output_type": "execute_result"
    }
   ],
   "source": [
    "df.columns"
   ]
  },
  {
   "cell_type": "code",
   "execution_count": 130,
   "metadata": {},
   "outputs": [
    {
     "data": {
      "text/plain": [
       "<seaborn.axisgrid.FacetGrid at 0x7fe0ed46bcc0>"
      ]
     },
     "execution_count": 130,
     "metadata": {},
     "output_type": "execute_result"
    },
    {
     "data": {
      "image/png": "[encoded data removed]",
      "text/plain": [
       "<Figure size 360x360 with 1 Axes>"
      ]
     },
     "metadata": {
      "needs_background": "light"
     },
     "output_type": "display_data"
    }
   ],
   "source": [
    "sns.catplot(data=df, x='type', y='reads')"
   ]
  },
  {
   "cell_type": "code",
   "execution_count": 131,
   "metadata": {},
   "outputs": [
    {
     "data": {
      "text/plain": [
       "<seaborn.axisgrid.FacetGrid at 0x7fe0ece6cc88>"
      ]
     },
     "execution_count": 131,
     "metadata": {},
     "output_type": "execute_result"
    },
    {
     "data": {
      "image/png": "[encoded data removed]",
      "text/plain": [
       "<Figure size 360x360 with 1 Axes>"
      ]
     },
     "metadata": {
      "needs_background": "light"
     },
     "output_type": "display_data"
    }
   ],
   "source": [
    "sns.catplot(data=df, x='type', y='as_reads')"
   ]
  },
  {
   "cell_type": "code",
   "execution_count": 132,
   "metadata": {},
   "outputs": [
    {
     "data": {
      "text/plain": [
       "<seaborn.axisgrid.FacetGrid at 0x7fe0ecec01d0>"
      ]
     },
     "execution_count": 132,
     "metadata": {},
     "output_type": "execute_result"
    },
    {
     "data": {
      "image/png": "[encoded data removed]",
      "text/plain": [
       "<Figure size 360x360 with 1 Axes>"
      ]
     },
     "metadata": {
      "needs_background": "light"
     },
     "output_type": "display_data"
    }
   ],
   "source": [
    "sns.catplot(data=df, x='type', y='reads_inter')"
   ]
  },
  {
   "cell_type": "code",
   "execution_count": 133,
   "metadata": {},
   "outputs": [
    {
     "data": {
      "text/plain": [
       "<seaborn.axisgrid.FacetGrid at 0x7fe0ed3b1ef0>"
      ]
     },
     "execution_count": 133,
     "metadata": {},
     "output_type": "execute_result"
    },
    {
     "data": {
      "image/png": "[encoded data removed]",
      "text/plain": [
       "<Figure size 360x360 with 1 Axes>"
      ]
     },
     "metadata": {
      "needs_background": "light"
     },
     "output_type": "display_data"
    }
   ],
   "source": [
    "sns.catplot(data=df, x='type', y='as_reads_inter')"
   ]
  },
  {
   "cell_type": "code",
   "execution_count": 134,
   "metadata": {},
   "outputs": [
    {
     "data": {
      "text/plain": [
       "Index(['contig_id', 'gene_id', 'feature_id', 'type', 'location', 'start',\n",
       "       'stop', 'strand', 'function', 'aliases', 'figfam', 'evidence_codes',\n",
       "       'nucleotide_sequence', 'aa_sequence', 'min_idx', 'max_idx',\n",
       "       'inter_stop_idx', 'inter_length', 'gene_length', 'gene_is_reversed',\n",
       "       'reads', 'as_reads', 'reads_inter', 'as_reads_inter'],\n",
       "      dtype='object')"
      ]
     },
     "execution_count": 134,
     "metadata": {},
     "output_type": "execute_result"
    }
   ],
   "source": [
    "df.columns"
   ]
  },
  {
   "cell_type": "code",
   "execution_count": 135,
   "metadata": {},
   "outputs": [
    {
     "data": {
      "text/plain": [
       "<seaborn.axisgrid.FacetGrid at 0x7fe0ecf24e10>"
      ]
     },
     "execution_count": 135,
     "metadata": {},
     "output_type": "execute_result"
    },
    {
     "data": {
      "image/png": "[encoded data removed]",
      "text/plain": [
       "<Figure size 720x360 with 2 Axes>"
      ]
     },
     "metadata": {
      "needs_background": "light"
     },
     "output_type": "display_data"
    }
   ],
   "source": [
    "sns.relplot(data=df, x='gene_length', y='reads', col='type')"
   ]
  },
  {
   "cell_type": "code",
   "execution_count": 137,
   "metadata": {},
   "outputs": [
    {
     "data": {
      "text/plain": [
       "<seaborn.axisgrid.FacetGrid at 0x7fe0ed29e668>"
      ]
     },
     "execution_count": 137,
     "metadata": {},
     "output_type": "execute_result"
    },
    {
     "data": {
      "image/png": "[encoded data removed]",
      "text/plain": [
       "<Figure size 720x360 with 2 Axes>"
      ]
     },
     "metadata": {
      "needs_background": "light"
     },
     "output_type": "display_data"
    }
   ],
   "source": [
    "sns.relplot(data=df, x='gene_length', y='as_reads', col='type', color='green')"
   ]
  },
  {
   "cell_type": "code",
   "execution_count": 90,
   "metadata": {},
   "outputs": [
    {
     "data": {
      "text/plain": [
       "<seaborn.axisgrid.JointGrid at 0x7fe0eebfecf8>"
      ]
     },
     "execution_count": 90,
     "metadata": {},
     "output_type": "execute_result"
    },
    {
     "data": {
      "image/png": "[encoded data removed]",
      "text/plain": [
       "<Figure size 432x432 with 3 Axes>"
      ]
     },
     "metadata": {
      "needs_background": "light"
     },
     "output_type": "display_data"
    }
   ],
   "source": [
    "sns.jointplot(data=df, x='reads', y='as_reads')"
   ]
  },
  {
   "cell_type": "code",
   "execution_count": 85,
   "metadata": {},
   "outputs": [
    {
     "data": {
      "text/plain": [
       "<matplotlib.axes._subplots.AxesSubplot at 0x7fe0f41aa5f8>"
      ]
     },
     "execution_count": 85,
     "metadata": {},
     "output_type": "execute_result"
    },
    {
     "data": {
      "image/png": "[encoded data removed]",
      "text/plain": [
       "<Figure size 432x288 with 1 Axes>"
      ]
     },
     "metadata": {
      "needs_background": "light"
     },
     "output_type": "display_data"
    }
   ],
   "source": [
    "sns.scatterplot(x=df.gene_length, y=df.reads, label='reads')\n",
    "sns.scatterplot(x=df.gene_length, y=df.as_reads, label='as_reads')\n"
   ]
  },
  {
   "cell_type": "code",
   "execution_count": 98,
   "metadata": {
    "scrolled": true
   },
   "outputs": [
    {
     "data": {
      "text/plain": [
       "array(['FIG00940173: hypothetical protein', 'hypothetical protein',\n",
       "       'FIG00943446: hypothetical protein',\n",
       "       'FIG00940904: hypothetical protein',\n",
       "       'FIG00940521: hypothetical protein',\n",
       "       'FIG00941180: hypothetical protein',\n",
       "       'FIG00940146: hypothetical protein',\n",
       "       'FIG00940935: hypothetical protein',\n",
       "       'FIG00940211: hypothetical protein',\n",
       "       'FIG00943401: hypothetical protein',\n",
       "       'FIG00940093: hypothetical protein',\n",
       "       'FIG00941294: hypothetical protein',\n",
       "       'FIG00940295: hypothetical protein',\n",
       "       'FIG00944018: hypothetical protein',\n",
       "       'FIG00941409: hypothetical protein',\n",
       "       'FIG00942306: hypothetical protein',\n",
       "       'FIG00940560: hypothetical protein',\n",
       "       'FIG00941763: hypothetical protein',\n",
       "       'FIG00942020: hypothetical protein',\n",
       "       'FIG00941793: hypothetical protein',\n",
       "       'FIG00941923: hypothetical protein',\n",
       "       'FIG00944625: hypothetical protein',\n",
       "       'FIG00941770: hypothetical protein',\n",
       "       'FIG00942780: hypothetical protein',\n",
       "       'FIG00940185: hypothetical protein',\n",
       "       'FIG00940227: hypothetical protein',\n",
       "       'FIG00940708: hypothetical protein',\n",
       "       'FIG00941539: hypothetical protein',\n",
       "       'FIG00943374: hypothetical protein',\n",
       "       'FIG00940947: hypothetical protein',\n",
       "       'FIG00940334: hypothetical protein',\n",
       "       'FIG00944548: hypothetical protein',\n",
       "       'FIG00942538: hypothetical protein',\n",
       "       'FIG00940894: hypothetical protein',\n",
       "       'FIG00943732: hypothetical protein',\n",
       "       'FIG00941286: hypothetical protein',\n",
       "       'FIG00942035: hypothetical protein',\n",
       "       'FIG00943979: hypothetical protein',\n",
       "       'FIG00943809: hypothetical protein',\n",
       "       'FIG00941775: hypothetical protein',\n",
       "       'FIG00942141: hypothetical protein',\n",
       "       'FIG00940288: hypothetical protein',\n",
       "       'FIG00941317: hypothetical protein',\n",
       "       'FIG00942135: hypothetical protein',\n",
       "       'FIG023675: hypothetical protein',\n",
       "       'CBSS-74546.3.peg.720: hypothetical protein',\n",
       "       'FIG00940799: hypothetical protein',\n",
       "       'FIG00941418: hypothetical protein',\n",
       "       'FIG00941104: hypothetical protein',\n",
       "       'FIG00941776: hypothetical protein',\n",
       "       'FIG00943824: hypothetical protein',\n",
       "       'FIG00943199: hypothetical protein',\n",
       "       'FIG00944055: hypothetical protein',\n",
       "       'hypothetical protein-signal peptide prediction',\n",
       "       'FIG00940258: hypothetical protein',\n",
       "       'FIG00942299: hypothetical protein',\n",
       "       'FIG00942915: hypothetical protein',\n",
       "       'FIG00940919: hypothetical protein',\n",
       "       'FIG00940909: hypothetical protein',\n",
       "       'FIG00941187: hypothetical protein',\n",
       "       'FIG00944221: hypothetical protein',\n",
       "       'FIG00940133: hypothetical protein',\n",
       "       'FIG00942037: hypothetical protein',\n",
       "       'FIG00942639: hypothetical protein',\n",
       "       'FIG00943164: hypothetical protein',\n",
       "       'FIG00941319: hypothetical protein',\n",
       "       'FIG00940864: hypothetical protein',\n",
       "       'FIG00941097: hypothetical protein',\n",
       "       'FIG00943071: hypothetical protein',\n",
       "       'FIG00944394: hypothetical protein',\n",
       "       'FIG00940265: hypothetical protein',\n",
       "       'FIG00942427: hypothetical protein',\n",
       "       'FIG00941830: hypothetical protein',\n",
       "       'FIG00942570: hypothetical protein',\n",
       "       'FIG00944087: hypothetical protein',\n",
       "       'FIG00940404: hypothetical protein',\n",
       "       'FIG00940122: hypothetical protein',\n",
       "       'FIG00941646: hypothetical protein',\n",
       "       'FIG00940766: hypothetical protein',\n",
       "       'FIG00940422: hypothetical protein',\n",
       "       'FIG00940960: hypothetical protein',\n",
       "       'FIG00944478: hypothetical protein',\n",
       "       'FIG00940431: hypothetical protein',\n",
       "       'FIG00940136: hypothetical protein',\n",
       "       'FIG00940587: hypothetical protein',\n",
       "       'FIG00940776: hypothetical protein',\n",
       "       'FIG00940961: hypothetical protein',\n",
       "       'FIG00940078: hypothetical protein',\n",
       "       'FIG00942291: hypothetical protein',\n",
       "       'FIG00941432: hypothetical protein',\n",
       "       'FIG00944077: hypothetical protein',\n",
       "       'FIG01149503: hypothetical protein',\n",
       "       'FIG00942995: hypothetical protein',\n",
       "       'FIG00943057: hypothetical protein',\n",
       "       'FIG00944093: hypothetical protein',\n",
       "       'FIG00943513: hypothetical protein',\n",
       "       'FIG00940624: hypothetical protein',\n",
       "       'FIG00942067: hypothetical protein',\n",
       "       'FIG00944210: hypothetical protein',\n",
       "       'FIG00942587: hypothetical protein',\n",
       "       'FIG00940233: hypothetical protein',\n",
       "       'FIG00942486: hypothetical protein',\n",
       "       'FIG00941232: hypothetical protein',\n",
       "       'FIG00942864: hypothetical protein',\n",
       "       'FIG00941277: hypothetical protein',\n",
       "       'FIG00941658: hypothetical protein',\n",
       "       'FIG01152271: hypothetical protein',\n",
       "       'FIG00941167: hypothetical protein',\n",
       "       'FIG00940057: hypothetical protein',\n",
       "       'FIG00944500: hypothetical protein',\n",
       "       'FIG00941992: hypothetical protein',\n",
       "       'FIG00943573: hypothetical protein',\n",
       "       'FIG00940965: hypothetical protein',\n",
       "       'FIG00942822: hypothetical protein',\n",
       "       'FIG00941040: hypothetical protein',\n",
       "       'FIG00941203: hypothetical protein',\n",
       "       'FIG00942776: hypothetical protein',\n",
       "       'FIG00943406: hypothetical protein',\n",
       "       'FIG00940381: hypothetical protein',\n",
       "       'FIG00940803: hypothetical protein',\n",
       "       'FIG00943211: hypothetical protein',\n",
       "       'FIG00941626: hypothetical protein',\n",
       "       'FIG00943983: hypothetical protein',\n",
       "       'FIG00944504: hypothetical protein',\n",
       "       'FIG00943783: hypothetical protein',\n",
       "       'FIG00941649: hypothetical protein',\n",
       "       'FIG00942072: hypothetical protein',\n",
       "       'FIG00943349: hypothetical protein',\n",
       "       'FIG00942293: hypothetical protein',\n",
       "       'FIG00941611: hypothetical protein',\n",
       "       'FIG00942547: hypothetical protein',\n",
       "       'FIG00941352: hypothetical protein',\n",
       "       'FIG00940596: hypothetical protein',\n",
       "       'FIG00941144: hypothetical protein',\n",
       "       'FIG00941444: hypothetical protein',\n",
       "       'FIG00941084: hypothetical protein',\n",
       "       'FIG00942490: hypothetical protein',\n",
       "       'FIG00940552: hypothetical protein',\n",
       "       'FIG00944593: hypothetical protein',\n",
       "       'FIG00944040: hypothetical protein',\n",
       "       'FIG01149307: hypothetical protein',\n",
       "       'FIG00943194: hypothetical protein',\n",
       "       'FIG00940866: hypothetical protein',\n",
       "       'FIG00941659: hypothetical protein',\n",
       "       'FIG00940077: hypothetical protein',\n",
       "       'FIG00942522: hypothetical protein',\n",
       "       'FIG00942585: hypothetical protein',\n",
       "       'FIG00941785: hypothetical protein',\n",
       "       'FIG00941061: hypothetical protein',\n",
       "       'FIG00942988: hypothetical protein',\n",
       "       'FIG00944646: hypothetical protein',\n",
       "       'FIG00944118: hypothetical protein',\n",
       "       'FIG00941305: hypothetical protein',\n",
       "       'FIG00942883: hypothetical protein',\n",
       "       'FIG00940605: hypothetical protein',\n",
       "       'FIG00940546: hypothetical protein',\n",
       "       'FIG00942381: hypothetical protein',\n",
       "       'FIG00941001: hypothetical protein',\n",
       "       'FIG00940414: hypothetical protein',\n",
       "       'FIG00940304: hypothetical protein',\n",
       "       'FIG00940957: hypothetical protein',\n",
       "       'FIG00940454: hypothetical protein',\n",
       "       'FIG00943708: hypothetical protein',\n",
       "       'FIG00944458: hypothetical protein',\n",
       "       'FIG01151395: hypothetical protein',\n",
       "       'FIG00940249: hypothetical protein',\n",
       "       'FIG00941915: hypothetical protein',\n",
       "       'FIG00940657: hypothetical protein',\n",
       "       'FIG00941199: hypothetical protein',\n",
       "       'FIG00940836: hypothetical protein',\n",
       "       'FIG00943205: hypothetical protein',\n",
       "       'FIG00943618: hypothetical protein',\n",
       "       'FIG00943518: hypothetical protein',\n",
       "       'FIG00940603: hypothetical protein',\n",
       "       'FIG00942863: hypothetical protein',\n",
       "       'FIG00940759: hypothetical protein',\n",
       "       'FIG00940685: hypothetical protein',\n",
       "       'FIG00944127: hypothetical protein',\n",
       "       'FIG00940912: hypothetical protein',\n",
       "       'FIG00942978: hypothetical protein',\n",
       "       'FIG00942472: hypothetical protein',\n",
       "       'FIG01151131: hypothetical protein',\n",
       "       'FIG00942841: hypothetical protein',\n",
       "       'FIG00940302: hypothetical protein', 'conserved hypotheticals',\n",
       "       'FIG113347: hypothetical protein',\n",
       "       'FIG00942578: hypothetical protein',\n",
       "       'FIG00940307: hypothetical protein',\n",
       "       'FIG00942828: hypothetical protein',\n",
       "       'FIG00940686: hypothetical protein',\n",
       "       'FIG00941466: hypothetical protein',\n",
       "       'FIG00941471: hypothetical protein',\n",
       "       'FIG00942767: hypothetical protein',\n",
       "       'FIG00942761: hypothetical protein',\n",
       "       'FIG00943030: hypothetical protein',\n",
       "       'FIG00940620: hypothetical protein',\n",
       "       'FIG01150051: hypothetical protein',\n",
       "       'FIG00943218: hypothetical protein',\n",
       "       'FIG00940369: hypothetical protein',\n",
       "       'FIG00942178: hypothetical protein',\n",
       "       'FIG00942580: hypothetical protein',\n",
       "       'FIG00940281: hypothetical protein',\n",
       "       'FIG00940457: hypothetical protein',\n",
       "       'FIG00942736: hypothetical protein',\n",
       "       'FIG00940579: hypothetical protein',\n",
       "       'FIG00942416: hypothetical protein',\n",
       "       'FIG00942708: hypothetical protein',\n",
       "       'FIG00941032: hypothetical protein',\n",
       "       'FIG00445925: hypothetical protein',\n",
       "       'FIG00940874: hypothetical protein',\n",
       "       'FIG00944263: hypothetical protein',\n",
       "       'FIG00940821: hypothetical protein',\n",
       "       'FIG00941530: hypothetical protein',\n",
       "       'FIG00941191: hypothetical protein',\n",
       "       'FIG00940349: hypothetical protein',\n",
       "       'FIG00940448: hypothetical protein',\n",
       "       'FIG00941229: hypothetical protein',\n",
       "       'FIG00943061: hypothetical protein',\n",
       "       'FIG00943511: hypothetical protein',\n",
       "       'FIG00941312: hypothetical protein',\n",
       "       'FIG00940890: hypothetical protein',\n",
       "       'FIG00944414: hypothetical protein',\n",
       "       'FIG00940893: hypothetical protein',\n",
       "       'FIG00940670: hypothetical protein',\n",
       "       'FIG00941009: hypothetical protein',\n",
       "       'FIG00940097: hypothetical protein',\n",
       "       'FIG00940800: hypothetical protein',\n",
       "       'FIG00940478: hypothetical protein',\n",
       "       'FIG00940463: hypothetical protein',\n",
       "       'FIG00941705: hypothetical protein',\n",
       "       'FIG017608: hypothetical membrane protein, specific for cyanobacteria',\n",
       "       'FIG00942316: hypothetical protein',\n",
       "       'FIG00944713: hypothetical protein',\n",
       "       'FIG01152191: hypothetical protein',\n",
       "       'FIG00943431: hypothetical protein',\n",
       "       'FIG00941676: hypothetical protein',\n",
       "       'FIG00940506: hypothetical protein',\n",
       "       'FIG00942914: hypothetical protein',\n",
       "       'FIG00944454: hypothetical protein',\n",
       "       'FIG00944399: hypothetical protein',\n",
       "       'FIG00943718: hypothetical protein',\n",
       "       'FIG00941024: hypothetical protein',\n",
       "       'FIG01149864: hypothetical protein',\n",
       "       'FIG01149697: hypothetical protein',\n",
       "       'FIG00941311: hypothetical protein',\n",
       "       'FIG00942456: hypothetical protein',\n",
       "       'FIG00940968: hypothetical protein',\n",
       "       'FIG00943350: hypothetical protein',\n",
       "       'FIG00943509: hypothetical protein',\n",
       "       'FIG01152440: hypothetical protein',\n",
       "       'FIG00944657: hypothetical protein',\n",
       "       'FIG00942240: hypothetical protein',\n",
       "       'FIG00944114: hypothetical protein',\n",
       "       'FIG00942555: hypothetical protein',\n",
       "       'FIG00941503: hypothetical protein',\n",
       "       'FIG00941446: hypothetical protein',\n",
       "       'FIG00944562: hypothetical protein',\n",
       "       'FIG00943538: hypothetical protein',\n",
       "       'FIG00941803: hypothetical protein',\n",
       "       'FIG00942991: hypothetical protein',\n",
       "       'FIG00940771: hypothetical protein',\n",
       "       'FIG00941159: hypothetical protein',\n",
       "       'FIG00941228: hypothetical protein',\n",
       "       'FIG00941967: hypothetical protein',\n",
       "       'FIG00944719: hypothetical protein',\n",
       "       'FIG00940631: hypothetical protein',\n",
       "       'FIG00943560: hypothetical protein',\n",
       "       'FIG00941746: hypothetical protein',\n",
       "       'FIG00943470: hypothetical protein',\n",
       "       'FIG00942643: hypothetical protein',\n",
       "       'FIG00944450: hypothetical protein',\n",
       "       'FIG00941156: hypothetical protein',\n",
       "       'FIG00943122: hypothetical protein',\n",
       "       'FIG00943099: hypothetical protein',\n",
       "       'FIG00944042: hypothetical protein',\n",
       "       'FIG00944340: hypothetical protein',\n",
       "       'FIG00942629: hypothetical protein',\n",
       "       'FIG00944792: hypothetical protein',\n",
       "       'FIG00942748: hypothetical protein',\n",
       "       'FIG00942382: hypothetical protein',\n",
       "       'FIG00942651: hypothetical protein',\n",
       "       'FIG00941146: hypothetical protein',\n",
       "       'FIG00940162: hypothetical protein',\n",
       "       'FIG00944289: hypothetical protein',\n",
       "       'FIG00942349: hypothetical protein',\n",
       "       'FIG00941655: hypothetical protein',\n",
       "       'FIG00943460: hypothetical protein',\n",
       "       'FIG00944444: hypothetical protein',\n",
       "       'FIG00944164: hypothetical protein',\n",
       "       'FIG00941623: hypothetical protein',\n",
       "       'FIG00942691: hypothetical protein',\n",
       "       'FIG00944801: hypothetical protein',\n",
       "       'FIG00943258: hypothetical protein',\n",
       "       'FIG00944602: hypothetical protein',\n",
       "       'FIG00941310: hypothetical protein',\n",
       "       'FIG01150344: hypothetical protein',\n",
       "       'FIG01149450: hypothetical protein',\n",
       "       'FIG00942927: hypothetical protein',\n",
       "       'FIG00941625: hypothetical protein',\n",
       "       'FIG00941729: hypothetical protein',\n",
       "       'FIG00940850: hypothetical protein',\n",
       "       'FIG01150188: hypothetical protein',\n",
       "       'cyanobacterial hypothetical protein',\n",
       "       'FIG00943660: hypothetical protein',\n",
       "       'FIG00942715: hypothetical protein',\n",
       "       'FIG00942658: hypothetical protein',\n",
       "       'FIG00944258: hypothetical protein',\n",
       "       'FIG00943464: hypothetical protein',\n",
       "       'FIG00943501: hypothetical protein',\n",
       "       'FIG00944120: hypothetical protein',\n",
       "       'FIG00940474: hypothetical protein',\n",
       "       'FIG00941129: hypothetical protein',\n",
       "       'FIG00942519: hypothetical protein',\n",
       "       'FIG00940709: hypothetical protein',\n",
       "       'FIG00942606: hypothetical protein',\n",
       "       'FIG00941038: hypothetical protein',\n",
       "       'FIG00943264: hypothetical protein',\n",
       "       'FIG00940407: hypothetical protein',\n",
       "       'FIG00941711: hypothetical protein',\n",
       "       'FIG00941416: hypothetical protein',\n",
       "       'FIG00942607: hypothetical protein',\n",
       "       'FIG00942061: hypothetical protein',\n",
       "       'FIG00941721: hypothetical protein',\n",
       "       'FIG00940687: hypothetical protein',\n",
       "       'FIG00941485: hypothetical protein',\n",
       "       'FIG00944027: hypothetical protein',\n",
       "       'FIG00941332: hypothetical protein',\n",
       "       'FIG00941709: hypothetical protein',\n",
       "       'FIG00942579: hypothetical protein',\n",
       "       'FIG00944554: hypothetical protein',\n",
       "       'FIG00941299: hypothetical protein',\n",
       "       'FIG00944032: hypothetical protein',\n",
       "       'FIG00941905: hypothetical protein',\n",
       "       'FIG00941782: hypothetical protein',\n",
       "       'FIG00941978: hypothetical protein',\n",
       "       'FIG00941900: hypothetical protein',\n",
       "       'FIG00942530: hypothetical protein',\n",
       "       'FIG00944411: hypothetical protein',\n",
       "       'FIG00942357: hypothetical protein',\n",
       "       'FIG00943009: hypothetical protein',\n",
       "       'FIG00941027: hypothetical protein',\n",
       "       'FIG00941861: hypothetical protein',\n",
       "       'FIG00943080: hypothetical protein',\n",
       "       'FIG00941290: hypothetical protein',\n",
       "       'FIG00942963: hypothetical protein',\n",
       "       'FIG00940969: hypothetical protein',\n",
       "       'FIG00940656: hypothetical protein',\n",
       "       'FIG00943423: hypothetical protein',\n",
       "       'FIG00940753: hypothetical protein',\n",
       "       'FIG00943839: hypothetical protein',\n",
       "       'FIG00940583: hypothetical protein',\n",
       "       'FIG00942368: hypothetical protein',\n",
       "       'FIG00941545: hypothetical protein',\n",
       "       'FIG00940229: hypothetical protein',\n",
       "       'FIG00941825: hypothetical protein',\n",
       "       'FIG00943033: hypothetical protein',\n",
       "       'FIG00941651: hypothetical protein',\n",
       "       'FIG00943226: hypothetical protein',\n",
       "       'FIG00943681: hypothetical protein',\n",
       "       'FIG00942881: hypothetical protein',\n",
       "       'FIG00944376: hypothetical protein',\n",
       "       'FIG00941903: hypothetical protein',\n",
       "       'FIG00940188: hypothetical protein',\n",
       "       'FIG00942535: hypothetical protein',\n",
       "       'FIG00942333: hypothetical protein',\n",
       "       'FIG00940779: hypothetical protein',\n",
       "       'FIG00940616: hypothetical protein',\n",
       "       'FIG00940086: hypothetical protein',\n",
       "       'FIG00942975: hypothetical protein',\n",
       "       'FIG00944368: hypothetical protein',\n",
       "       'FIG00940703: hypothetical protein',\n",
       "       'FIG00940827: hypothetical protein',\n",
       "       'FIG00942488: hypothetical protein',\n",
       "       'FIG00940838: hypothetical protein',\n",
       "       'FIG00940602: hypothetical protein',\n",
       "       'FIG00942252: hypothetical protein',\n",
       "       'FIG00940737: hypothetical protein',\n",
       "       'FIG00940242: hypothetical protein',\n",
       "       'FIG00940184: hypothetical protein',\n",
       "       'FIG00944746: hypothetical protein',\n",
       "       'FIG00940886: hypothetical protein',\n",
       "       'FIG00942802: hypothetical protein',\n",
       "       'FIG00940617: hypothetical protein',\n",
       "       'FIG00942753: hypothetical protein',\n",
       "       'FIG00940291: hypothetical protein',\n",
       "       'FIG00942725: hypothetical protein',\n",
       "       'FIG00942356: hypothetical protein',\n",
       "       'FIG01150348: hypothetical protein',\n",
       "       'FIG00940769: hypothetical protein',\n",
       "       'FIG01149279: hypothetical protein',\n",
       "       'FIG00941363: hypothetical protein',\n",
       "       'FIG00943092: hypothetical protein',\n",
       "       'FIG00941607: hypothetical protein',\n",
       "       'FIG00942628: hypothetical protein',\n",
       "       'FIG00008365: hypothetical protein',\n",
       "       'FIG00944222: hypothetical protein',\n",
       "       'FIG00941670: hypothetical protein',\n",
       "       'FIG00940691: hypothetical protein',\n",
       "       'FIG00942222: hypothetical protein',\n",
       "       'FIG00942999: hypothetical protein',\n",
       "       'FIG00940789: hypothetical protein',\n",
       "       'FIG00940263: hypothetical protein',\n",
       "       'FIG00941087: hypothetical protein',\n",
       "       'FIG00943073: hypothetical protein',\n",
       "       'FIG00941245: hypothetical protein',\n",
       "       'FIG00941811: hypothetical protein',\n",
       "       'FIG00942618: hypothetical protein',\n",
       "       'FIG00941841: hypothetical protein',\n",
       "       'FIG00940106: hypothetical protein',\n",
       "       'FIG00940730: hypothetical protein',\n",
       "       'FIG00940102: hypothetical protein',\n",
       "       'FIG00941614: hypothetical protein',\n",
       "       'FIG00940786: hypothetical protein',\n",
       "       'FIG00943487: hypothetical protein',\n",
       "       'FIG00940639: hypothetical protein',\n",
       "       'FIG00941443: hypothetical protein',\n",
       "       'FIG00940675: hypothetical protein',\n",
       "       'FIG00940380: hypothetical protein',\n",
       "       'FIG00942069: hypothetical protein',\n",
       "       'FIG00940182: hypothetical protein',\n",
       "       'FIG052964: hypothetical protein',\n",
       "       'FIG137771: hypothetical protein',\n",
       "       'ATPase of the AAA+ family protein associated with FIG137771 hypothetical protein',\n",
       "       'FIG00940818: hypothetical protein',\n",
       "       'FIG00940941: hypothetical protein',\n",
       "       'FIG00942377: hypothetical protein',\n",
       "       'FIG00943228: hypothetical protein',\n",
       "       'FIG00943701: hypothetical protein',\n",
       "       'FIG00943583: hypothetical protein',\n",
       "       'FIG00941772: hypothetical protein',\n",
       "       'FIG00943465: hypothetical protein',\n",
       "       'FIG00944442: hypothetical protein',\n",
       "       'FIG00944420: hypothetical protein',\n",
       "       'FIG00944569: hypothetical protein',\n",
       "       'FIG00941931: hypothetical protein',\n",
       "       'FIG00943148: hypothetical protein',\n",
       "       'FIG00941331: hypothetical protein',\n",
       "       'FIG00942330: hypothetical protein',\n",
       "       'FIG00940411: hypothetical protein',\n",
       "       'FIG00942960: hypothetical protein',\n",
       "       'FIG00940251: hypothetical protein',\n",
       "       'FIG00940226: hypothetical protein',\n",
       "       'FIG00941330: hypothetical protein',\n",
       "       'FIG020308: hypothetical protein',\n",
       "       'FIG00941744: hypothetical protein',\n",
       "       'FIG00942408: hypothetical protein',\n",
       "       'FIG01152813: hypothetical protein',\n",
       "       'FIG00943476: hypothetical protein',\n",
       "       'FIG000859: hypothetical protein YebC',\n",
       "       'FIG00943729: hypothetical protein',\n",
       "       'FIG00941256: hypothetical protein',\n",
       "       'FIG00940224: hypothetical protein',\n",
       "       'FIG001583: hypothetical protein, contains S4-like RNA binding domain',\n",
       "       'FIG00944551: hypothetical protein',\n",
       "       'FIG00941765: hypothetical protein',\n",
       "       'FIG00941629: hypothetical protein',\n",
       "       'FIG00940582: hypothetical protein',\n",
       "       'FIG00942286: hypothetical protein',\n",
       "       'FIG00940322: hypothetical protein',\n",
       "       'FIG00940055: hypothetical protein',\n",
       "       'FIG00943712: hypothetical protein',\n",
       "       'FIG00943974: hypothetical protein',\n",
       "       'FIG00940726: hypothetical protein',\n",
       "       'FIG00940396: hypothetical protein',\n",
       "       'FIG00942238: hypothetical protein',\n",
       "       'FIG00940824: hypothetical protein',\n",
       "       'FIG00940849: hypothetical protein',\n",
       "       'FIG00940272: hypothetical protein',\n",
       "       'FIG00941920: hypothetical protein',\n",
       "       'FIG00944111: hypothetical protein',\n",
       "       'FIG01151340: hypothetical protein',\n",
       "       'FIG00941839: hypothetical protein',\n",
       "       'FIG00941423: hypothetical protein',\n",
       "       'FIG00941684: hypothetical protein',\n",
       "       'FIG00942095: hypothetical protein',\n",
       "       'FIG00940777: hypothetical protein',\n",
       "       'FIG00944623: hypothetical protein',\n",
       "       'FIG00944019: hypothetical protein',\n",
       "       'FIG00942595: hypothetical protein',\n",
       "       'FIG00940828: hypothetical protein',\n",
       "       'FIG00942046: hypothetical protein',\n",
       "       'FIG00940450: hypothetical protein',\n",
       "       'FIG00940147: hypothetical protein',\n",
       "       'FIG00940569: hypothetical protein',\n",
       "       'FIG00943325: hypothetical protein',\n",
       "       'FIG00942403: hypothetical protein',\n",
       "       'FIG00941922: hypothetical protein',\n",
       "       'FIG00941847: hypothetical protein',\n",
       "       'FIG00941207: hypothetical protein',\n",
       "       'FIG00940164: hypothetical protein',\n",
       "       'FIG00940501: hypothetical protein',\n",
       "       'FIG00942601: hypothetical protein',\n",
       "       'FIG00944492: hypothetical protein',\n",
       "       'FIG00940700: hypothetical protein',\n",
       "       'FIG01149494: hypothetical protein',\n",
       "       'FIG01149232: hypothetical protein',\n",
       "       'FIG00940892: hypothetical protein',\n",
       "       'FIG00941501: hypothetical protein',\n",
       "       'FIG00940447: hypothetical protein',\n",
       "       'FIG00940917: hypothetical protein',\n",
       "       'FIG00943100: hypothetical protein',\n",
       "       'FIG00940698: hypothetical protein',\n",
       "       'FIG00940739: hypothetical protein',\n",
       "       'FIG00943253: hypothetical protein',\n",
       "       'FIG00940178: hypothetical protein',\n",
       "       'FIG00943610: hypothetical protein',\n",
       "       'FIG00940946: hypothetical protein',\n",
       "       'FIG00941158: hypothetical protein',\n",
       "       'FIG00941885: hypothetical protein',\n",
       "       'FIG01149330: hypothetical protein',\n",
       "       'FIG00943657: hypothetical protein',\n",
       "       'FIG00940285: hypothetical protein',\n",
       "       'FIG00943129: hypothetical protein',\n",
       "       'FIG00941555: hypothetical protein',\n",
       "       'FIG00944533: hypothetical protein',\n",
       "       'FIG00941527: hypothetical protein',\n",
       "       'FIG00940123: hypothetical protein',\n",
       "       'FIG00940400: hypothetical protein',\n",
       "       'FIG00940744: hypothetical protein',\n",
       "       'FIG00943342: hypothetical protein',\n",
       "       'FIG00944301: hypothetical protein',\n",
       "       'FIG00940568: hypothetical protein',\n",
       "       'FIG00940597: hypothetical protein',\n",
       "       'FIG00942041: hypothetical protein',\n",
       "       'FIG00944650: hypothetical protein',\n",
       "       'FIG00942789: hypothetical protein',\n",
       "       'FIG00941650: hypothetical protein',\n",
       "       'FIG00940734: hypothetical protein',\n",
       "       'FIG00941683: hypothetical protein',\n",
       "       'FIG00940748: hypothetical protein',\n",
       "       'FIG00943624: hypothetical protein',\n",
       "       'FIG00942597: hypothetical protein',\n",
       "       'FIG00942552: hypothetical protein',\n",
       "       'FIG00941818: hypothetical protein',\n",
       "       'FIG00942572: hypothetical protein',\n",
       "       'FIG00942922: hypothetical protein',\n",
       "       'FIG00941828: hypothetical protein',\n",
       "       'FIG00940360: hypothetical protein',\n",
       "       'FIG00943488: hypothetical protein',\n",
       "       'FIG00942263: hypothetical protein',\n",
       "       'FIG00940996: hypothetical protein',\n",
       "       'FIG00941518: hypothetical protein',\n",
       "       'FIG00944435: hypothetical protein',\n",
       "       'FIG00940305: hypothetical protein',\n",
       "       'FIG00942279: hypothetical protein',\n",
       "       'FIG00941210: hypothetical protein',\n",
       "       'FIG00940683: hypothetical protein',\n",
       "       'FIG00942056: hypothetical protein',\n",
       "       'FIG00940883: hypothetical protein',\n",
       "       'FIG00940150: hypothetical protein',\n",
       "       'FIG00942270: hypothetical protein',\n",
       "       'FIG00940570: hypothetical protein',\n",
       "       'FIG00942190: hypothetical protein',\n",
       "       'FIG00943185: hypothetical protein',\n",
       "       'FIG00942414: hypothetical protein',\n",
       "       'FIG00941397: hypothetical protein',\n",
       "       'FIG00940073: hypothetical protein',\n",
       "       'FIG00940477: hypothetical protein',\n",
       "       'FIG00944836: hypothetical protein',\n",
       "       'FIG00941366: hypothetical protein',\n",
       "       'FIG00943804: hypothetical protein',\n",
       "       'FIG00941259: hypothetical protein',\n",
       "       'FIG00943635: hypothetical protein',\n",
       "       'FIG00943213: hypothetical protein',\n",
       "       'FIG00943461: hypothetical protein',\n",
       "       'FIG00941067: hypothetical protein',\n",
       "       'FIG00943206: hypothetical protein',\n",
       "       'FIG00941051: hypothetical protein',\n",
       "       'FIG00941657: hypothetical protein',\n",
       "       'FIG00940489: hypothetical protein',\n",
       "       'FIG00940419: hypothetical protein',\n",
       "       'FIG00943274: hypothetical protein',\n",
       "       'FIG00943131: hypothetical protein',\n",
       "       'FIG00941574: hypothetical protein',\n",
       "       'FIG00943919: hypothetical protein',\n",
       "       'FIG00940626: hypothetical protein',\n",
       "       'FIG00940511: hypothetical protein',\n",
       "       'FIG00940933: hypothetical protein',\n",
       "       'FIG00942070: hypothetical protein',\n",
       "       'FIG00942664: hypothetical protein',\n",
       "       'FIG00940175: hypothetical protein',\n",
       "       'FIG00941617: hypothetical protein',\n",
       "       'FIG00940815: hypothetical protein',\n",
       "       'FIG00941974: hypothetical protein',\n",
       "       'FIG00943600: hypothetical protein',\n",
       "       'FIG00943372: hypothetical protein',\n",
       "       'FIG01149943: hypothetical protein',\n",
       "       'FIG00942804: hypothetical protein',\n",
       "       'FIG00941977: hypothetical protein',\n",
       "       'FIG00942965: hypothetical protein',\n",
       "       'FIG00941564: hypothetical protein',\n",
       "       'FIG00940443: hypothetical protein',\n",
       "       'FIG00941479: hypothetical protein',\n",
       "       'FIG00940064: hypothetical protein',\n",
       "       'FIG00943694: hypothetical protein',\n",
       "       'FIG00940915: hypothetical protein',\n",
       "       'FIG00940724: hypothetical protein',\n",
       "       'FIG00941893: hypothetical protein',\n",
       "       'FIG00940166: hypothetical protein',\n",
       "       'FIG00940444: hypothetical protein',\n",
       "       'FIG00940426: hypothetical protein',\n",
       "       'FIG00940952: hypothetical protein',\n",
       "       'FIG00940366: hypothetical protein',\n",
       "       'FIG00942805: hypothetical protein',\n",
       "       'FIG00942282: hypothetical protein',\n",
       "       'conserved hypothetical protein in cyanobacteria',\n",
       "       'FIG00940868: hypothetical protein',\n",
       "       'FIG00940962: hypothetical protein',\n",
       "       'FIG00940180: hypothetical protein',\n",
       "       'FIG00941123: hypothetical protein',\n",
       "       'FIG00944693: hypothetical protein',\n",
       "       'FIG00941688: hypothetical protein',\n",
       "       'Conserved hypothetical protein 374',\n",
       "       'FIG00942048: hypothetical protein',\n",
       "       'FIG00943612: hypothetical protein',\n",
       "       'FIG00941165: hypothetical protein',\n",
       "       'FIG00943652: hypothetical protein',\n",
       "       'FIG00943918: hypothetical protein',\n",
       "       'FIG00941302: hypothetical protein',\n",
       "       'FIG00941517: hypothetical protein',\n",
       "       'FIG00941713: hypothetical protein',\n",
       "       'FIG00942663: hypothetical protein',\n",
       "       'FIG00941445: hypothetical protein',\n",
       "       'FIG00941720: hypothetical protein',\n",
       "       'FIG00943225: hypothetical protein',\n",
       "       'Ribonuclease HI (EC 3.1.26.4) / hypothetical protein ssl1918',\n",
       "       'FIG00941042: hypothetical protein',\n",
       "       'FIG00944717: hypothetical protein',\n",
       "       'FIG00943580: hypothetical protein',\n",
       "       'FIG00940208: hypothetical protein',\n",
       "       'FIG00941217: hypothetical protein',\n",
       "       'FIG00940513: hypothetical protein',\n",
       "       'FIG00943078: hypothetical protein',\n",
       "       'FIG00940220: hypothetical protein',\n",
       "       'FIG00944347: hypothetical protein',\n",
       "       'FIG00944830: hypothetical protein',\n",
       "       'FIG00940495: hypothetical protein',\n",
       "       'FIG00944104: hypothetical protein',\n",
       "       'FIG01150012: hypothetical protein',\n",
       "       'FIG00941145: hypothetical protein',\n",
       "       'FIG00943102: hypothetical protein',\n",
       "       'FIG00943397: hypothetical protein',\n",
       "       'FIG00940268: hypothetical protein',\n",
       "       'FIG00940361: hypothetical protein',\n",
       "       'FIG00940627: hypothetical protein',\n",
       "       'FIG00943785: hypothetical protein',\n",
       "       'FIG00940187: hypothetical protein',\n",
       "       'FIG00941115: hypothetical protein',\n",
       "       'FIG00940127: hypothetical protein',\n",
       "       'FIG00657760: hypothetical protein',\n",
       "       'FIG00943252: hypothetical protein',\n",
       "       'FIG00942705: hypothetical protein',\n",
       "       'FIG00942137: hypothetical protein',\n",
       "       'FIG00940186: hypothetical protein',\n",
       "       'FIG00942023: hypothetical protein',\n",
       "       'FIG00940458: hypothetical protein',\n",
       "       'FIG00941953: hypothetical protein',\n",
       "       'FIG00943724: hypothetical protein',\n",
       "       'FIG00941076: hypothetical protein',\n",
       "       'FIG00941083: hypothetical protein',\n",
       "       'FIG00940825: hypothetical protein',\n",
       "       'FIG00940702: hypothetical protein',\n",
       "       'FIG00940192: hypothetical protein',\n",
       "       'FIG00943098: hypothetical protein',\n",
       "       'FIG00940488: hypothetical protein',\n",
       "       'FIG00940445: hypothetical protein',\n",
       "       'FIG00942830: hypothetical protein',\n",
       "       'FIG00941072: hypothetical protein',\n",
       "       'FIG00940819: hypothetical protein'], dtype=object)"
      ]
     },
     "execution_count": 98,
     "metadata": {},
     "output_type": "execute_result"
    }
   ],
   "source": [
    "df.loc[df.function.str.contains('hypothetical')]['function'].unique()"
   ]
  },
  {
   "cell_type": "code",
   "execution_count": 96,
   "metadata": {},
   "outputs": [
    {
     "data": {
      "text/plain": [
       "704"
      ]
     },
     "execution_count": 96,
     "metadata": {},
     "output_type": "execute_result"
    }
   ],
   "source": [
    "(df.function == 'hypothetical protein').sum()"
   ]
  },
  {
   "cell_type": "code",
   "execution_count": 138,
   "metadata": {},
   "outputs": [
    {
     "data": {
      "text/html": [
       "<div>\n",
       "<style scoped>\n",
       "    .dataframe tbody tr th:only-of-type {\n",
       "        vertical-align: middle;\n",
       "    }\n",
       "\n",
       "    .dataframe tbody tr th {\n",
       "        vertical-align: top;\n",
       "    }\n",
       "\n",
       "    .dataframe thead th {\n",
       "        text-align: right;\n",
       "    }\n",
       "</style>\n",
       "<table border=\"1\" class=\"dataframe\">\n",
       "  <thead>\n",
       "    <tr style=\"text-align: right;\">\n",
       "      <th></th>\n",
       "      <th>contig_id</th>\n",
       "      <th>gene_id</th>\n",
       "      <th>feature_id</th>\n",
       "      <th>type</th>\n",
       "      <th>location</th>\n",
       "      <th>start</th>\n",
       "      <th>stop</th>\n",
       "      <th>strand</th>\n",
       "      <th>function</th>\n",
       "      <th>aliases</th>\n",
       "      <th>...</th>\n",
       "      <th>min_idx</th>\n",
       "      <th>max_idx</th>\n",
       "      <th>inter_stop_idx</th>\n",
       "      <th>inter_length</th>\n",
       "      <th>gene_length</th>\n",
       "      <th>gene_is_reversed</th>\n",
       "      <th>reads</th>\n",
       "      <th>as_reads</th>\n",
       "      <th>reads_inter</th>\n",
       "      <th>as_reads_inter</th>\n",
       "    </tr>\n",
       "  </thead>\n",
       "  <tbody>\n",
       "    <tr>\n",
       "      <th>2632</th>\n",
       "      <td>MIT9313</td>\n",
       "      <td>PMIT9313_2589</td>\n",
       "      <td>fig|1218.91.peg.2589</td>\n",
       "      <td>peg</td>\n",
       "      <td>MIT9313_2059734_2059408</td>\n",
       "      <td>2059734</td>\n",
       "      <td>2059408</td>\n",
       "      <td>-</td>\n",
       "      <td>FIG00943694: hypothetical protein</td>\n",
       "      <td>NaN</td>\n",
       "      <td>...</td>\n",
       "      <td>2059408</td>\n",
       "      <td>2059734</td>\n",
       "      <td>2059893.0</td>\n",
       "      <td>159.0</td>\n",
       "      <td>326</td>\n",
       "      <td>True</td>\n",
       "      <td>93064</td>\n",
       "      <td>164</td>\n",
       "      <td>18</td>\n",
       "      <td>67929</td>\n",
       "    </tr>\n",
       "    <tr>\n",
       "      <th>1620</th>\n",
       "      <td>MIT9313</td>\n",
       "      <td>PMIT9313_1600</td>\n",
       "      <td>fig|1218.91.peg.1600</td>\n",
       "      <td>peg</td>\n",
       "      <td>MIT9313_1272346_1272188</td>\n",
       "      <td>1272346</td>\n",
       "      <td>1272188</td>\n",
       "      <td>-</td>\n",
       "      <td>FIG00944368: hypothetical protein</td>\n",
       "      <td>NaN</td>\n",
       "      <td>...</td>\n",
       "      <td>1272188</td>\n",
       "      <td>1272346</td>\n",
       "      <td>1272413.0</td>\n",
       "      <td>67.0</td>\n",
       "      <td>158</td>\n",
       "      <td>True</td>\n",
       "      <td>18475</td>\n",
       "      <td>6</td>\n",
       "      <td>0</td>\n",
       "      <td>194</td>\n",
       "    </tr>\n",
       "    <tr>\n",
       "      <th>973</th>\n",
       "      <td>MIT9313</td>\n",
       "      <td>PMIT9313_0958</td>\n",
       "      <td>fig|1218.91.peg.958</td>\n",
       "      <td>peg</td>\n",
       "      <td>MIT9313_832281_833648</td>\n",
       "      <td>832281</td>\n",
       "      <td>833648</td>\n",
       "      <td>+</td>\n",
       "      <td>Chloride channel protein-related protein</td>\n",
       "      <td>NaN</td>\n",
       "      <td>...</td>\n",
       "      <td>832281</td>\n",
       "      <td>833648</td>\n",
       "      <td>833843.0</td>\n",
       "      <td>195.0</td>\n",
       "      <td>1367</td>\n",
       "      <td>False</td>\n",
       "      <td>15878</td>\n",
       "      <td>845</td>\n",
       "      <td>208</td>\n",
       "      <td>0</td>\n",
       "    </tr>\n",
       "    <tr>\n",
       "      <th>211</th>\n",
       "      <td>MIT9313</td>\n",
       "      <td>NaN</td>\n",
       "      <td>fig|1218.91.rna.3</td>\n",
       "      <td>rna</td>\n",
       "      <td>MIT9313_208864_210328</td>\n",
       "      <td>208864</td>\n",
       "      <td>210328</td>\n",
       "      <td>+</td>\n",
       "      <td>Small Subunit Ribosomal RNA; ssuRNA; SSU rRNA</td>\n",
       "      <td>NaN</td>\n",
       "      <td>...</td>\n",
       "      <td>208864</td>\n",
       "      <td>210328</td>\n",
       "      <td>210511.0</td>\n",
       "      <td>183.0</td>\n",
       "      <td>1464</td>\n",
       "      <td>False</td>\n",
       "      <td>15620</td>\n",
       "      <td>17508</td>\n",
       "      <td>5</td>\n",
       "      <td>297</td>\n",
       "    </tr>\n",
       "    <tr>\n",
       "      <th>2252</th>\n",
       "      <td>MIT9313</td>\n",
       "      <td>NaN</td>\n",
       "      <td>fig|1218.91.rna.36</td>\n",
       "      <td>rna</td>\n",
       "      <td>MIT9313_1753624_1752160</td>\n",
       "      <td>1753624</td>\n",
       "      <td>1752160</td>\n",
       "      <td>-</td>\n",
       "      <td>Small Subunit Ribosomal RNA; ssuRNA; SSU rRNA</td>\n",
       "      <td>NaN</td>\n",
       "      <td>...</td>\n",
       "      <td>1752160</td>\n",
       "      <td>1753624</td>\n",
       "      <td>1753866.0</td>\n",
       "      <td>242.0</td>\n",
       "      <td>1464</td>\n",
       "      <td>True</td>\n",
       "      <td>15156</td>\n",
       "      <td>17369</td>\n",
       "      <td>10461</td>\n",
       "      <td>11</td>\n",
       "    </tr>\n",
       "  </tbody>\n",
       "</table>\n",
       "<p>5 rows × 24 columns</p>\n",
       "</div>"
      ],
      "text/plain": [
       "     contig_id        gene_id            feature_id type  \\\n",
       "2632   MIT9313  PMIT9313_2589  fig|1218.91.peg.2589  peg   \n",
       "1620   MIT9313  PMIT9313_1600  fig|1218.91.peg.1600  peg   \n",
       "973    MIT9313  PMIT9313_0958   fig|1218.91.peg.958  peg   \n",
       "211    MIT9313            NaN     fig|1218.91.rna.3  rna   \n",
       "2252   MIT9313            NaN    fig|1218.91.rna.36  rna   \n",
       "\n",
       "                     location    start     stop strand  \\\n",
       "2632  MIT9313_2059734_2059408  2059734  2059408      -   \n",
       "1620  MIT9313_1272346_1272188  1272346  1272188      -   \n",
       "973     MIT9313_832281_833648   832281   833648      +   \n",
       "211     MIT9313_208864_210328   208864   210328      +   \n",
       "2252  MIT9313_1753624_1752160  1753624  1752160      -   \n",
       "\n",
       "                                           function  aliases  ...  min_idx  \\\n",
       "2632              FIG00943694: hypothetical protein      NaN  ...  2059408   \n",
       "1620              FIG00944368: hypothetical protein      NaN  ...  1272188   \n",
       "973        Chloride channel protein-related protein      NaN  ...   832281   \n",
       "211   Small Subunit Ribosomal RNA; ssuRNA; SSU rRNA      NaN  ...   208864   \n",
       "2252  Small Subunit Ribosomal RNA; ssuRNA; SSU rRNA      NaN  ...  1752160   \n",
       "\n",
       "      max_idx inter_stop_idx inter_length  gene_length  gene_is_reversed  \\\n",
       "2632  2059734      2059893.0        159.0          326              True   \n",
       "1620  1272346      1272413.0         67.0          158              True   \n",
       "973    833648       833843.0        195.0         1367             False   \n",
       "211    210328       210511.0        183.0         1464             False   \n",
       "2252  1753624      1753866.0        242.0         1464              True   \n",
       "\n",
       "      reads  as_reads  reads_inter  as_reads_inter  \n",
       "2632  93064       164           18           67929  \n",
       "1620  18475         6            0             194  \n",
       "973   15878       845          208               0  \n",
       "211   15620     17508            5             297  \n",
       "2252  15156     17369        10461              11  \n",
       "\n",
       "[5 rows x 24 columns]"
      ]
     },
     "execution_count": 138,
     "metadata": {},
     "output_type": "execute_result"
    }
   ],
   "source": [
    "df.nlargest(columns='reads', n=5)"
   ]
  },
  {
   "cell_type": "code",
   "execution_count": null,
   "metadata": {},
   "outputs": [],
   "source": []
  }
 ],
 "metadata": {
  "kernelspec": {
   "display_name": "Python 3",
   "language": "python",
   "name": "python3"
  },
  "language_info": {
   "codemirror_mode": {
    "name": "ipython",
    "version": 3
   },
   "file_extension": ".py",
   "mimetype": "text/x-python",
   "name": "python",
   "nbconvert_exporter": "python",
   "pygments_lexer": "ipython3",
   "version": "3.7.3"
  }
 },
 "nbformat": 4,
 "nbformat_minor": 2
}
