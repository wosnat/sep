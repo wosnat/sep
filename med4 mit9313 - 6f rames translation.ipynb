{
 "cells": [
  {
   "cell_type": "code",
   "execution_count": 1,
   "metadata": {},
   "outputs": [],
   "source": [
    "import itertools\n",
    "import sys, os\n",
    "\n",
    "import numpy as np\n",
    "import pandas as pd\n",
    "from scipy.special import comb\n",
    "from scipy import stats\n",
    "import scipy.cluster.hierarchy as hac\n",
    "import matplotlib.pyplot as plt\n",
    "plt.style.use('classic')\n",
    "%matplotlib inline\n",
    "import numpy as np\n",
    "import pandas as pd\n",
    "import seaborn as sns\n",
    "\n",
    "from collections import Counter\n",
    "from sklearn.decomposition import PCA\n",
    "from sklearn.preprocessing import StandardScaler\n",
    "\n",
    "sns.set(rc={'figure.figsize':(15,8)})\n",
    "sns.set_context('poster')"
   ]
  },
  {
   "cell_type": "code",
   "execution_count": 2,
   "metadata": {},
   "outputs": [],
   "source": [
    "%load_ext autoreload\n",
    "%autoreload 2\n",
    "#import CCPA_lib as cp\n",
    "import sorf_lib as sf"
   ]
  },
  {
   "cell_type": "code",
   "execution_count": 3,
   "metadata": {},
   "outputs": [],
   "source": [
    "sns.set_context('talk')\n",
    "sns.set_style('white')"
   ]
  },
  {
   "cell_type": "markdown",
   "metadata": {},
   "source": [
    "\n",
    "![](http://oregonstate.edu/instruct/bb450/fall14/stryer7/2/table_02_02.jpg)"
   ]
  },
  {
   "cell_type": "markdown",
   "metadata": {},
   "source": [
    "https://www.uniprot.org/uniprot/Q7V735\n",
    "\n",
    "http://tigrfams.jcvi.org/cgi-bin/HmmReportPage.cgi?acc=TIGR03798\n",
    "\n",
    "https://www.ebi.ac.uk/training/online/course/interpro-functional-and-structural-analysis-protei/sequence-searching/searching-interpro-batc\n",
    "\n",
    "http://www.ebi.ac.uk/interpro/sequencesearch/iprscan5-S20190707-131508-0462-76111813-p1m\n",
    "\n",
    "https://www.ebi.ac.uk/Tools/services/rest/iprscan5/result/iprscan5-S20190707-131508-0462-76111813-p1m/json"
   ]
  },
  {
   "cell_type": "raw",
   "metadata": {},
   "source": [
    "6 frame translation\n",
    "classify ORFs into:\n",
    "* known gene\n",
    "* inside gene (part of gene/antisense)\n",
    "* extending gene\n",
    "* outside of gene (independent/operon?)\n"
   ]
  },
  {
   "cell_type": "code",
   "execution_count": 4,
   "metadata": {},
   "outputs": [],
   "source": [
    "genome = 'MED4'"
   ]
  },
  {
   "cell_type": "code",
   "execution_count": 19,
   "metadata": {},
   "outputs": [],
   "source": [
    "from Bio.Seq import Seq\n",
    "from Bio.SeqRecord import SeqRecord\n",
    "from Bio import SeqIO\n",
    "\n",
    "trans_table = 11"
   ]
  },
  {
   "cell_type": "code",
   "execution_count": 20,
   "metadata": {},
   "outputs": [],
   "source": [
    "\n"
   ]
  },
  {
   "cell_type": "code",
   "execution_count": 36,
   "metadata": {},
   "outputs": [],
   "source": [
    "def _translate_6frame(nuc_record, nuc, strand, frame, trans_table):\n",
    "    \"\"\"Returns a new SeqRecord with the translated sequence (default table).\"\"\"\n",
    "    return SeqRecord(\n",
    "        seq=nuc.seq[frame:].translate(trans_table),\n",
    "        id=f\"{nuc_record.id}_6frames_strand{strand}_frame{frame}\",\n",
    "        name=f\"{nuc_record.name}_6frames_strand_{strand}_frame{frame}\",\n",
    "        description=f'{nuc_record.description} 6frames strand {strand} frame {frame}'\n",
    "    )\n",
    "\n",
    "def do_6frame_translation(genome, trans_table=trans_table):\n",
    "    fasta_fpath = os.path.join('data', f'{genome}.fasta')\n",
    "    result_fpath = os.path.join('data', f'{genome}_6frame.fasta')\n",
    "    records = [r for r in SeqIO.parse(fasta_fpath, \"fasta\")]\n",
    "    proteins = [\n",
    "        _translate_6frame(nuc_rec, nuc, strand, frame, trans_table)\n",
    "        for nuc_rec in records\n",
    "        for strand, nuc in [(+1, nuc_rec), (-1, nuc_rec.reverse_complement())] \n",
    "        for frame in range(3)\n",
    "    ]\n",
    "    SeqIO.write(proteins, result_fpath, \"fasta\")\n"
   ]
  },
  {
   "cell_type": "code",
   "execution_count": 37,
   "metadata": {},
   "outputs": [
    {
     "name": "stderr",
     "output_type": "stream",
     "text": [
      "C:\\Users\\wosnat\\Anaconda3\\lib\\site-packages\\Bio\\Seq.py:2859: BiopythonWarning: Partial codon, len(sequence) not a multiple of three. Explicitly trim the sequence or add trailing N before translation. This may become an error in future.\n",
      "  BiopythonWarning,\n"
     ]
    }
   ],
   "source": [
    "do_6frame_translation('MED4')"
   ]
  },
  {
   "cell_type": "code",
   "execution_count": 38,
   "metadata": {},
   "outputs": [],
   "source": [
    "do_6frame_translation('MIT9313')"
   ]
  },
  {
   "cell_type": "code",
   "execution_count": null,
   "metadata": {},
   "outputs": [],
   "source": []
  },
  {
   "cell_type": "code",
   "execution_count": null,
   "metadata": {},
   "outputs": [],
   "source": []
  }
 ],
 "metadata": {
  "kernelspec": {
   "display_name": "Python 3",
   "language": "python",
   "name": "python3"
  },
  "language_info": {
   "codemirror_mode": {
    "name": "ipython",
    "version": 3
   },
   "file_extension": ".py",
   "mimetype": "text/x-python",
   "name": "python",
   "nbconvert_exporter": "python",
   "pygments_lexer": "ipython3",
   "version": "3.7.1"
  }
 },
 "nbformat": 4,
 "nbformat_minor": 2
}
