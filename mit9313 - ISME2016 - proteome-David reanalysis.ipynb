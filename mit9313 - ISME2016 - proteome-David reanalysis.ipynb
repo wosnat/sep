{
 "cells": [
  {
   "cell_type": "code",
   "execution_count": 1,
   "metadata": {},
   "outputs": [],
   "source": [
    "import itertools\n",
    "import sys, os\n",
    "\n",
    "import numpy as np\n",
    "import pandas as pd\n",
    "from scipy.special import comb\n",
    "from scipy import stats\n",
    "import scipy.cluster.hierarchy as hac\n",
    "import matplotlib.pyplot as plt\n",
    "plt.style.use('classic')\n",
    "%matplotlib inline\n",
    "import numpy as np\n",
    "import pandas as pd\n",
    "import seaborn as sns\n",
    "\n",
    "from collections import Counter\n",
    "from sklearn.decomposition import PCA\n",
    "from sklearn.preprocessing import StandardScaler\n",
    "\n",
    "sns.set(rc={'figure.figsize':(15,8)})\n",
    "sns.set_context('poster')"
   ]
  },
  {
   "cell_type": "code",
   "execution_count": 2,
   "metadata": {},
   "outputs": [],
   "source": [
    "%load_ext autoreload\n",
    "%autoreload 2\n",
    "#import CCPA_lib as cp\n",
    "import sorf_lib as sf"
   ]
  },
  {
   "cell_type": "code",
   "execution_count": 3,
   "metadata": {},
   "outputs": [],
   "source": [
    "sns.set_context('talk')\n",
    "sns.set_style('white')"
   ]
  },
  {
   "cell_type": "markdown",
   "metadata": {},
   "source": [
    "\n",
    "![](http://oregonstate.edu/instruct/bb450/fall14/stryer7/2/table_02_02.jpg)"
   ]
  },
  {
   "cell_type": "markdown",
   "metadata": {},
   "source": [
    "https://www.uniprot.org/uniprot/Q7V735\n",
    "\n",
    "http://tigrfams.jcvi.org/cgi-bin/HmmReportPage.cgi?acc=TIGR03798\n",
    "\n",
    "https://www.ebi.ac.uk/training/online/course/interpro-functional-and-structural-analysis-protei/sequence-searching/searching-interpro-batc\n",
    "\n",
    "http://www.ebi.ac.uk/interpro/sequencesearch/iprscan5-S20190707-131508-0462-76111813-p1m\n",
    "\n",
    "https://www.ebi.ac.uk/Tools/services/rest/iprscan5/result/iprscan5-S20190707-131508-0462-76111813-p1m/json"
   ]
  },
  {
   "cell_type": "raw",
   "metadata": {},
   "source": [
    "6 frame translation\n",
    "classify ORFs into:\n",
    "* known gene\n",
    "* inside gene (part of gene/antisense)\n",
    "* extending gene\n",
    "* outside of gene (independent/operon?)\n"
   ]
  },
  {
   "cell_type": "code",
   "execution_count": 4,
   "metadata": {},
   "outputs": [],
   "source": [
    "oorder = ['Intergenic', 'Antisense', 'Out of Frame','In Frame',  'Annotated', ]\n",
    "opalette = sns.color_palette(\"rainbow\", 5).as_hex()\n",
    "#del opalette[4]\n",
    "soorder = [oorder[0], oorder[4]]\n",
    "sopalette = [opalette[0], opalette[4]]\n",
    "sopaletted = ['#04347b','#802800']"
   ]
  },
  {
   "cell_type": "code",
   "execution_count": 5,
   "metadata": {},
   "outputs": [],
   "source": [
    "dpath = 'orffinder_tmp'\n",
    "summary_suffix = '.sorf.summary.csv.gz'\n",
    "sorf_result_suffix = '.sorf.feather.gz'"
   ]
  },
  {
   "cell_type": "code",
   "execution_count": 6,
   "metadata": {},
   "outputs": [],
   "source": [
    "ccrg_excel_fname =  'ccrg and procm genes.xlsx'"
   ]
  },
  {
   "cell_type": "code",
   "execution_count": 7,
   "metadata": {},
   "outputs": [],
   "source": [
    "# david's reanalysis file\n",
    "protein_fname = r'Seq46351_report.xlsx'\n",
    "protein_dpath = os.path.join('1A3','proteomics', 'Davids reanalysis')\n",
    "protein_fpath = os.path.join(protein_dpath, protein_fname)"
   ]
  },
  {
   "cell_type": "code",
   "execution_count": 8,
   "metadata": {},
   "outputs": [],
   "source": [
    "genome = 'MIT9313'"
   ]
  },
  {
   "cell_type": "code",
   "execution_count": 9,
   "metadata": {},
   "outputs": [
    {
     "name": "stderr",
     "output_type": "stream",
     "text": [
      "C:\\Users\\wosnat\\Anaconda3\\lib\\site-packages\\pyarrow\\pandas_compat.py:752: FutureWarning: .labels was deprecated in version 0.24.0. Use .codes instead.\n",
      "  labels, = index.labels\n"
     ]
    }
   ],
   "source": [
    "genome_df = pd.read_feather(os.path.join('data', f'{genome}.ncbi.gb.feather.gz'))\n"
   ]
  },
  {
   "cell_type": "code",
   "execution_count": 10,
   "metadata": {},
   "outputs": [],
   "source": [
    "ccrg_procm_df = pd.read_excel(os.path.join('data', ccrg_excel_fname), sheet_name='data')\n",
    "ccrg_procm_df2 = pd.read_excel(os.path.join('data', ccrg_excel_fname), sheet_name='proc')"
   ]
  },
  {
   "cell_type": "code",
   "execution_count": 11,
   "metadata": {},
   "outputs": [
    {
     "data": {
      "text/html": [
       "<div>\n",
       "<style scoped>\n",
       "    .dataframe tbody tr th:only-of-type {\n",
       "        vertical-align: middle;\n",
       "    }\n",
       "\n",
       "    .dataframe tbody tr th {\n",
       "        vertical-align: top;\n",
       "    }\n",
       "\n",
       "    .dataframe thead th {\n",
       "        text-align: right;\n",
       "    }\n",
       "</style>\n",
       "<table border=\"1\" class=\"dataframe\">\n",
       "  <thead>\n",
       "    <tr style=\"text-align: right;\">\n",
       "      <th></th>\n",
       "      <th>contig_id</th>\n",
       "      <th>gene_id</th>\n",
       "      <th>pmt_id</th>\n",
       "      <th>type</th>\n",
       "      <th>location</th>\n",
       "      <th>strand</th>\n",
       "      <th>start</th>\n",
       "      <th>stop</th>\n",
       "      <th>left</th>\n",
       "      <th>right</th>\n",
       "      <th>function</th>\n",
       "      <th>genome</th>\n",
       "      <th>old_locus_tag</th>\n",
       "      <th>product</th>\n",
       "      <th>db_xref</th>\n",
       "      <th>protein_id</th>\n",
       "      <th>figfam</th>\n",
       "      <th>nucleotide_sequence</th>\n",
       "      <th>aa_sequence</th>\n",
       "    </tr>\n",
       "  </thead>\n",
       "  <tbody>\n",
       "    <tr>\n",
       "      <th>0</th>\n",
       "      <td>MIT9313</td>\n",
       "      <td>AKG35_RS00005</td>\n",
       "      <td>PMT0001,PMT_0001</td>\n",
       "      <td>CDS</td>\n",
       "      <td>AKG35_RS00005</td>\n",
       "      <td>+</td>\n",
       "      <td>173</td>\n",
       "      <td>1340</td>\n",
       "      <td>173</td>\n",
       "      <td>1340</td>\n",
       "      <td>DNA polymerase III subunit beta</td>\n",
       "      <td>MIT9313</td>\n",
       "      <td>PMT0001,PMT_0001,RG24_RS00005</td>\n",
       "      <td>DNA polymerase III subunit beta</td>\n",
       "      <td></td>\n",
       "      <td>WP_011129380.1</td>\n",
       "      <td></td>\n",
       "      <td></td>\n",
       "      <td>MKLVCSQAELNTALQLVSRAVASRPTHPVLANVLLTADAGTDRLSL...</td>\n",
       "    </tr>\n",
       "    <tr>\n",
       "      <th>1</th>\n",
       "      <td>MIT9313</td>\n",
       "      <td>AKG35_RS00010</td>\n",
       "      <td>PMT0002,PMT_0002</td>\n",
       "      <td>CDS</td>\n",
       "      <td>AKG35_RS00010</td>\n",
       "      <td>+</td>\n",
       "      <td>1343</td>\n",
       "      <td>2120</td>\n",
       "      <td>1343</td>\n",
       "      <td>2120</td>\n",
       "      <td>hypothetical protein</td>\n",
       "      <td>MIT9313</td>\n",
       "      <td>PMT0002,PMT_0002,RG24_RS00010</td>\n",
       "      <td>hypothetical protein</td>\n",
       "      <td></td>\n",
       "      <td>WP_041384224.1</td>\n",
       "      <td></td>\n",
       "      <td></td>\n",
       "      <td>MNLPDQILLSDLLHHRVRCDQGLDHGPGVLPWMHPPVHRLLGWVSR...</td>\n",
       "    </tr>\n",
       "    <tr>\n",
       "      <th>2</th>\n",
       "      <td>MIT9313</td>\n",
       "      <td>AKG35_RS00015</td>\n",
       "      <td>PMT0003,PMT_0003</td>\n",
       "      <td>CDS</td>\n",
       "      <td>AKG35_RS00015</td>\n",
       "      <td>+</td>\n",
       "      <td>2177</td>\n",
       "      <td>4562</td>\n",
       "      <td>2177</td>\n",
       "      <td>4562</td>\n",
       "      <td>phosphoribosylformylglycinamidine synthase sub...</td>\n",
       "      <td>MIT9313</td>\n",
       "      <td>PMT0003,PMT_0003,RG24_RS00015</td>\n",
       "      <td>phosphoribosylformylglycinamidine synthase sub...</td>\n",
       "      <td></td>\n",
       "      <td>WP_011129382.1</td>\n",
       "      <td></td>\n",
       "      <td></td>\n",
       "      <td>MRVDYDVAAALRHEGLKPHDYDEICRRLQRAPNRVELGMFGVMWSE...</td>\n",
       "    </tr>\n",
       "    <tr>\n",
       "      <th>3</th>\n",
       "      <td>MIT9313</td>\n",
       "      <td>AKG35_RS00020</td>\n",
       "      <td>PMT0004,PMT_0004</td>\n",
       "      <td>CDS</td>\n",
       "      <td>AKG35_RS00020</td>\n",
       "      <td>+</td>\n",
       "      <td>4621</td>\n",
       "      <td>6079</td>\n",
       "      <td>4621</td>\n",
       "      <td>6079</td>\n",
       "      <td>amidophosphoribosyltransferase</td>\n",
       "      <td>MIT9313</td>\n",
       "      <td>PMT0004,PMT_0004,RG24_RS00020</td>\n",
       "      <td>amidophosphoribosyltransferase</td>\n",
       "      <td></td>\n",
       "      <td>WP_011129383.1</td>\n",
       "      <td></td>\n",
       "      <td></td>\n",
       "      <td>MCGIVGIVSTALVNQQIYDSLLLLQHRGQDSTGIATMDGSVFHLHK...</td>\n",
       "    </tr>\n",
       "    <tr>\n",
       "      <th>4</th>\n",
       "      <td>MIT9313</td>\n",
       "      <td>AKG35_RS00025</td>\n",
       "      <td>PMT0005,PMT_0005</td>\n",
       "      <td>CDS</td>\n",
       "      <td>AKG35_RS00025</td>\n",
       "      <td>-</td>\n",
       "      <td>6114</td>\n",
       "      <td>8604</td>\n",
       "      <td>6114</td>\n",
       "      <td>8604</td>\n",
       "      <td>DNA topoisomerase 4 subunit A</td>\n",
       "      <td>MIT9313</td>\n",
       "      <td>PMT0005,PMT_0005,RG24_RS00025</td>\n",
       "      <td>DNA topoisomerase 4 subunit A</td>\n",
       "      <td></td>\n",
       "      <td>WP_011129384.1</td>\n",
       "      <td></td>\n",
       "      <td></td>\n",
       "      <td>MAEERLQPIALHQEMQRSYLEYAMSVIVGRALPDARDGLKPVQRRI...</td>\n",
       "    </tr>\n",
       "  </tbody>\n",
       "</table>\n",
       "</div>"
      ],
      "text/plain": [
       "  contig_id        gene_id            pmt_id type       location strand  \\\n",
       "0   MIT9313  AKG35_RS00005  PMT0001,PMT_0001  CDS  AKG35_RS00005      +   \n",
       "1   MIT9313  AKG35_RS00010  PMT0002,PMT_0002  CDS  AKG35_RS00010      +   \n",
       "2   MIT9313  AKG35_RS00015  PMT0003,PMT_0003  CDS  AKG35_RS00015      +   \n",
       "3   MIT9313  AKG35_RS00020  PMT0004,PMT_0004  CDS  AKG35_RS00020      +   \n",
       "4   MIT9313  AKG35_RS00025  PMT0005,PMT_0005  CDS  AKG35_RS00025      -   \n",
       "\n",
       "   start  stop  left  right  \\\n",
       "0    173  1340   173   1340   \n",
       "1   1343  2120  1343   2120   \n",
       "2   2177  4562  2177   4562   \n",
       "3   4621  6079  4621   6079   \n",
       "4   6114  8604  6114   8604   \n",
       "\n",
       "                                            function   genome  \\\n",
       "0                    DNA polymerase III subunit beta  MIT9313   \n",
       "1                               hypothetical protein  MIT9313   \n",
       "2  phosphoribosylformylglycinamidine synthase sub...  MIT9313   \n",
       "3                     amidophosphoribosyltransferase  MIT9313   \n",
       "4                      DNA topoisomerase 4 subunit A  MIT9313   \n",
       "\n",
       "                   old_locus_tag  \\\n",
       "0  PMT0001,PMT_0001,RG24_RS00005   \n",
       "1  PMT0002,PMT_0002,RG24_RS00010   \n",
       "2  PMT0003,PMT_0003,RG24_RS00015   \n",
       "3  PMT0004,PMT_0004,RG24_RS00020   \n",
       "4  PMT0005,PMT_0005,RG24_RS00025   \n",
       "\n",
       "                                             product db_xref      protein_id  \\\n",
       "0                    DNA polymerase III subunit beta          WP_011129380.1   \n",
       "1                               hypothetical protein          WP_041384224.1   \n",
       "2  phosphoribosylformylglycinamidine synthase sub...          WP_011129382.1   \n",
       "3                     amidophosphoribosyltransferase          WP_011129383.1   \n",
       "4                      DNA topoisomerase 4 subunit A          WP_011129384.1   \n",
       "\n",
       "  figfam nucleotide_sequence  \\\n",
       "0                              \n",
       "1                              \n",
       "2                              \n",
       "3                              \n",
       "4                              \n",
       "\n",
       "                                         aa_sequence  \n",
       "0  MKLVCSQAELNTALQLVSRAVASRPTHPVLANVLLTADAGTDRLSL...  \n",
       "1  MNLPDQILLSDLLHHRVRCDQGLDHGPGVLPWMHPPVHRLLGWVSR...  \n",
       "2  MRVDYDVAAALRHEGLKPHDYDEICRRLQRAPNRVELGMFGVMWSE...  \n",
       "3  MCGIVGIVSTALVNQQIYDSLLLLQHRGQDSTGIATMDGSVFHLHK...  \n",
       "4  MAEERLQPIALHQEMQRSYLEYAMSVIVGRALPDARDGLKPVQRRI...  "
      ]
     },
     "execution_count": 11,
     "metadata": {},
     "output_type": "execute_result"
    }
   ],
   "source": [
    "genome_df.head()"
   ]
  },
  {
   "cell_type": "code",
   "execution_count": 12,
   "metadata": {},
   "outputs": [],
   "source": [
    "genome_df = pd.merge(genome_df, ccrg_procm_df, left_on='pmt_id', right_on='Gene', how='left' )"
   ]
  },
  {
   "cell_type": "code",
   "execution_count": 13,
   "metadata": {},
   "outputs": [],
   "source": [
    "genome_df.loc[genome_df['product'].str.contains('CCRG-2'), 'family'] = 'CCRG-2'"
   ]
  },
  {
   "cell_type": "code",
   "execution_count": 14,
   "metadata": {},
   "outputs": [],
   "source": [
    "genome_df.loc[genome_df['function'].isin(['Nif11-like leader peptide family natural product precursor', \n",
    "                                          'lantipeptide']),\n",
    "              'family'\n",
    "             ] = 'ProcA'"
   ]
  },
  {
   "cell_type": "code",
   "execution_count": 15,
   "metadata": {},
   "outputs": [
    {
     "data": {
      "text/plain": [
       "array([], dtype=object)"
      ]
     },
     "execution_count": 15,
     "metadata": {},
     "output_type": "execute_result"
    }
   ],
   "source": [
    "genome_df.loc[genome_df['family'] == 'CCRG-1', 'function'].unique()"
   ]
  },
  {
   "cell_type": "code",
   "execution_count": 16,
   "metadata": {},
   "outputs": [
    {
     "data": {
      "text/plain": [
       "ProcA              29\n",
       "CCRG-2             12\n",
       "CCRG-1              3\n",
       "procM               1\n",
       "ABC transporter     1\n",
       "Name: family, dtype: int64"
      ]
     },
     "execution_count": 16,
     "metadata": {},
     "output_type": "execute_result"
    }
   ],
   "source": [
    "ccrg_procm_df.family.value_counts()"
   ]
  },
  {
   "cell_type": "code",
   "execution_count": 17,
   "metadata": {},
   "outputs": [
    {
     "data": {
      "text/plain": [
       "ProcA     35\n",
       "CCRG-2    15\n",
       "Name: family, dtype: int64"
      ]
     },
     "execution_count": 17,
     "metadata": {},
     "output_type": "execute_result"
    }
   ],
   "source": [
    "genome_df.family.value_counts()"
   ]
  },
  {
   "cell_type": "code",
   "execution_count": 18,
   "metadata": {},
   "outputs": [
    {
     "data": {
      "text/plain": [
       "0       [nan]\n",
       "1     [ProcA]\n",
       "2     [ProcA]\n",
       "3     [ProcA]\n",
       "4     [ProcA]\n",
       "5     [ProcA]\n",
       "6     [ProcA]\n",
       "7     [ProcA]\n",
       "8     [ProcA]\n",
       "9     [ProcA]\n",
       "10    [ProcA]\n",
       "11    [ProcA]\n",
       "12    [ProcA]\n",
       "13    [ProcA]\n",
       "14    [ProcA]\n",
       "15    [ProcA]\n",
       "16    [ProcA]\n",
       "17    [ProcA]\n",
       "18    [ProcA]\n",
       "19    [ProcA]\n",
       "20    [ProcA]\n",
       "21    [ProcA]\n",
       "22    [ProcA]\n",
       "23    [ProcA]\n",
       "24    [ProcA]\n",
       "25    [ProcA]\n",
       "26    [ProcA]\n",
       "27    [ProcA]\n",
       "28    [ProcA]\n",
       "29    [ProcA]\n",
       "30      [nan]\n",
       "dtype: object"
      ]
     },
     "execution_count": 18,
     "metadata": {},
     "output_type": "execute_result"
    }
   ],
   "source": [
    "def find_in_genome(x):\n",
    "    found = genome_df.loc[(genome_df.left >= x.left-10) & (genome_df.right <= x.right + 10)]\n",
    "    return found['family'].unique()\n",
    "ccrg_procm_df2.loc[~ccrg_procm_df2.pmt.isin(genome_df.pmt_id)].apply(find_in_genome, axis=1)\n"
   ]
  },
  {
   "cell_type": "code",
   "execution_count": 19,
   "metadata": {
    "scrolled": false
   },
   "outputs": [
    {
     "data": {
      "text/html": [
       "<div>\n",
       "<style scoped>\n",
       "    .dataframe tbody tr th:only-of-type {\n",
       "        vertical-align: middle;\n",
       "    }\n",
       "\n",
       "    .dataframe tbody tr th {\n",
       "        vertical-align: top;\n",
       "    }\n",
       "\n",
       "    .dataframe thead th {\n",
       "        text-align: right;\n",
       "    }\n",
       "</style>\n",
       "<table border=\"1\" class=\"dataframe\">\n",
       "  <thead>\n",
       "    <tr style=\"text-align: right;\">\n",
       "      <th></th>\n",
       "      <th>family</th>\n",
       "      <th>Gene</th>\n",
       "    </tr>\n",
       "  </thead>\n",
       "  <tbody>\n",
       "    <tr>\n",
       "      <th>0</th>\n",
       "      <td>CCRG-1</td>\n",
       "      <td>PMT0956</td>\n",
       "    </tr>\n",
       "    <tr>\n",
       "      <th>1</th>\n",
       "      <td>CCRG-1</td>\n",
       "      <td>PMT0971</td>\n",
       "    </tr>\n",
       "    <tr>\n",
       "      <th>2</th>\n",
       "      <td>CCRG-1</td>\n",
       "      <td>PMT0885</td>\n",
       "    </tr>\n",
       "    <tr>\n",
       "      <th>3</th>\n",
       "      <td>CCRG-2</td>\n",
       "      <td>PMT0923</td>\n",
       "    </tr>\n",
       "    <tr>\n",
       "      <th>4</th>\n",
       "      <td>CCRG-2</td>\n",
       "      <td>PMT0928</td>\n",
       "    </tr>\n",
       "    <tr>\n",
       "      <th>5</th>\n",
       "      <td>CCRG-2</td>\n",
       "      <td>PMT0925</td>\n",
       "    </tr>\n",
       "    <tr>\n",
       "      <th>6</th>\n",
       "      <td>CCRG-2</td>\n",
       "      <td>PMT2125</td>\n",
       "    </tr>\n",
       "    <tr>\n",
       "      <th>7</th>\n",
       "      <td>CCRG-2</td>\n",
       "      <td>P9313_26651</td>\n",
       "    </tr>\n",
       "    <tr>\n",
       "      <th>8</th>\n",
       "      <td>CCRG-2</td>\n",
       "      <td>PMT0238</td>\n",
       "    </tr>\n",
       "    <tr>\n",
       "      <th>9</th>\n",
       "      <td>CCRG-2</td>\n",
       "      <td>P9313_26661</td>\n",
       "    </tr>\n",
       "    <tr>\n",
       "      <th>10</th>\n",
       "      <td>CCRG-2</td>\n",
       "      <td>P9313_02851</td>\n",
       "    </tr>\n",
       "    <tr>\n",
       "      <th>11</th>\n",
       "      <td>CCRG-2</td>\n",
       "      <td>PMT0943</td>\n",
       "    </tr>\n",
       "    <tr>\n",
       "      <th>12</th>\n",
       "      <td>CCRG-2</td>\n",
       "      <td>PMT0246</td>\n",
       "    </tr>\n",
       "    <tr>\n",
       "      <th>13</th>\n",
       "      <td>CCRG-2</td>\n",
       "      <td>PMT2118</td>\n",
       "    </tr>\n",
       "    <tr>\n",
       "      <th>14</th>\n",
       "      <td>CCRG-2</td>\n",
       "      <td>PMT1030</td>\n",
       "    </tr>\n",
       "  </tbody>\n",
       "</table>\n",
       "</div>"
      ],
      "text/plain": [
       "    family         Gene\n",
       "0   CCRG-1      PMT0956\n",
       "1   CCRG-1      PMT0971\n",
       "2   CCRG-1      PMT0885\n",
       "3   CCRG-2      PMT0923\n",
       "4   CCRG-2      PMT0928\n",
       "5   CCRG-2      PMT0925\n",
       "6   CCRG-2      PMT2125\n",
       "7   CCRG-2  P9313_26651\n",
       "8   CCRG-2      PMT0238\n",
       "9   CCRG-2  P9313_26661\n",
       "10  CCRG-2  P9313_02851\n",
       "11  CCRG-2      PMT0943\n",
       "12  CCRG-2      PMT0246\n",
       "13  CCRG-2      PMT2118\n",
       "14  CCRG-2      PMT1030"
      ]
     },
     "execution_count": 19,
     "metadata": {},
     "output_type": "execute_result"
    }
   ],
   "source": [
    "ccrg_procm_df.loc[~ccrg_procm_df.Gene.isin(genome_df.pmt_id) & ccrg_procm_df.family.isin(['CCRG-1', 'CCRG-2'])]"
   ]
  },
  {
   "cell_type": "code",
   "execution_count": 20,
   "metadata": {},
   "outputs": [],
   "source": [
    "# ProcAs.2\ts\t2\tNP_894719\t33863159\t969887\t970183\t+\tPMT0887\t567999\n",
    "# ProcAs.1\ts\t1\tNP_895437\t33863877\t1710816\t1711142\t+\tPMT1610\t568734\n",
    "# ProcA4.4\t4\t4\tNP_894754\t33863194\t1004342\t1004653\t-\tPMT0922\t568035\n",
    "# CCRG1: PMT0971 1049007\t1049402\n",
    "# CCRG1: PMT0885 968520\t968768\n",
    "# CCRG2 1005678\t1005340\t-\tPMT0923\n",
    "# CCRG2 1010507\t1010169\t-\tPMT0928\n",
    "# CCRG2 2238151\t2237804\t-\tPMT2125\n",
    "\n",
    "\n",
    "genome_df.loc[(genome_df.start >= 1049000) & (genome_df.stop <= 1049402), 'family'] = 'CCRG-1'\n",
    "genome_df.loc[(genome_df.start >= 968510) & (genome_df.stop <= 968780), 'family'] = 'CCRG-1'\n",
    "genome_df.loc[(genome_df.start >= 1005320) & (genome_df.stop <= 1005700), 'family'] = 'CCRG-2'\n",
    "genome_df.loc[(genome_df.start >= 1010150) & (genome_df.stop <= 1010520), 'family'] = 'CCRG-2'\n",
    "genome_df.loc[(genome_df.start >= 2237800) & (genome_df.stop <= 2238160), 'family'] = 'CCRG-2'\n"
   ]
  },
  {
   "cell_type": "code",
   "execution_count": null,
   "metadata": {},
   "outputs": [],
   "source": []
  },
  {
   "cell_type": "code",
   "execution_count": null,
   "metadata": {},
   "outputs": [],
   "source": []
  },
  {
   "cell_type": "code",
   "execution_count": 21,
   "metadata": {},
   "outputs": [
    {
     "data": {
      "text/html": [
       "<div>\n",
       "<style scoped>\n",
       "    .dataframe tbody tr th:only-of-type {\n",
       "        vertical-align: middle;\n",
       "    }\n",
       "\n",
       "    .dataframe tbody tr th {\n",
       "        vertical-align: top;\n",
       "    }\n",
       "\n",
       "    .dataframe thead th {\n",
       "        text-align: right;\n",
       "    }\n",
       "</style>\n",
       "<table border=\"1\" class=\"dataframe\">\n",
       "  <thead>\n",
       "    <tr style=\"text-align: right;\">\n",
       "      <th></th>\n",
       "      <th></th>\n",
       "      <th>contig_id</th>\n",
       "      <th>Gene</th>\n",
       "    </tr>\n",
       "    <tr>\n",
       "      <th>family</th>\n",
       "      <th>function</th>\n",
       "      <th></th>\n",
       "      <th></th>\n",
       "    </tr>\n",
       "  </thead>\n",
       "  <tbody>\n",
       "    <tr>\n",
       "      <th rowspan=\"2\" valign=\"top\">CCRG-1</th>\n",
       "      <th>guanylate-binding protein</th>\n",
       "      <td>1</td>\n",
       "      <td>0</td>\n",
       "    </tr>\n",
       "    <tr>\n",
       "      <th>hypothetical protein</th>\n",
       "      <td>1</td>\n",
       "      <td>0</td>\n",
       "    </tr>\n",
       "    <tr>\n",
       "      <th rowspan=\"3\" valign=\"top\">CCRG-2</th>\n",
       "      <th>CCRG-2 family RiPP</th>\n",
       "      <td>12</td>\n",
       "      <td>0</td>\n",
       "    </tr>\n",
       "    <tr>\n",
       "      <th>CCRG-2 family protein</th>\n",
       "      <td>3</td>\n",
       "      <td>0</td>\n",
       "    </tr>\n",
       "    <tr>\n",
       "      <th>hypothetical protein</th>\n",
       "      <td>3</td>\n",
       "      <td>0</td>\n",
       "    </tr>\n",
       "    <tr>\n",
       "      <th rowspan=\"2\" valign=\"top\">ProcA</th>\n",
       "      <th>Nif11-like leader peptide family natural product precursor</th>\n",
       "      <td>34</td>\n",
       "      <td>0</td>\n",
       "    </tr>\n",
       "    <tr>\n",
       "      <th>lantipeptide</th>\n",
       "      <td>1</td>\n",
       "      <td>0</td>\n",
       "    </tr>\n",
       "  </tbody>\n",
       "</table>\n",
       "</div>"
      ],
      "text/plain": [
       "                                                           contig_id  Gene\n",
       "family function                                                           \n",
       "CCRG-1 guanylate-binding protein                                   1     0\n",
       "       hypothetical protein                                        1     0\n",
       "CCRG-2 CCRG-2 family RiPP                                         12     0\n",
       "       CCRG-2 family protein                                       3     0\n",
       "       hypothetical protein                                        3     0\n",
       "ProcA  Nif11-like leader peptide family natural produc...         34     0\n",
       "       lantipeptide                                                1     0"
      ]
     },
     "execution_count": 21,
     "metadata": {},
     "output_type": "execute_result"
    }
   ],
   "source": [
    "genome_df.groupby(['family', 'function'])['contig_id', 'Gene'].count()"
   ]
  },
  {
   "cell_type": "code",
   "execution_count": 22,
   "metadata": {},
   "outputs": [
    {
     "data": {
      "image/png": "[encoded data removed]",
      "text/plain": [
       "<Figure size 403.2x288 with 1 Axes>"
      ]
     },
     "metadata": {},
     "output_type": "display_data"
    },
    {
     "data": {
      "image/png": "[encoded data removed]",
      "text/plain": [
       "<Figure size 403.2x288 with 1 Axes>"
      ]
     },
     "metadata": {},
     "output_type": "display_data"
    }
   ],
   "source": [
    "omap = {'standalone' : 'Intergenic', \n",
    "        'out_frame' : 'Out of Frame', \n",
    "        'antisense' : 'Antisense', \n",
    "        'in_frame' :'In Frame', \n",
    "        'known' : 'Annotated'}\n",
    "\n",
    "genome = 'MIT9313'\n",
    "df = pd.read_feather(os.path.join('orffinder_tmp', f'{genome}.ncbi.sorf.feather.gz'))\n",
    "df = df.loc[df.otype != 'overlap']\n",
    "df.otype = df.otype.map(omap)\n",
    "    \n",
    "sns.catplot(data=df, y='otype', kind='count', aspect=1.4, height=4,\n",
    "       order=oorder, palette=opalette\n",
    "           )\n",
    "plt.xticks(rotation=30) \n",
    "plt.ylabel('ORF Type')\n",
    "plt.xlabel('Number of ORFs')\n",
    "plt.title(f'Number of ORFs - {genome}')\n",
    "\n",
    "sns.catplot(data=df, y='otype', x='len_aa', aspect=1.4, height=4,\n",
    "        kind='box',\n",
    "       order=oorder, palette=opalette\n",
    "           )\n",
    "plt.xscale('log')\n",
    "plt.ylabel('ORF Type')\n",
    "plt.xlabel('ORFs length (aa)')\n",
    "\n",
    "plt.title(f'ORFs Lengths (Amino Acids) - {genome}')\n",
    "plt.show()\n",
    "    "
   ]
  },
  {
   "cell_type": "code",
   "execution_count": 23,
   "metadata": {},
   "outputs": [],
   "source": [
    "genome_df['aa_len'] = genome_df.aa_sequence.str.len()\n",
    "genome_df['short'] = genome_df['aa_len'] <= 100"
   ]
  },
  {
   "cell_type": "code",
   "execution_count": 24,
   "metadata": {},
   "outputs": [
    {
     "data": {
      "text/plain": [
       "type\n",
       "CDS           2403\n",
       "ncRNA            3\n",
       "rRNA             6\n",
       "regulatory       2\n",
       "tRNA            44\n",
       "tmRNA            1\n",
       "Name: genome, dtype: int64"
      ]
     },
     "execution_count": 24,
     "metadata": {},
     "output_type": "execute_result"
    }
   ],
   "source": [
    "genome_df.groupby('type').genome.count()"
   ]
  },
  {
   "cell_type": "code",
   "execution_count": 25,
   "metadata": {},
   "outputs": [
    {
     "data": {
      "text/plain": [
       "0"
      ]
     },
     "execution_count": 25,
     "metadata": {},
     "output_type": "execute_result"
    }
   ],
   "source": [
    "(genome_df.loc[~genome_df['type'].isin(['CDS']),'aa_sequence'] != '').sum()"
   ]
  },
  {
   "cell_type": "code",
   "execution_count": 26,
   "metadata": {},
   "outputs": [
    {
     "data": {
      "text/plain": [
       "type        short\n",
       "CDS         False    1855\n",
       "            True      548\n",
       "ncRNA       True        3\n",
       "rRNA        True        6\n",
       "regulatory  True        2\n",
       "tRNA        True       44\n",
       "tmRNA       True        1\n",
       "Name: genome, dtype: int64"
      ]
     },
     "execution_count": 26,
     "metadata": {},
     "output_type": "execute_result"
    }
   ],
   "source": [
    "genome_df.groupby(['type', 'short']).genome.count()"
   ]
  },
  {
   "cell_type": "code",
   "execution_count": 27,
   "metadata": {},
   "outputs": [
    {
     "data": {
      "text/html": [
       "<div>\n",
       "<style scoped>\n",
       "    .dataframe tbody tr th:only-of-type {\n",
       "        vertical-align: middle;\n",
       "    }\n",
       "\n",
       "    .dataframe tbody tr th {\n",
       "        vertical-align: top;\n",
       "    }\n",
       "\n",
       "    .dataframe thead th {\n",
       "        text-align: right;\n",
       "    }\n",
       "</style>\n",
       "<table border=\"1\" class=\"dataframe\">\n",
       "  <thead>\n",
       "    <tr style=\"text-align: right;\">\n",
       "      <th></th>\n",
       "      <th>contig_id</th>\n",
       "      <th>gene_id</th>\n",
       "      <th>pmt_id</th>\n",
       "      <th>type</th>\n",
       "      <th>location</th>\n",
       "      <th>strand</th>\n",
       "      <th>start</th>\n",
       "      <th>stop</th>\n",
       "      <th>left</th>\n",
       "      <th>right</th>\n",
       "      <th>...</th>\n",
       "      <th>product</th>\n",
       "      <th>db_xref</th>\n",
       "      <th>protein_id</th>\n",
       "      <th>figfam</th>\n",
       "      <th>nucleotide_sequence</th>\n",
       "      <th>aa_sequence</th>\n",
       "      <th>family</th>\n",
       "      <th>Gene</th>\n",
       "      <th>aa_len</th>\n",
       "      <th>short</th>\n",
       "    </tr>\n",
       "  </thead>\n",
       "  <tbody>\n",
       "    <tr>\n",
       "      <th>0</th>\n",
       "      <td>MIT9313</td>\n",
       "      <td>AKG35_RS00005</td>\n",
       "      <td>PMT0001,PMT_0001</td>\n",
       "      <td>CDS</td>\n",
       "      <td>AKG35_RS00005</td>\n",
       "      <td>+</td>\n",
       "      <td>173</td>\n",
       "      <td>1340</td>\n",
       "      <td>173</td>\n",
       "      <td>1340</td>\n",
       "      <td>...</td>\n",
       "      <td>DNA polymerase III subunit beta</td>\n",
       "      <td></td>\n",
       "      <td>WP_011129380.1</td>\n",
       "      <td></td>\n",
       "      <td></td>\n",
       "      <td>MKLVCSQAELNTALQLVSRAVASRPTHPVLANVLLTADAGTDRLSL...</td>\n",
       "      <td>NaN</td>\n",
       "      <td>NaN</td>\n",
       "      <td>388</td>\n",
       "      <td>False</td>\n",
       "    </tr>\n",
       "    <tr>\n",
       "      <th>1</th>\n",
       "      <td>MIT9313</td>\n",
       "      <td>AKG35_RS00010</td>\n",
       "      <td>PMT0002,PMT_0002</td>\n",
       "      <td>CDS</td>\n",
       "      <td>AKG35_RS00010</td>\n",
       "      <td>+</td>\n",
       "      <td>1343</td>\n",
       "      <td>2120</td>\n",
       "      <td>1343</td>\n",
       "      <td>2120</td>\n",
       "      <td>...</td>\n",
       "      <td>hypothetical protein</td>\n",
       "      <td></td>\n",
       "      <td>WP_041384224.1</td>\n",
       "      <td></td>\n",
       "      <td></td>\n",
       "      <td>MNLPDQILLSDLLHHRVRCDQGLDHGPGVLPWMHPPVHRLLGWVSR...</td>\n",
       "      <td>NaN</td>\n",
       "      <td>NaN</td>\n",
       "      <td>258</td>\n",
       "      <td>False</td>\n",
       "    </tr>\n",
       "    <tr>\n",
       "      <th>2</th>\n",
       "      <td>MIT9313</td>\n",
       "      <td>AKG35_RS00015</td>\n",
       "      <td>PMT0003,PMT_0003</td>\n",
       "      <td>CDS</td>\n",
       "      <td>AKG35_RS00015</td>\n",
       "      <td>+</td>\n",
       "      <td>2177</td>\n",
       "      <td>4562</td>\n",
       "      <td>2177</td>\n",
       "      <td>4562</td>\n",
       "      <td>...</td>\n",
       "      <td>phosphoribosylformylglycinamidine synthase sub...</td>\n",
       "      <td></td>\n",
       "      <td>WP_011129382.1</td>\n",
       "      <td></td>\n",
       "      <td></td>\n",
       "      <td>MRVDYDVAAALRHEGLKPHDYDEICRRLQRAPNRVELGMFGVMWSE...</td>\n",
       "      <td>NaN</td>\n",
       "      <td>NaN</td>\n",
       "      <td>794</td>\n",
       "      <td>False</td>\n",
       "    </tr>\n",
       "    <tr>\n",
       "      <th>3</th>\n",
       "      <td>MIT9313</td>\n",
       "      <td>AKG35_RS00020</td>\n",
       "      <td>PMT0004,PMT_0004</td>\n",
       "      <td>CDS</td>\n",
       "      <td>AKG35_RS00020</td>\n",
       "      <td>+</td>\n",
       "      <td>4621</td>\n",
       "      <td>6079</td>\n",
       "      <td>4621</td>\n",
       "      <td>6079</td>\n",
       "      <td>...</td>\n",
       "      <td>amidophosphoribosyltransferase</td>\n",
       "      <td></td>\n",
       "      <td>WP_011129383.1</td>\n",
       "      <td></td>\n",
       "      <td></td>\n",
       "      <td>MCGIVGIVSTALVNQQIYDSLLLLQHRGQDSTGIATMDGSVFHLHK...</td>\n",
       "      <td>NaN</td>\n",
       "      <td>NaN</td>\n",
       "      <td>485</td>\n",
       "      <td>False</td>\n",
       "    </tr>\n",
       "    <tr>\n",
       "      <th>4</th>\n",
       "      <td>MIT9313</td>\n",
       "      <td>AKG35_RS00025</td>\n",
       "      <td>PMT0005,PMT_0005</td>\n",
       "      <td>CDS</td>\n",
       "      <td>AKG35_RS00025</td>\n",
       "      <td>-</td>\n",
       "      <td>6114</td>\n",
       "      <td>8604</td>\n",
       "      <td>6114</td>\n",
       "      <td>8604</td>\n",
       "      <td>...</td>\n",
       "      <td>DNA topoisomerase 4 subunit A</td>\n",
       "      <td></td>\n",
       "      <td>WP_011129384.1</td>\n",
       "      <td></td>\n",
       "      <td></td>\n",
       "      <td>MAEERLQPIALHQEMQRSYLEYAMSVIVGRALPDARDGLKPVQRRI...</td>\n",
       "      <td>NaN</td>\n",
       "      <td>NaN</td>\n",
       "      <td>829</td>\n",
       "      <td>False</td>\n",
       "    </tr>\n",
       "  </tbody>\n",
       "</table>\n",
       "<p>5 rows × 23 columns</p>\n",
       "</div>"
      ],
      "text/plain": [
       "  contig_id        gene_id            pmt_id type       location strand  \\\n",
       "0   MIT9313  AKG35_RS00005  PMT0001,PMT_0001  CDS  AKG35_RS00005      +   \n",
       "1   MIT9313  AKG35_RS00010  PMT0002,PMT_0002  CDS  AKG35_RS00010      +   \n",
       "2   MIT9313  AKG35_RS00015  PMT0003,PMT_0003  CDS  AKG35_RS00015      +   \n",
       "3   MIT9313  AKG35_RS00020  PMT0004,PMT_0004  CDS  AKG35_RS00020      +   \n",
       "4   MIT9313  AKG35_RS00025  PMT0005,PMT_0005  CDS  AKG35_RS00025      -   \n",
       "\n",
       "   start  stop  left  right  ...  \\\n",
       "0    173  1340   173   1340  ...   \n",
       "1   1343  2120  1343   2120  ...   \n",
       "2   2177  4562  2177   4562  ...   \n",
       "3   4621  6079  4621   6079  ...   \n",
       "4   6114  8604  6114   8604  ...   \n",
       "\n",
       "                                             product db_xref      protein_id  \\\n",
       "0                    DNA polymerase III subunit beta          WP_011129380.1   \n",
       "1                               hypothetical protein          WP_041384224.1   \n",
       "2  phosphoribosylformylglycinamidine synthase sub...          WP_011129382.1   \n",
       "3                     amidophosphoribosyltransferase          WP_011129383.1   \n",
       "4                      DNA topoisomerase 4 subunit A          WP_011129384.1   \n",
       "\n",
       "  figfam nucleotide_sequence  \\\n",
       "0                              \n",
       "1                              \n",
       "2                              \n",
       "3                              \n",
       "4                              \n",
       "\n",
       "                                         aa_sequence family Gene aa_len  short  \n",
       "0  MKLVCSQAELNTALQLVSRAVASRPTHPVLANVLLTADAGTDRLSL...    NaN  NaN    388  False  \n",
       "1  MNLPDQILLSDLLHHRVRCDQGLDHGPGVLPWMHPPVHRLLGWVSR...    NaN  NaN    258  False  \n",
       "2  MRVDYDVAAALRHEGLKPHDYDEICRRLQRAPNRVELGMFGVMWSE...    NaN  NaN    794  False  \n",
       "3  MCGIVGIVSTALVNQQIYDSLLLLQHRGQDSTGIATMDGSVFHLHK...    NaN  NaN    485  False  \n",
       "4  MAEERLQPIALHQEMQRSYLEYAMSVIVGRALPDARDGLKPVQRRI...    NaN  NaN    829  False  \n",
       "\n",
       "[5 rows x 23 columns]"
      ]
     },
     "execution_count": 27,
     "metadata": {},
     "output_type": "execute_result"
    }
   ],
   "source": [
    "genome_df.head()"
   ]
  },
  {
   "cell_type": "code",
   "execution_count": 28,
   "metadata": {},
   "outputs": [],
   "source": [
    "df.loc[:,'merge_location'] = df['location']\n",
    "df.loc[df['location'].isna(), 'merge_location'] = df.loc[df['location'].isna(), 'overlap_location']\n",
    "df1 = pd.merge(df, genome_df, how='left', left_on='merge_location', right_on='location', suffixes=['', '_overlap'])"
   ]
  },
  {
   "cell_type": "raw",
   "metadata": {},
   "source": [
    "df1.loc[df1.otype == 'Annotated'].head().T"
   ]
  },
  {
   "cell_type": "code",
   "execution_count": 29,
   "metadata": {},
   "outputs": [],
   "source": [
    "protein_df = pd.read_excel(protein_fpath)"
   ]
  },
  {
   "cell_type": "code",
   "execution_count": 30,
   "metadata": {},
   "outputs": [
    {
     "data": {
      "text/plain": [
       "'>lcl|ORF9138_BX548175.1:1942594:1942632 unnamed protein product'"
      ]
     },
     "execution_count": 30,
     "metadata": {},
     "output_type": "execute_result"
    }
   ],
   "source": [
    "protein_df.Description.head()[0]"
   ]
  },
  {
   "cell_type": "code",
   "execution_count": 31,
   "metadata": {},
   "outputs": [],
   "source": [
    "protein_df['orfid'] = protein_df['Description'].str.replace(r' unnamed protein product', '').str.replace(r'>lcl\\|','')\n"
   ]
  },
  {
   "cell_type": "code",
   "execution_count": 32,
   "metadata": {},
   "outputs": [
    {
     "data": {
      "text/plain": [
       "'ORF9138_BX548175.1:1942594:1942632'"
      ]
     },
     "execution_count": 32,
     "metadata": {},
     "output_type": "execute_result"
    }
   ],
   "source": [
    "protein_df.orfid[0]"
   ]
  },
  {
   "cell_type": "code",
   "execution_count": 33,
   "metadata": {},
   "outputs": [
    {
     "data": {
      "text/plain": [
       "'ORF1_BX548175.1:78:176'"
      ]
     },
     "execution_count": 33,
     "metadata": {},
     "output_type": "execute_result"
    }
   ],
   "source": [
    "df1.orfid[0]"
   ]
  },
  {
   "cell_type": "code",
   "execution_count": 34,
   "metadata": {},
   "outputs": [
    {
     "data": {
      "text/plain": [
       "Index(['Description', '|Log Prob|', 'Best\\n|Log Prob|', 'Best\\nscore',\n",
       "       'Total\\nIntensity', '# of\\nspectra', '# of\\nunique peptides',\n",
       "       '# of mod\\npeptides', 'Coverage\\n%', '# AA's in\\nprotein', 'orfid'],\n",
       "      dtype='object')"
      ]
     },
     "execution_count": 34,
     "metadata": {},
     "output_type": "execute_result"
    }
   ],
   "source": [
    "protein_df.columns"
   ]
  },
  {
   "cell_type": "code",
   "execution_count": 35,
   "metadata": {},
   "outputs": [
    {
     "name": "stderr",
     "output_type": "stream",
     "text": [
      "C:\\Users\\wosnat\\Anaconda3\\lib\\site-packages\\pandas\\core\\frame.py:4218: SettingWithCopyWarning: \n",
      "A value is trying to be set on a copy of a slice from a DataFrame\n",
      "\n",
      "See the caveats in the documentation: http://pandas.pydata.org/pandas-docs/stable/user_guide/indexing.html#returning-a-view-versus-a-copy\n",
      "  return super().rename(**kwargs)\n",
      "C:\\Users\\wosnat\\Anaconda3\\lib\\site-packages\\ipykernel_launcher.py:13: SettingWithCopyWarning: \n",
      "A value is trying to be set on a copy of a slice from a DataFrame.\n",
      "Try using .loc[row_indexer,col_indexer] = value instead\n",
      "\n",
      "See the caveats in the documentation: http://pandas.pydata.org/pandas-docs/stable/user_guide/indexing.html#returning-a-view-versus-a-copy\n",
      "  del sys.path[0]\n",
      "C:\\Users\\wosnat\\Anaconda3\\lib\\site-packages\\ipykernel_launcher.py:14: SettingWithCopyWarning: \n",
      "A value is trying to be set on a copy of a slice from a DataFrame.\n",
      "Try using .loc[row_indexer,col_indexer] = value instead\n",
      "\n",
      "See the caveats in the documentation: http://pandas.pydata.org/pandas-docs/stable/user_guide/indexing.html#returning-a-view-versus-a-copy\n",
      "  \n"
     ]
    }
   ],
   "source": [
    "additional_annotated_df = protein_df.loc[protein_df.Description.str.startswith('>AK')]\n",
    "additional_annotated_df.rename(columns={\n",
    "    '|Log Prob|': 'log_prob', \n",
    "    'Best\\n|Log Prob|' : 'best log prob',\n",
    "    'Best\\nscore': 'best_score', \n",
    "    'Total\\nIntensity' : 'total_intensity', \n",
    "    '# of\\nspectra' : 'num_spectra',\n",
    "    '# of\\nunique peptides'  :'Unique Peptides', \n",
    "    '# of mod\\npeptides' : 'mod_peptides',\n",
    "    'Coverage\\n%' : 'Coverage',\n",
    "    \"# AA's in\\nprotein\" : 'AAs',\n",
    "}, inplace=True)\n",
    "additional_annotated_df['short'] = additional_annotated_df['AAs'] < 100\n",
    "additional_annotated_df['ms_detected'] = (additional_annotated_df['Unique Peptides'] > 1) | (additional_annotated_df['best_score'] > 500)\n"
   ]
  },
  {
   "cell_type": "code",
   "execution_count": 36,
   "metadata": {
    "scrolled": true
   },
   "outputs": [
    {
     "name": "stderr",
     "output_type": "stream",
     "text": [
      "C:\\Users\\wosnat\\Anaconda3\\lib\\site-packages\\pandas\\core\\frame.py:3489: SettingWithCopyWarning: \n",
      "A value is trying to be set on a copy of a slice from a DataFrame.\n",
      "Try using .loc[row_indexer,col_indexer] = value instead\n",
      "\n",
      "See the caveats in the documentation: http://pandas.pydata.org/pandas-docs/stable/user_guide/indexing.html#returning-a-view-versus-a-copy\n",
      "  self[k1] = value[k2]\n"
     ]
    }
   ],
   "source": [
    "additional_annotated_df[['orfid', 'product']] = additional_annotated_df.Description.str.replace('^>','').str.split(' ', expand=True, n=1)"
   ]
  },
  {
   "cell_type": "code",
   "execution_count": 37,
   "metadata": {},
   "outputs": [],
   "source": [
    "additional_annotated_df = pd.merge(additional_annotated_df, genome_df, left_on='orfid', right_on='location', how='left', \n",
    "                                   suffixes=['', '_y'])"
   ]
  },
  {
   "cell_type": "code",
   "execution_count": 38,
   "metadata": {},
   "outputs": [],
   "source": [
    "additional_annotated_df.loc[additional_annotated_df.short & additional_annotated_df.ms_detected\n",
    "                           ].to_pickle('found_sorf_additional_ISME16.pkl.gz')"
   ]
  },
  {
   "cell_type": "code",
   "execution_count": 39,
   "metadata": {},
   "outputs": [],
   "source": [
    "additional_annotated_df['contig'] = 'genome'\n",
    "additional_annotated_df['aaseq'] = additional_annotated_df['aa_sequence']\n",
    "additional_annotated_df['otype'] = 'Annotated'\n",
    "additional_annotated_df['len_aa'] = additional_annotated_df.AAs"
   ]
  },
  {
   "cell_type": "code",
   "execution_count": 40,
   "metadata": {},
   "outputs": [],
   "source": [
    "merge_df = pd.merge(df1, protein_df, how='left', on='orfid', suffixes=['','_p'])"
   ]
  },
  {
   "cell_type": "raw",
   "metadata": {},
   "source": [
    "merge_df.head().T"
   ]
  },
  {
   "cell_type": "code",
   "execution_count": 41,
   "metadata": {},
   "outputs": [
    {
     "data": {
      "text/plain": [
       "Index(['orfid', 'contig', 'left', 'right', 'start', 'stop', 'strand', 'aaseq',\n",
       "       'len_nn', 'len_aa', 'len_aa3', 'rast_left', 'rast_right', 'contig_id',\n",
       "       'gene_id', 'location', 'type', 'start_r', 'stop_r', 'function',\n",
       "       'figfam', 'nucleotide_sequence', 'aa_sequence', 'genome', 'left_r',\n",
       "       'right_r', 'overlap_location', 'overlap_strand', 'overlap_gene_type',\n",
       "       'overlap_count', 'is_same_strand', 'is_out_of_frame', 'is_inside',\n",
       "       'is_upstream', 'is_downstream', 'overlap_type', 'otype',\n",
       "       'merge_location', 'contig_id_overlap', 'gene_id_overlap', 'pmt_id',\n",
       "       'type_overlap', 'location_overlap', 'strand_overlap', 'start_overlap',\n",
       "       'stop_overlap', 'left_overlap', 'right_overlap', 'function_overlap',\n",
       "       'genome_overlap', 'old_locus_tag', 'product', 'db_xref', 'protein_id',\n",
       "       'figfam_overlap', 'nucleotide_sequence_overlap', 'aa_sequence_overlap',\n",
       "       'family', 'Gene', 'aa_len', 'short', 'Description', '|Log Prob|',\n",
       "       'Best\\n|Log Prob|', 'Best\\nscore', 'Total\\nIntensity', '# of\\nspectra',\n",
       "       '# of\\nunique peptides', '# of mod\\npeptides', 'Coverage\\n%',\n",
       "       '# AA's in\\nprotein'],\n",
       "      dtype='object')"
      ]
     },
     "execution_count": 41,
     "metadata": {},
     "output_type": "execute_result"
    }
   ],
   "source": [
    "merge_df.columns"
   ]
  },
  {
   "cell_type": "code",
   "execution_count": 42,
   "metadata": {},
   "outputs": [
    {
     "data": {
      "text/html": [
       "<div>\n",
       "<style scoped>\n",
       "    .dataframe tbody tr th:only-of-type {\n",
       "        vertical-align: middle;\n",
       "    }\n",
       "\n",
       "    .dataframe tbody tr th {\n",
       "        vertical-align: top;\n",
       "    }\n",
       "\n",
       "    .dataframe thead th {\n",
       "        text-align: right;\n",
       "    }\n",
       "</style>\n",
       "<table border=\"1\" class=\"dataframe\">\n",
       "  <thead>\n",
       "    <tr style=\"text-align: right;\">\n",
       "      <th></th>\n",
       "      <th>orfid</th>\n",
       "      <th>contig</th>\n",
       "      <th>left</th>\n",
       "      <th>right</th>\n",
       "      <th>start</th>\n",
       "      <th>stop</th>\n",
       "      <th>strand</th>\n",
       "      <th>aaseq</th>\n",
       "      <th>len_nn</th>\n",
       "      <th>len_aa</th>\n",
       "      <th>...</th>\n",
       "      <th>Description</th>\n",
       "      <th>|Log Prob|</th>\n",
       "      <th>Best\\n|Log Prob|</th>\n",
       "      <th>Best\\nscore</th>\n",
       "      <th>Total\\nIntensity</th>\n",
       "      <th># of\\nspectra</th>\n",
       "      <th># of\\nunique peptides</th>\n",
       "      <th># of mod\\npeptides</th>\n",
       "      <th>Coverage\\n%</th>\n",
       "      <th># AA's in\\nprotein</th>\n",
       "    </tr>\n",
       "  </thead>\n",
       "  <tbody>\n",
       "    <tr>\n",
       "      <th>0</th>\n",
       "      <td>ORF1_BX548175.1:78:176</td>\n",
       "      <td>BX548175.1</td>\n",
       "      <td>78</td>\n",
       "      <td>176</td>\n",
       "      <td>78</td>\n",
       "      <td>176</td>\n",
       "      <td>+</td>\n",
       "      <td>MNENDLPLHFLLACEILGDLFSVLVLVVTLIQ</td>\n",
       "      <td>99</td>\n",
       "      <td>32</td>\n",
       "      <td>...</td>\n",
       "      <td>NaN</td>\n",
       "      <td>NaN</td>\n",
       "      <td>NaN</td>\n",
       "      <td>NaN</td>\n",
       "      <td>NaN</td>\n",
       "      <td>NaN</td>\n",
       "      <td>NaN</td>\n",
       "      <td>NaN</td>\n",
       "      <td>NaN</td>\n",
       "      <td>NaN</td>\n",
       "    </tr>\n",
       "    <tr>\n",
       "      <th>1</th>\n",
       "      <td>ORF2_BX548175.1:453:590</td>\n",
       "      <td>BX548175.1</td>\n",
       "      <td>453</td>\n",
       "      <td>590</td>\n",
       "      <td>453</td>\n",
       "      <td>590</td>\n",
       "      <td>+</td>\n",
       "      <td>MRLVNRLNSKVQAGVIRCVGCLLMIFLNYLLLKVVRLSRLMRGLF</td>\n",
       "      <td>138</td>\n",
       "      <td>45</td>\n",
       "      <td>...</td>\n",
       "      <td>NaN</td>\n",
       "      <td>NaN</td>\n",
       "      <td>NaN</td>\n",
       "      <td>NaN</td>\n",
       "      <td>NaN</td>\n",
       "      <td>NaN</td>\n",
       "      <td>NaN</td>\n",
       "      <td>NaN</td>\n",
       "      <td>NaN</td>\n",
       "      <td>NaN</td>\n",
       "    </tr>\n",
       "    <tr>\n",
       "      <th>2</th>\n",
       "      <td>ORF3_BX548175.1:669:722</td>\n",
       "      <td>BX548175.1</td>\n",
       "      <td>669</td>\n",
       "      <td>722</td>\n",
       "      <td>669</td>\n",
       "      <td>722</td>\n",
       "      <td>+</td>\n",
       "      <td>MVKPWKQRQLMVTALPF</td>\n",
       "      <td>54</td>\n",
       "      <td>17</td>\n",
       "      <td>...</td>\n",
       "      <td>NaN</td>\n",
       "      <td>NaN</td>\n",
       "      <td>NaN</td>\n",
       "      <td>NaN</td>\n",
       "      <td>NaN</td>\n",
       "      <td>NaN</td>\n",
       "      <td>NaN</td>\n",
       "      <td>NaN</td>\n",
       "      <td>NaN</td>\n",
       "      <td>NaN</td>\n",
       "    </tr>\n",
       "    <tr>\n",
       "      <th>3</th>\n",
       "      <td>ORF4_BX548175.1:972:1025</td>\n",
       "      <td>BX548175.1</td>\n",
       "      <td>972</td>\n",
       "      <td>1025</td>\n",
       "      <td>972</td>\n",
       "      <td>1025</td>\n",
       "      <td>+</td>\n",
       "      <td>MVLLGVSMLIGVLLLQL</td>\n",
       "      <td>54</td>\n",
       "      <td>17</td>\n",
       "      <td>...</td>\n",
       "      <td>NaN</td>\n",
       "      <td>NaN</td>\n",
       "      <td>NaN</td>\n",
       "      <td>NaN</td>\n",
       "      <td>NaN</td>\n",
       "      <td>NaN</td>\n",
       "      <td>NaN</td>\n",
       "      <td>NaN</td>\n",
       "      <td>NaN</td>\n",
       "      <td>NaN</td>\n",
       "    </tr>\n",
       "    <tr>\n",
       "      <th>4</th>\n",
       "      <td>ORF5_BX548175.1:1167:1205</td>\n",
       "      <td>BX548175.1</td>\n",
       "      <td>1167</td>\n",
       "      <td>1205</td>\n",
       "      <td>1167</td>\n",
       "      <td>1205</td>\n",
       "      <td>+</td>\n",
       "      <td>MLFRLLLMFVMY</td>\n",
       "      <td>39</td>\n",
       "      <td>12</td>\n",
       "      <td>...</td>\n",
       "      <td>NaN</td>\n",
       "      <td>NaN</td>\n",
       "      <td>NaN</td>\n",
       "      <td>NaN</td>\n",
       "      <td>NaN</td>\n",
       "      <td>NaN</td>\n",
       "      <td>NaN</td>\n",
       "      <td>NaN</td>\n",
       "      <td>NaN</td>\n",
       "      <td>NaN</td>\n",
       "    </tr>\n",
       "  </tbody>\n",
       "</table>\n",
       "<p>5 rows × 71 columns</p>\n",
       "</div>"
      ],
      "text/plain": [
       "                       orfid      contig  left  right  start  stop strand  \\\n",
       "0     ORF1_BX548175.1:78:176  BX548175.1    78    176     78   176      +   \n",
       "1    ORF2_BX548175.1:453:590  BX548175.1   453    590    453   590      +   \n",
       "2    ORF3_BX548175.1:669:722  BX548175.1   669    722    669   722      +   \n",
       "3   ORF4_BX548175.1:972:1025  BX548175.1   972   1025    972  1025      +   \n",
       "4  ORF5_BX548175.1:1167:1205  BX548175.1  1167   1205   1167  1205      +   \n",
       "\n",
       "                                           aaseq  len_nn  len_aa  ...  \\\n",
       "0               MNENDLPLHFLLACEILGDLFSVLVLVVTLIQ      99      32  ...   \n",
       "1  MRLVNRLNSKVQAGVIRCVGCLLMIFLNYLLLKVVRLSRLMRGLF     138      45  ...   \n",
       "2                              MVKPWKQRQLMVTALPF      54      17  ...   \n",
       "3                              MVLLGVSMLIGVLLLQL      54      17  ...   \n",
       "4                                   MLFRLLLMFVMY      39      12  ...   \n",
       "\n",
       "   Description  |Log Prob|  Best\\n|Log Prob| Best\\nscore Total\\nIntensity  \\\n",
       "0          NaN         NaN               NaN         NaN              NaN   \n",
       "1          NaN         NaN               NaN         NaN              NaN   \n",
       "2          NaN         NaN               NaN         NaN              NaN   \n",
       "3          NaN         NaN               NaN         NaN              NaN   \n",
       "4          NaN         NaN               NaN         NaN              NaN   \n",
       "\n",
       "  # of\\nspectra # of\\nunique peptides  # of mod\\npeptides  Coverage\\n%  \\\n",
       "0           NaN                   NaN                 NaN          NaN   \n",
       "1           NaN                   NaN                 NaN          NaN   \n",
       "2           NaN                   NaN                 NaN          NaN   \n",
       "3           NaN                   NaN                 NaN          NaN   \n",
       "4           NaN                   NaN                 NaN          NaN   \n",
       "\n",
       "  # AA's in\\nprotein  \n",
       "0                NaN  \n",
       "1                NaN  \n",
       "2                NaN  \n",
       "3                NaN  \n",
       "4                NaN  \n",
       "\n",
       "[5 rows x 71 columns]"
      ]
     },
     "execution_count": 42,
     "metadata": {},
     "output_type": "execute_result"
    }
   ],
   "source": [
    "merge_df.head()"
   ]
  },
  {
   "cell_type": "code",
   "execution_count": null,
   "metadata": {},
   "outputs": [],
   "source": []
  },
  {
   "cell_type": "code",
   "execution_count": 43,
   "metadata": {},
   "outputs": [],
   "source": [
    "merge_df.rename(columns={\n",
    "    '|Log Prob|': 'log_prob', \n",
    "    'Best\\n|Log Prob|' : 'best log prob',\n",
    "    'Best\\nscore': 'best_score', \n",
    "    'Total\\nIntensity' : 'total_intensity', \n",
    "    '# of\\nspectra' : 'num_spectra',\n",
    "    '# of\\nunique peptides'  :'Unique Peptides', \n",
    "    '# of mod\\npeptides' : 'mod_peptides',\n",
    "    'Coverage\\n%' : 'Coverage',\n",
    "    \"# AA's in\\nprotein\" : 'AAs',\n",
    "}, inplace=True)"
   ]
  },
  {
   "cell_type": "code",
   "execution_count": 44,
   "metadata": {},
   "outputs": [
    {
     "name": "stderr",
     "output_type": "stream",
     "text": [
      "C:\\Users\\wosnat\\Anaconda3\\lib\\site-packages\\ipykernel_launcher.py:1: FutureWarning: Sorting because non-concatenation axis is not aligned. A future version\n",
      "of pandas will change to not sort by default.\n",
      "\n",
      "To accept the future behavior, pass 'sort=False'.\n",
      "\n",
      "To retain the current behavior and silence the warning, pass 'sort=True'.\n",
      "\n",
      "  \"\"\"Entry point for launching an IPython kernel.\n"
     ]
    }
   ],
   "source": [
    "merge_df = pd.concat([merge_df, additional_annotated_df])"
   ]
  },
  {
   "cell_type": "code",
   "execution_count": 45,
   "metadata": {},
   "outputs": [
    {
     "data": {
      "text/plain": [
       "AAs                33489\n",
       "Coverage           33489\n",
       "Description        33489\n",
       "Gene               34916\n",
       "Unique Peptides    33489\n",
       "                   ...  \n",
       "strand                 0\n",
       "strand_overlap       447\n",
       "total_intensity    33489\n",
       "type               32993\n",
       "type_overlap         447\n",
       "Length: 74, dtype: int64"
      ]
     },
     "execution_count": 45,
     "metadata": {},
     "output_type": "execute_result"
    }
   ],
   "source": [
    "merge_df.isna().sum()"
   ]
  },
  {
   "cell_type": "code",
   "execution_count": 46,
   "metadata": {},
   "outputs": [],
   "source": [
    "merge_df['short'] = merge_df.len_aa < 100"
   ]
  },
  {
   "cell_type": "code",
   "execution_count": 47,
   "metadata": {},
   "outputs": [
    {
     "data": {
      "text/plain": [
       "AAs                 1427\n",
       "Coverage            1427\n",
       "Description         1427\n",
       "Gene                   0\n",
       "Unique Peptides     1427\n",
       "                   ...  \n",
       "strand             34916\n",
       "strand_overlap     34469\n",
       "total_intensity     1427\n",
       "type                1923\n",
       "type_overlap       34469\n",
       "Length: 74, dtype: int64"
      ]
     },
     "execution_count": 47,
     "metadata": {},
     "output_type": "execute_result"
    }
   ],
   "source": [
    "(~merge_df.isna()).sum()"
   ]
  },
  {
   "cell_type": "code",
   "execution_count": 48,
   "metadata": {},
   "outputs": [
    {
     "data": {
      "text/plain": [
       "(1416, 11)"
      ]
     },
     "execution_count": 48,
     "metadata": {},
     "output_type": "execute_result"
    }
   ],
   "source": [
    "protein_df.shape"
   ]
  },
  {
   "cell_type": "code",
   "execution_count": 49,
   "metadata": {},
   "outputs": [
    {
     "data": {
      "text/plain": [
       "Index(['aa_sequence_overlap', 'contig_id_overlap', 'figfam_overlap',\n",
       "       'function_overlap', 'gene_id_overlap', 'genome_overlap',\n",
       "       'is_downstream', 'is_inside', 'is_out_of_frame', 'is_same_strand',\n",
       "       'is_upstream', 'left_overlap', 'left_r', 'len_aa3', 'len_nn',\n",
       "       'location_overlap', 'merge_location', 'nucleotide_sequence_overlap',\n",
       "       'overlap_count', 'overlap_gene_type', 'overlap_location',\n",
       "       'overlap_strand', 'overlap_type', 'rast_left', 'rast_right',\n",
       "       'right_overlap', 'right_r', 'start_overlap', 'start_r', 'stop_overlap',\n",
       "       'stop_r', 'strand_overlap', 'type_overlap'],\n",
       "      dtype='object')"
      ]
     },
     "execution_count": 49,
     "metadata": {},
     "output_type": "execute_result"
    }
   ],
   "source": [
    "merge_df.columns[~merge_df.columns.isin(additional_annotated_df.columns)]"
   ]
  },
  {
   "cell_type": "code",
   "execution_count": null,
   "metadata": {},
   "outputs": [],
   "source": []
  },
  {
   "cell_type": "code",
   "execution_count": null,
   "metadata": {},
   "outputs": [],
   "source": []
  },
  {
   "cell_type": "code",
   "execution_count": 50,
   "metadata": {},
   "outputs": [],
   "source": [
    "merge_df['Unique Peptides'] = pd.to_numeric(merge_df['Unique Peptides'])\n",
    "merge_df['Coverage'] = pd.to_numeric(merge_df['Coverage'])\n",
    "merge_df['best_score'] = pd.to_numeric(merge_df['best_score'])\n"
   ]
  },
  {
   "cell_type": "code",
   "execution_count": null,
   "metadata": {},
   "outputs": [],
   "source": []
  },
  {
   "cell_type": "code",
   "execution_count": 51,
   "metadata": {},
   "outputs": [
    {
     "data": {
      "text/plain": [
       "<matplotlib.axes._subplots.AxesSubplot at 0x1eb1fb879e8>"
      ]
     },
     "execution_count": 51,
     "metadata": {},
     "output_type": "execute_result"
    },
    {
     "data": {
      "image/png": "[encoded data removed]",
      "text/plain": [
       "<Figure size 432x288 with 1 Axes>"
      ]
     },
     "metadata": {},
     "output_type": "display_data"
    }
   ],
   "source": [
    "sns.distplot(merge_df.best_score.dropna())"
   ]
  },
  {
   "cell_type": "code",
   "execution_count": 52,
   "metadata": {},
   "outputs": [
    {
     "name": "stderr",
     "output_type": "stream",
     "text": [
      "C:\\Users\\wosnat\\Anaconda3\\lib\\site-packages\\seaborn\\categorical.py:2974: UserWarning: The `split` parameter has been renamed to `dodge`.\n",
      "  warnings.warn(msg, UserWarning)\n"
     ]
    },
    {
     "data": {
      "text/plain": [
       "<seaborn.axisgrid.FacetGrid at 0x1eb213eb588>"
      ]
     },
     "execution_count": 52,
     "metadata": {},
     "output_type": "execute_result"
    },
    {
     "data": {
      "image/png": "[encoded data removed]",
      "text/plain": [
       "<Figure size 819.775x360 with 1 Axes>"
      ]
     },
     "metadata": {},
     "output_type": "display_data"
    }
   ],
   "source": [
    "sns.catplot(data=merge_df.dropna(subset=['best_score']), x='otype', y='best_score', aspect=2, \n",
    "            kind='swarm', hue='short', split=True)"
   ]
  },
  {
   "cell_type": "code",
   "execution_count": 53,
   "metadata": {},
   "outputs": [
    {
     "data": {
      "text/plain": [
       "<seaborn.axisgrid.FacetGrid at 0x1eb1efbffd0>"
      ]
     },
     "execution_count": 53,
     "metadata": {},
     "output_type": "execute_result"
    },
    {
     "data": {
      "image/png": "[encoded data removed]",
      "text/plain": [
       "<Figure size 720x360 with 1 Axes>"
      ]
     },
     "metadata": {},
     "output_type": "display_data"
    }
   ],
   "source": [
    "sns.catplot(data=merge_df.dropna(subset=['best_score']), x='otype', y='best_score', aspect=2, \n",
    "            kind='swarm', #hue='short', split=True\n",
    "           )"
   ]
  },
  {
   "cell_type": "code",
   "execution_count": 54,
   "metadata": {},
   "outputs": [
    {
     "data": {
      "text/plain": [
       "<seaborn.axisgrid.FacetGrid at 0x1eb1ffc2f98>"
      ]
     },
     "execution_count": 54,
     "metadata": {},
     "output_type": "execute_result"
    },
    {
     "data": {
      "image/png": "[encoded data removed]",
      "text/plain": [
       "<Figure size 516.775x360 with 1 Axes>"
      ]
     },
     "metadata": {},
     "output_type": "display_data"
    }
   ],
   "source": [
    "sns.relplot(data=merge_df, y='best_score', x='len_aa', hue='otype', s=30, hue_order=oorder, palette=opalette)"
   ]
  },
  {
   "cell_type": "code",
   "execution_count": 55,
   "metadata": {},
   "outputs": [
    {
     "data": {
      "text/plain": [
       "[<matplotlib.axis.XTick at 0x1eb293a3b70>,\n",
       " <matplotlib.axis.XTick at 0x1eb293a3400>,\n",
       " <matplotlib.axis.XTick at 0x1eb20421710>]"
      ]
     },
     "execution_count": 55,
     "metadata": {},
     "output_type": "execute_result"
    },
    {
     "data": {
      "image/png": "[encoded data removed]",
      "text/plain": [
       "<Figure size 901.025x360 with 2 Axes>"
      ]
     },
     "metadata": {},
     "output_type": "display_data"
    }
   ],
   "source": [
    "sns.set_context('talk')\n",
    "g = sns.relplot(data=merge_df, y='log_prob', x='len_aa', hue='otype',  hue_order=oorder, \n",
    "            palette=opalette, col='short',\n",
    "            size='Unique Peptides',# s=30,\n",
    "           facet_kws=dict(#sharey=False, \n",
    "               sharex=False)\n",
    "           )\n",
    "g.axes.flat[0].set_xticks([0,1000,2000]) # set new labels"
   ]
  },
  {
   "cell_type": "code",
   "execution_count": 56,
   "metadata": {},
   "outputs": [],
   "source": [
    "merge_df['multiple unique peptides'] = merge_df['Unique Peptides'] > 1\n",
    "merge_df['has unique peptides'] = merge_df['Unique Peptides'] > 0\n",
    "merge_df['ms_detected'] = (merge_df['Unique Peptides'] > 1) | (merge_df['best_score'] > 500)"
   ]
  },
  {
   "cell_type": "code",
   "execution_count": 57,
   "metadata": {},
   "outputs": [
    {
     "data": {
      "text/plain": [
       "(34916, 76)"
      ]
     },
     "execution_count": 57,
     "metadata": {},
     "output_type": "execute_result"
    }
   ],
   "source": [
    "merge_df.shape"
   ]
  },
  {
   "cell_type": "code",
   "execution_count": 58,
   "metadata": {},
   "outputs": [
    {
     "data": {
      "text/plain": [
       "Index(['AAs', 'Coverage', 'Description', 'Gene', 'Unique Peptides', 'aa_len',\n",
       "       'aa_sequence', 'aa_sequence_overlap', 'aaseq', 'best log prob',\n",
       "       'best_score', 'contig', 'contig_id', 'contig_id_overlap', 'db_xref',\n",
       "       'family', 'figfam', 'figfam_overlap', 'function', 'function_overlap',\n",
       "       'gene_id', 'gene_id_overlap', 'genome', 'genome_overlap',\n",
       "       'is_downstream', 'is_inside', 'is_out_of_frame', 'is_same_strand',\n",
       "       'is_upstream', 'left', 'left_overlap', 'left_r', 'len_aa', 'len_aa3',\n",
       "       'len_nn', 'location', 'location_overlap', 'log_prob', 'merge_location',\n",
       "       'mod_peptides', 'ms_detected', 'nucleotide_sequence',\n",
       "       'nucleotide_sequence_overlap', 'num_spectra', 'old_locus_tag', 'orfid',\n",
       "       'otype', 'overlap_count', 'overlap_gene_type', 'overlap_location',\n",
       "       'overlap_strand', 'overlap_type', 'pmt_id', 'product', 'product_y',\n",
       "       'protein_id', 'rast_left', 'rast_right', 'right', 'right_overlap',\n",
       "       'right_r', 'short', 'short_y', 'start', 'start_overlap', 'start_r',\n",
       "       'stop', 'stop_overlap', 'stop_r', 'strand', 'strand_overlap',\n",
       "       'total_intensity', 'type', 'type_overlap', 'multiple unique peptides',\n",
       "       'has unique peptides'],\n",
       "      dtype='object')"
      ]
     },
     "execution_count": 58,
     "metadata": {},
     "output_type": "execute_result"
    }
   ],
   "source": [
    "merge_df.columns"
   ]
  },
  {
   "cell_type": "code",
   "execution_count": 59,
   "metadata": {},
   "outputs": [
    {
     "data": {
      "text/plain": [
       "CDS           2403\n",
       "tRNA            44\n",
       "rRNA             6\n",
       "ncRNA            3\n",
       "regulatory       2\n",
       "tmRNA            1\n",
       "Name: type, dtype: int64"
      ]
     },
     "execution_count": 59,
     "metadata": {},
     "output_type": "execute_result"
    }
   ],
   "source": [
    "genome_df.type.value_counts()"
   ]
  },
  {
   "cell_type": "code",
   "execution_count": 60,
   "metadata": {},
   "outputs": [
    {
     "data": {
      "text/plain": [
       "Antisense       13432\n",
       "Intergenic       9254\n",
       "Out of Frame     8544\n",
       "Annotated        1923\n",
       "In Frame         1763\n",
       "Name: otype, dtype: int64"
      ]
     },
     "execution_count": 60,
     "metadata": {},
     "output_type": "execute_result"
    }
   ],
   "source": [
    "merge_df['otype'].value_counts()"
   ]
  },
  {
   "cell_type": "code",
   "execution_count": 61,
   "metadata": {},
   "outputs": [
    {
     "data": {
      "text/plain": [
       "False    33519\n",
       "True      1397\n",
       "Name: ms_detected, dtype: int64"
      ]
     },
     "execution_count": 61,
     "metadata": {},
     "output_type": "execute_result"
    }
   ],
   "source": [
    "merge_df['ms_detected'].value_counts()"
   ]
  },
  {
   "cell_type": "code",
   "execution_count": 62,
   "metadata": {},
   "outputs": [],
   "source": [
    "merge_df = merge_df.drop_duplicates(['orfid', 'otype', 'ms_detected', 'short', ])"
   ]
  },
  {
   "cell_type": "code",
   "execution_count": 63,
   "metadata": {},
   "outputs": [
    {
     "data": {
      "text/plain": [
       "otype         ms_detected  short\n",
       "Annotated     False        False      399\n",
       "                           True       166\n",
       "              True         False     1163\n",
       "                           True       195\n",
       "Antisense     False        False      425\n",
       "                           True     13000\n",
       "              True         False        2\n",
       "                           True         5\n",
       "In Frame      False        False      475\n",
       "                           True      1288\n",
       "Intergenic    False        False       11\n",
       "                           True      4603\n",
       "              True         False        1\n",
       "                           True        12\n",
       "Out of Frame  False        False       96\n",
       "                           True      8442\n",
       "              True         False        5\n",
       "                           True         1\n",
       "Name: len_aa, dtype: int64"
      ]
     },
     "execution_count": 63,
     "metadata": {},
     "output_type": "execute_result"
    }
   ],
   "source": [
    "merge_df.groupby(['otype', 'ms_detected', 'short', ])['len_aa'].count()"
   ]
  },
  {
   "cell_type": "code",
   "execution_count": 64,
   "metadata": {},
   "outputs": [
    {
     "data": {
      "text/html": [
       "<div>\n",
       "<style scoped>\n",
       "    .dataframe tbody tr th:only-of-type {\n",
       "        vertical-align: middle;\n",
       "    }\n",
       "\n",
       "    .dataframe tbody tr th {\n",
       "        vertical-align: top;\n",
       "    }\n",
       "\n",
       "    .dataframe thead tr th {\n",
       "        text-align: left;\n",
       "    }\n",
       "\n",
       "    .dataframe thead tr:last-of-type th {\n",
       "        text-align: right;\n",
       "    }\n",
       "</style>\n",
       "<table border=\"1\" class=\"dataframe\">\n",
       "  <thead>\n",
       "    <tr>\n",
       "      <th></th>\n",
       "      <th colspan=\"4\" halign=\"left\">orfid</th>\n",
       "    </tr>\n",
       "    <tr>\n",
       "      <th>short</th>\n",
       "      <th colspan=\"2\" halign=\"left\">False</th>\n",
       "      <th colspan=\"2\" halign=\"left\">True</th>\n",
       "    </tr>\n",
       "    <tr>\n",
       "      <th>ms_detected</th>\n",
       "      <th>False</th>\n",
       "      <th>True</th>\n",
       "      <th>False</th>\n",
       "      <th>True</th>\n",
       "    </tr>\n",
       "    <tr>\n",
       "      <th>otype</th>\n",
       "      <th></th>\n",
       "      <th></th>\n",
       "      <th></th>\n",
       "      <th></th>\n",
       "    </tr>\n",
       "  </thead>\n",
       "  <tbody>\n",
       "    <tr>\n",
       "      <th>Annotated</th>\n",
       "      <td>399.0</td>\n",
       "      <td>1163.0</td>\n",
       "      <td>166.0</td>\n",
       "      <td>195.0</td>\n",
       "    </tr>\n",
       "    <tr>\n",
       "      <th>Antisense</th>\n",
       "      <td>425.0</td>\n",
       "      <td>2.0</td>\n",
       "      <td>13000.0</td>\n",
       "      <td>5.0</td>\n",
       "    </tr>\n",
       "    <tr>\n",
       "      <th>In Frame</th>\n",
       "      <td>475.0</td>\n",
       "      <td>NaN</td>\n",
       "      <td>1288.0</td>\n",
       "      <td>NaN</td>\n",
       "    </tr>\n",
       "    <tr>\n",
       "      <th>Intergenic</th>\n",
       "      <td>11.0</td>\n",
       "      <td>1.0</td>\n",
       "      <td>4603.0</td>\n",
       "      <td>12.0</td>\n",
       "    </tr>\n",
       "    <tr>\n",
       "      <th>Out of Frame</th>\n",
       "      <td>96.0</td>\n",
       "      <td>5.0</td>\n",
       "      <td>8442.0</td>\n",
       "      <td>1.0</td>\n",
       "    </tr>\n",
       "  </tbody>\n",
       "</table>\n",
       "</div>"
      ],
      "text/plain": [
       "              orfid                        \n",
       "short         False            True        \n",
       "ms_detected   False   True     False  True \n",
       "otype                                      \n",
       "Annotated     399.0  1163.0    166.0  195.0\n",
       "Antisense     425.0     2.0  13000.0    5.0\n",
       "In Frame      475.0     NaN   1288.0    NaN\n",
       "Intergenic     11.0     1.0   4603.0   12.0\n",
       "Out of Frame   96.0     5.0   8442.0    1.0"
      ]
     },
     "execution_count": 64,
     "metadata": {},
     "output_type": "execute_result"
    }
   ],
   "source": [
    "merge_df.pivot_table(index=['otype'], columns=['short', 'ms_detected', ], values=['orfid'], aggfunc='count')"
   ]
  },
  {
   "cell_type": "code",
   "execution_count": 65,
   "metadata": {},
   "outputs": [
    {
     "data": {
      "image/png": "[encoded data removed]",
      "text/plain": [
       "<Figure size 360x360 with 1 Axes>"
      ]
     },
     "metadata": {},
     "output_type": "display_data"
    },
    {
     "data": {
      "image/png": "[encoded data removed]",
      "text/plain": [
       "<Figure size 360x360 with 1 Axes>"
      ]
     },
     "metadata": {},
     "output_type": "display_data"
    }
   ],
   "source": [
    "sopaletted = ['#04347b','#802800']\n",
    "g = sns.catplot(data=merge_df.loc[merge_df.otype.isin(['Intergenic', 'Annotated']) & \n",
    "                                  merge_df.short].drop_duplicates(['orfid', 'short', 'ms_detected']),\n",
    "                #              hue='ms_detected',\n",
    "                order=soorder, palette=sopalette,\n",
    "                kind='count', x='otype')\n",
    "sns.catplot(data=merge_df.loc[merge_df.otype.isin(['Intergenic', 'Annotated']) & \n",
    "                                  merge_df.short & merge_df.ms_detected].drop_duplicates(['orfid', 'short', 'ms_detected']),\n",
    "                              #hue='ms_detected', \n",
    "                kind='count', x='otype',\n",
    "                ax=g.ax,\n",
    "                order=soorder, palette=sopaletted,\n",
    "            \n",
    "                \n",
    "               )\n",
    "g.set(yscale='log', xlabel='', ylabel='Number of Genes')\n",
    "plt.show()"
   ]
  },
  {
   "cell_type": "code",
   "execution_count": 66,
   "metadata": {},
   "outputs": [
    {
     "data": {
      "text/plain": [
       "([], <a list of 0 Text yticklabel objects>)"
      ]
     },
     "execution_count": 66,
     "metadata": {},
     "output_type": "execute_result"
    },
    {
     "data": {
      "image/png": "[encoded data removed]",
      "text/plain": [
       "<Figure size 720x720 with 1 Axes>"
      ]
     },
     "metadata": {},
     "output_type": "display_data"
    }
   ],
   "source": [
    "sns.set_context('poster')\n",
    "fig, ax = plt.subplots(figsize=(10,10))\n",
    "\n",
    "sopaletted = ['#04347b','#802800']\n",
    "t_all_df = merge_df.loc[merge_df.otype.isin(['Intergenic', 'Annotated']) & \n",
    "              merge_df.short].drop_duplicates(\n",
    "    ['orfid', 'short', 'ms_detected'\n",
    "    ]).groupby(['otype'])['orfid'].count()\n",
    "t_det_df = merge_df.loc[merge_df.otype.isin(['Intergenic', 'Annotated']) & \n",
    "               merge_df.ms_detected & merge_df.short].drop_duplicates(\n",
    "    ['orfid', 'short', 'ms_detected'\n",
    "    ]).groupby(['otype'])['orfid'].count()\n",
    "\n",
    "t_all_df, t_det_df\n",
    "ax = sns.scatterplot(x=[1,2], y=[1,1], size=[1,2], legend=False,\n",
    "                hue=[2,1], \n",
    "                size_norm=None,\n",
    "                     \n",
    "                size_order=t_all_df, palette=sopalette, sizes=30*t_all_df)\n",
    "sns.scatterplot(x=[1,2], y=[1,1], size=[1,2], legend=False, hue=[2,1], \n",
    "                size_norm=None,\n",
    "                size_order=t_det_df,  palette=sopaletted, sizes=30*t_det_df)\n",
    "sns.despine(top=True, right=True, left=True, bottom=True)\n",
    "plt.xticks([])\n",
    "plt.yticks([])\n",
    "#for x, point in zip([1,2], t_all_df.values):\n",
    "#    plt.annotate(s=point, xy=(x-0.1,0.7))\n",
    "    #ax.text(x, 0.5, point)"
   ]
  },
  {
   "cell_type": "code",
   "execution_count": 72,
   "metadata": {},
   "outputs": [
    {
     "name": "stdout",
     "output_type": "stream",
     "text": [
      "putative ORFs\n",
      "Annotated\n",
      "MS Detected\n",
      "SEP MS Detected\n",
      "Novel SEP MS Detected\n",
      "[4615, 1923, 1371, 207, 12]\n"
     ]
    },
    {
     "data": {
      "image/png": "[encoded data removed]",
      "text/plain": [
       "<Figure size 720x720 with 1 Axes>"
      ]
     },
     "metadata": {},
     "output_type": "display_data"
    }
   ],
   "source": [
    "sns.set_context('poster')\n",
    "fig, ax = plt.subplots(figsize=(10,10))\n",
    "\n",
    "sopaletted = ['#04347b','#802800']\n",
    "t_sep_all_df = merge_df.loc[merge_df.otype.isin(['Intergenic', 'Annotated']) & \n",
    "              merge_df.short].drop_duplicates(\n",
    "    ['orfid', 'short', 'ms_detected'\n",
    "    ]).groupby(['otype'])['orfid'].count()\n",
    "t_sep_det_df = merge_df.loc[merge_df.otype.isin(['Intergenic', 'Annotated']) & \n",
    "               merge_df.ms_detected & merge_df.short].drop_duplicates(\n",
    "    ['orfid', 'short', 'ms_detected'\n",
    "    ]).groupby(['otype'])['orfid'].count()\n",
    "t_all_df = merge_df.loc[merge_df.otype.isin(['Intergenic', 'Annotated'])].drop_duplicates(\n",
    "    ['orfid', 'short', 'ms_detected'\n",
    "    ]).groupby(['otype'])['orfid'].count()\n",
    "t_det_df= merge_df.loc[merge_df.otype.isin(['Intergenic', 'Annotated']) & merge_df.ms_detected].drop_duplicates(\n",
    "    ['orfid', 'short', 'ms_detected'\n",
    "    ]).groupby(['otype'])['orfid'].count()\n",
    "\n",
    "\n",
    "# 10^4 Putative smORFs\n",
    "#10^3 detected protein products\n",
    "#10^2 small protein products \n",
    "#10^1 new intergenic small protein products\n",
    "\n",
    "t_all_df, t_det_df\n",
    "\n",
    "labels=['10^4 Putative smORFs',\n",
    "'10^3 detected protein products',\n",
    "'10^2 small protein products',\n",
    "'10^1 new intergenic small protein products',\n",
    "]\n",
    "\n",
    "\n",
    "labels=['putative ORFs', 'Annotated', 'MS Detected', 'SEP MS Detected', 'Novel SEP MS Detected']\n",
    "data= [t_sep_all_df['Intergenic'], t_all_df['Annotated'], t_det_df['Intergenic']+t_det_df['Annotated'], \n",
    "       t_sep_det_df['Intergenic']+t_sep_det_df['Annotated'], t_sep_det_df['Intergenic']]\n",
    "N = len(data)\n",
    "\n",
    "base_pal = sns.color_palette('PuBuGn_r', N).as_hex()\n",
    "\n",
    "pal = [base_pal[2], base_pal[3], base_pal[0], base_pal[4], base_pal[1]]\n",
    "\n",
    "\n",
    "ax = sns.scatterplot(x=[1]*N, y=[1]*N, size=range(N), legend=False,\n",
    "                hue=range(N), \n",
    "                #size_norm=None,\n",
    "                     \n",
    "                #size_order=t_all_df,\n",
    "                     palette=pal, \n",
    "                     sizes=[50*d for d in data])\n",
    "sns.despine(top=True, right=True, left=True, bottom=True)\n",
    "plt.xticks([])\n",
    "plt.yticks([])\n",
    "#for x, point in zip([1,2], t_all_df.values):\n",
    "#    plt.annotate(s=point, xy=(x-0.1,0.7))\n",
    "    #ax.text(x, 0.5, point)\n",
    "t_all_df['Annotated']\n",
    "print('\\n'.join(labels))\n",
    "print(data)\n",
    "#print('\\n'.join(labels))\n"
   ]
  },
  {
   "cell_type": "code",
   "execution_count": null,
   "metadata": {},
   "outputs": [],
   "source": [
    "sns.color_palette('PuBuGn_r', N).as_hex()\n"
   ]
  },
  {
   "cell_type": "code",
   "execution_count": null,
   "metadata": {},
   "outputs": [],
   "source": [
    "sns.palplot(sns.color_palette('PuBuGn', N))\n"
   ]
  },
  {
   "cell_type": "code",
   "execution_count": null,
   "metadata": {},
   "outputs": [],
   "source": [
    "fig, ax = plt.subplots(figsize=(5,4))\n",
    "t= merge_df.loc[merge_df.otype.isin(['Intergenic', 'Annotated']) & merge_df.ms_detected].drop_duplicates(\n",
    "    ['orfid', 'short', 'ms_detected'\n",
    "    ]).groupby(['otype'])['orfid'].count()\n",
    "sns.barplot(y=t.index, x=t, palette=sopalette, order=soorder)\n",
    "plt.xscale('log')\n",
    "plt.xlim(1,1e4)\n",
    "sns.despine()\n",
    "plt.xlabel('Detected Protein Products')\n",
    "plt.ylabel('')\n",
    "plt.yticks([])\n",
    "t\n"
   ]
  },
  {
   "cell_type": "code",
   "execution_count": null,
   "metadata": {},
   "outputs": [],
   "source": [
    "fig, ax = plt.subplots(figsize=(5,4))\n",
    "t= merge_df.loc[merge_df.otype.isin(['Intergenic', 'Annotated']) & merge_df.ms_detected & merge_df.short\n",
    "               ].drop_duplicates(\n",
    "    ['orfid', 'short', 'ms_detected'\n",
    "    ]).groupby(['otype'])['orfid'].count()\n",
    "sns.barplot(y=t.index, x=t, palette=sopalette, order=soorder)\n",
    "plt.xscale('log')\n",
    "plt.xlim(1,1e4)\n",
    "sns.despine()\n",
    "plt.xlabel('Detected SEP Protein Products')\n",
    "plt.ylabel('')\n",
    "plt.yticks([])\n",
    "\n",
    "t\n"
   ]
  },
  {
   "cell_type": "code",
   "execution_count": null,
   "metadata": {},
   "outputs": [],
   "source": [
    "t_all_df, t_det_df\n"
   ]
  },
  {
   "cell_type": "code",
   "execution_count": null,
   "metadata": {},
   "outputs": [],
   "source": [
    "from matplotlib_venn import venn3\n",
    "fig, ax = plt.subplots(figsize=(20,10))\n",
    "\n",
    "# venn diagram\n",
    "venn3(\n",
    "    [\n",
    "    set(merge_df.loc[merge_df.otype.isin(['Intergenic']) , 'orfid']),\n",
    "    set(merge_df.loc[merge_df.otype.isin(['Intergenic']) & merge_df.ms_detected, 'orfid']),\n",
    "    set(merge_df.loc[merge_df.otype.isin(['Intergenic']) & merge_df.short, 'orfid']),\n",
    "    #set(merge_df.loc[merge_df.otype.isin(['Intergenic']) & ~merge_df.short, 'orfid']),\n",
    "    ],\n",
    "    ('intergenic', 'detected', 'SEP')\n",
    "    \n",
    ")"
   ]
  },
  {
   "cell_type": "code",
   "execution_count": null,
   "metadata": {},
   "outputs": [],
   "source": [
    "from matplotlib_venn import venn3\n",
    "fig, ax = plt.subplots(figsize=(20,10))\n",
    "\n",
    "# venn diagram\n",
    "venn3(\n",
    "    [set(merge_df.loc[merge_df.otype.isin(['Annotated']) & merge_df.short, 'orfid']),\n",
    "    set(merge_df.loc[merge_df.otype.isin(['Annotated']) & ~merge_df.short, 'orfid']),\n",
    "    set(merge_df.loc[merge_df.otype.isin(['Annotated']) & ~merge_df.ms_detected, 'orfid']),\n",
    "    ],\n",
    "    ('<100aa', '>100aa', 'detected')\n",
    "    \n",
    ")"
   ]
  },
  {
   "cell_type": "code",
   "execution_count": null,
   "metadata": {},
   "outputs": [],
   "source": [
    "sns.catplot(data=merge_df.loc[merge_df.short], x='otype', y='Unique Peptides', aspect=3, kind='swarm', order=oorder, palette=opalette,\n",
    "           )\n"
   ]
  },
  {
   "cell_type": "code",
   "execution_count": null,
   "metadata": {},
   "outputs": [],
   "source": [
    "fig, ax = plt.subplots(figsize=(20,5))\n",
    "for i,j in zip(['ProcA', 'CCRG-2', 'procM', 'CCRG-1'], ['black', 'grey', 'red', 'yellow']):\n",
    "    sns.distplot(genome_df.loc[genome_df['family'].isin([i]),\n",
    "                               'left'\n",
    "                             ], \n",
    "             color=j,\n",
    "                 bins=200,\n",
    "             label=i, rug=True, kde=False, ax=ax\n",
    "           )\n",
    "for i in [ 'Annotated', 'Antisense', \n",
    "          'In Frame', #'Out of Frame',\n",
    "          'Intergenic']:\n",
    "    sns.distplot(merge_df.loc[merge_df['short'] & merge_df.otype.isin([i])\n",
    "                         & (~merge_df.best_score.isna()), 'left'\n",
    "                             ], \n",
    "             color=opalette[oorder.index(i)],\n",
    "                 bins=200,\n",
    "             label=i, rug=True, kde=False, ax=ax\n",
    "           )\n",
    "    \n",
    "plt.xlim(0,2500000)\n",
    "plt.legend(bbox_to_anchor=(1,2))\n",
    "plt.title('protein found < 100 aa')"
   ]
  },
  {
   "cell_type": "code",
   "execution_count": null,
   "metadata": {},
   "outputs": [],
   "source": [
    "fig, ax = plt.subplots(figsize=(20,5))\n",
    "for i,j in zip(['ProcA', 'CCRG-2', 'procM', 'CCRG-1'], ['black', 'grey', 'red', 'yellow']):\n",
    "    sns.rugplot(genome_df.loc[genome_df['family'].isin([i]),\n",
    "                               'left'\n",
    "                             ], \n",
    "             color=j,\n",
    "           #      bins=200,\n",
    "             label=i, #rug=True, kde=False, \n",
    "                height=0.7,\n",
    "                linewidths=2,\n",
    "                ax=ax\n",
    "                \n",
    "           )\n",
    "for i in [ 'Annotated', 'Antisense', \n",
    "          #'In Frame', 'Out of Frame',\n",
    "          'Intergenic']:\n",
    "    sns.rugplot(merge_df.loc[merge_df['ms_detected'] & merge_df.otype.isin([i])\n",
    "                         & (merge_df.len_aa < 100), 'left'\n",
    "                             ], \n",
    "             color=opalette[oorder.index(i)],\n",
    "           #      bins=2000,\n",
    "                height=0.5,\n",
    "                linewidth=3,\n",
    "                \n",
    "             label=i, #rug=True, kde=False, \n",
    "                ax=ax\n",
    "           )\n",
    "    \n",
    "#plt.xlim(800000,1100000)\n",
    "plt.legend(bbox_to_anchor=(1,2))\n",
    "#plt.title('protein found < 100 aa')"
   ]
  },
  {
   "cell_type": "raw",
   "metadata": {},
   "source": [
    "fig, ax = plt.subplots(figsize=(20,5))\n",
    "for i,j in zip(['ProcA', 'CCRG-2', 'procM', 'CCRG-1'], ['black', 'grey', 'red', 'yellow']):\n",
    "    sns.barplot(genome_df.loc[genome_df['family'].isin([i]),\n",
    "                               'left'\n",
    "                             ], \n",
    "             color=j,\n",
    "                 bins=200,\n",
    "             label=i, rug=True, kde=False, ax=ax\n",
    "           )\n",
    "for i in [ 'Annotated', 'Antisense', \n",
    "          #'In Frame', 'Out of Frame',\n",
    "          'Intergenic']:\n",
    "    sns.barplot(merge_df.loc[merge_df['ms_detected'] & merge_df.otype.isin([i])\n",
    "                         & (merge_df.len_aa < 100), 'left'\n",
    "                             ], \n",
    "             color=opalette[oorder.index(i)],\n",
    "                 bins=2000,\n",
    "             label=i, rug=True, kde=False, ax=ax\n",
    "           )\n",
    "    \n",
    "plt.xlim(800000,1100000)\n",
    "#plt.legend(bbox_to_anchor=(1,2))\n",
    "#plt.title('protein found < 100 aa')"
   ]
  },
  {
   "cell_type": "code",
   "execution_count": null,
   "metadata": {},
   "outputs": [],
   "source": [
    "fig, ax = plt.subplots(figsize=(20,5))\n",
    "for i,j in zip(['ProcA', 'CCRG-2', 'procM', 'CCRG-1'], ['black', 'grey', 'red', 'yellow']):\n",
    "    sns.distplot(genome_df.loc[genome_df['family'].isin([i]),\n",
    "                               'left'\n",
    "                             ], \n",
    "             color=j,\n",
    "                 bins=200,\n",
    "             label=i, rug=True, kde=False, ax=ax\n",
    "           )\n",
    "for i in [ 'Annotated', 'Antisense', \n",
    "          #'In Frame', 'Out of Frame',\n",
    "          'Intergenic']:\n",
    "    sns.distplot(merge_df.loc[merge_df['ms_detected'] & merge_df.otype.isin([i])\n",
    "                         & (merge_df.len_aa < 100), 'left'\n",
    "                             ], \n",
    "             color=opalette[oorder.index(i)],\n",
    "                 bins=2000,\n",
    "             label=i, rug=True, kde=False, ax=ax\n",
    "           )\n",
    "    \n",
    "plt.xlim(200000,500000)\n",
    "#plt.legend(bbox_to_anchor=(1,2))\n",
    "#plt.title('protein found < 100 aa')"
   ]
  },
  {
   "cell_type": "code",
   "execution_count": null,
   "metadata": {},
   "outputs": [],
   "source": [
    "fig, ax = plt.subplots(figsize=(20,5))\n",
    "for i,j in zip(['ProcA', 'CCRG-2', 'procM', 'CCRG-1'], ['black', 'grey', 'red', 'yellow']):\n",
    "    sns.distplot(genome_df.loc[genome_df['family'].isin([i]),\n",
    "                               'left'\n",
    "                             ], \n",
    "             color=j,\n",
    "                 bins=200,\n",
    "             label=i, rug=True, kde=False, ax=ax\n",
    "           )\n",
    "for i in [ 'Annotated', 'Antisense', \n",
    "          #'In Frame', 'Out of Frame',\n",
    "          'Intergenic']:\n",
    "    sns.distplot(merge_df.loc[merge_df['ms_detected'] & merge_df.otype.isin([i])\n",
    "                         & (merge_df.len_aa < 100), 'left'\n",
    "                             ], \n",
    "             color=opalette[oorder.index(i)],\n",
    "                 bins=2000,\n",
    "             label=i, rug=True, kde=False, ax=ax\n",
    "           )\n",
    "    \n",
    "plt.xlim(2100000,2300000)\n",
    "#plt.legend(bbox_to_anchor=(1,2))\n",
    "#plt.title('protein found < 100 aa')"
   ]
  },
  {
   "cell_type": "code",
   "execution_count": null,
   "metadata": {},
   "outputs": [],
   "source": [
    "genome_df['family'].unique()"
   ]
  },
  {
   "cell_type": "code",
   "execution_count": null,
   "metadata": {},
   "outputs": [],
   "source": [
    "fig, ax = plt.subplots(figsize=(20,5))\n",
    "for i,j in zip(['ProcA', 'CCRG-2', 'procM', 'CCRG-1'], ['black', 'grey', 'red', 'yellow']):\n",
    "    sns.distplot(genome_df.loc[genome_df['family'].isin([i]),\n",
    "                         #& (merge_df.len_aa < 100), \n",
    "                               'left'\n",
    "                             ], \n",
    "             color=j,\n",
    "                 bins=200,\n",
    "             label=i, rug=True, kde=False, ax=ax\n",
    "           )\n",
    "plt.xlim(0,2500000)\n",
    "#plt.legend()"
   ]
  },
  {
   "cell_type": "code",
   "execution_count": null,
   "metadata": {},
   "outputs": [],
   "source": [
    "genome_df.head()"
   ]
  },
  {
   "cell_type": "code",
   "execution_count": null,
   "metadata": {},
   "outputs": [],
   "source": [
    "merge_df.loc[~merge_df['best_score'].isna() #& merge_df.otype.isin([i])\n",
    "                         & (merge_df.len_aa < 100), 'otype'].value_counts()\n"
   ]
  },
  {
   "cell_type": "code",
   "execution_count": null,
   "metadata": {},
   "outputs": [],
   "source": []
  },
  {
   "cell_type": "code",
   "execution_count": null,
   "metadata": {},
   "outputs": [],
   "source": [
    "merge_df.loc[~merge_df['best_score'].isna()#& merge_df.otype.isin([i])\n",
    "                         & (merge_df.len_aa < 100)].groupby(['otype', 'family'])['Unique Peptides'].count()\n",
    "             #,'family'].value_counts()\n"
   ]
  },
  {
   "cell_type": "code",
   "execution_count": null,
   "metadata": {},
   "outputs": [],
   "source": [
    "found_sorf_df = merge_df.loc[merge_df['ms_detected'] & ~merge_df.otype.isin(['Out Frame'])\n",
    "                             & (merge_df.len_aa < 100)\n",
    "                             & (\n",
    "                                 ~merge_df.otype.isin(['In Frame']) \n",
    "                                 | (merge_df.aa_sequence_overlap.str.len() < 100)\n",
    "                             )\n",
    "                            ].drop_duplicates( ['orfid', 'short', 'ms_detected'])"
   ]
  },
  {
   "cell_type": "code",
   "execution_count": null,
   "metadata": {},
   "outputs": [],
   "source": [
    "found_sorf_df.shape"
   ]
  },
  {
   "cell_type": "code",
   "execution_count": null,
   "metadata": {},
   "outputs": [],
   "source": [
    "found_sorf_df.to_pickle('found_sorf_ISME16_David.pkl.gz')"
   ]
  },
  {
   "cell_type": "code",
   "execution_count": null,
   "metadata": {},
   "outputs": [],
   "source": []
  },
  {
   "cell_type": "code",
   "execution_count": null,
   "metadata": {},
   "outputs": [],
   "source": []
  },
  {
   "cell_type": "code",
   "execution_count": null,
   "metadata": {},
   "outputs": [],
   "source": [
    "stop"
   ]
  },
  {
   "cell_type": "code",
   "execution_count": null,
   "metadata": {},
   "outputs": [],
   "source": [
    "found_sorf_df = pd.read_pickle('found_sorf_ISME16.pkl.gz')"
   ]
  },
  {
   "cell_type": "code",
   "execution_count": null,
   "metadata": {},
   "outputs": [],
   "source": [
    "mdf = merge_df.dropna(subset=['best_score'])"
   ]
  },
  {
   "cell_type": "code",
   "execution_count": null,
   "metadata": {},
   "outputs": [],
   "source": [
    "found_orfids = found_sorf_df.orfid"
   ]
  },
  {
   "cell_type": "code",
   "execution_count": null,
   "metadata": {},
   "outputs": [],
   "source": [
    "mdf.loc[~mdf.orfid.isin(found_orfids) & mdf.short & mdf.ms_detected].drop_duplicates().otype.value_counts().plot(kind='bar')\n",
    "plt.title('newly found peptides')"
   ]
  },
  {
   "cell_type": "code",
   "execution_count": null,
   "metadata": {},
   "outputs": [],
   "source": [
    "sns.catplot(data=mdf.loc[~mdf.orfid.isin(found_orfids) & mdf.short].drop_duplicates(),\n",
    "            x='otype', kind='count', hue='ms_detected',aspect=2)\n"
   ]
  },
  {
   "cell_type": "code",
   "execution_count": null,
   "metadata": {},
   "outputs": [],
   "source": [
    "found_sorf_df.loc[~found_sorf_df.orfid.isin(mdf.orfid)].otype.value_counts()"
   ]
  },
  {
   "cell_type": "code",
   "execution_count": null,
   "metadata": {},
   "outputs": [],
   "source": [
    "mdf['is_found_technion'] = mdf.orfid.isin(found_orfids)"
   ]
  },
  {
   "cell_type": "code",
   "execution_count": null,
   "metadata": {},
   "outputs": [],
   "source": [
    "sns.set_context('talk')\n",
    "g = sns.relplot(data=mdf.loc[mdf.short], y='log_prob', x='len_aa', hue='otype',  hue_order=oorder, \n",
    "            palette=opalette, col='is_found_technion', row='ms_detected',\n",
    "            size='Unique Peptides',# s=30,\n",
    "           facet_kws=dict(margin_titles=True),\n",
    " #          facet_kws=dict(#sharey=False, \n",
    " #              sharex=False)\n",
    "           )\n",
    "#g.axes.flat[0].set_xticks([0,1000,2000]) # set new labels"
   ]
  },
  {
   "cell_type": "code",
   "execution_count": null,
   "metadata": {},
   "outputs": [],
   "source": [
    "sns.set_context('talk')\n",
    "g = sns.relplot(data=mdf.loc[mdf.short].drop_duplicates(), y='best_score', x='len_aa', hue='otype',  hue_order=oorder, \n",
    "            palette=opalette, col='is_found_technion', row='ms_detected',\n",
    "            size='Unique Peptides',# s=30,\n",
    "           facet_kws=dict(margin_titles=True),\n",
    "                #sharey=False, \n",
    " #              sharex=False)\n",
    "           )\n",
    "for ax in g.axes.flat:\n",
    "    ax.axhline(500, color='black', ls='--')\n",
    "#g.axes.flat[0].set_xticks([0,1000,2000]) # set new labels"
   ]
  },
  {
   "cell_type": "code",
   "execution_count": null,
   "metadata": {},
   "outputs": [],
   "source": [
    "mdf.loc[mdf.ms_detected & mdf.is_found_technion, 'status']  = 'Detected'\n",
    "mdf.loc[mdf.ms_detected & ~mdf.is_found_technion, 'status']  = 'Detected, new'\n",
    "mdf.loc[~mdf.ms_detected , 'status']  = 'Not Detected'"
   ]
  },
  {
   "cell_type": "code",
   "execution_count": null,
   "metadata": {},
   "outputs": [],
   "source": [
    "sns.catplot(data=mdf.loc[mdf.short].drop_duplicates(), hue='otype', kind='count', x='status', \n",
    "            hue_order=oorder, palette=opalette, aspect=1.6\n",
    "            \n",
    "           )"
   ]
  },
  {
   "cell_type": "code",
   "execution_count": null,
   "metadata": {},
   "outputs": [],
   "source": [
    "mdf.loc[mdf.status.isin(['Not Detected']) & mdf.short,\n",
    "        [\n",
    "        'otype',\n",
    "        #'product', \n",
    "            'Description',\n",
    "         #'log_prob', 'best log prob',\n",
    "       'best_score', #'total_intensity', 'num_spectra', 'Unique Peptides',\n",
    "       #'mod_peptides', 'Coverage', 'AAs',\n",
    "        #'is_found_before',\n",
    "       ]].sort_values('best_score', ascending=False).drop_duplicates()"
   ]
  },
  {
   "cell_type": "code",
   "execution_count": null,
   "metadata": {},
   "outputs": [],
   "source": [
    "mdf.columns\n"
   ]
  },
  {
   "cell_type": "code",
   "execution_count": null,
   "metadata": {},
   "outputs": [],
   "source": [
    "980*0.1"
   ]
  },
  {
   "cell_type": "code",
   "execution_count": null,
   "metadata": {},
   "outputs": [],
   "source": [
    "mdf = mdf.drop_duplicates()"
   ]
  },
  {
   "cell_type": "code",
   "execution_count": null,
   "metadata": {},
   "outputs": [],
   "source": [
    "mdf.loc[mdf.short & mdf.ms_detected].to_pickle('found_sorf_ISME16_David.pkl.gz')"
   ]
  },
  {
   "cell_type": "code",
   "execution_count": null,
   "metadata": {},
   "outputs": [],
   "source": []
  }
 ],
 "metadata": {
  "kernelspec": {
   "display_name": "Python 3",
   "language": "python",
   "name": "python3"
  },
  "language_info": {
   "codemirror_mode": {
    "name": "ipython",
    "version": 3
   },
   "file_extension": ".py",
   "mimetype": "text/x-python",
   "name": "python",
   "nbconvert_exporter": "python",
   "pygments_lexer": "ipython3",
   "version": "3.7.1"
  }
 },
 "nbformat": 4,
 "nbformat_minor": 2
}
